{
 "cells": [
  {
   "cell_type": "markdown",
   "metadata": {},
   "source": [
    "## Introduction\n",
    "\n",
    "Netflix is an American, subscription-based service offering online streaming from a library of films and television series, including those produced in-house. Similar to Netflix, Disney Plus service distributes films and television series produced by The Walt Disney Studios and Walt Disney Television and is one of the biggest competitor of Netflix. \n",
    "\n",
    "Due to Covid, there has been a tremendous increase in usage of OTT platform as cinemas were shut down and more people were staying home.\n",
    "\n",
    "## Problem Statement\n",
    "\n",
    "As more people are shifting towards OTT platform, we would like to get more insights in the similarities and differences between two of the most competitive online streaming platforms - Netflix and Disneyplus. This analysis would help understand users which platform is more suitable for them and hence which one they would like to choose.\n",
    "\n",
    "**This notebook contains building and evaluation of models.**\n",
    "\n",
    "\n",
    "### Contents\n",
    "\n",
    "- [Import Combined Data](#Import-Combined-Data)\n",
    "- [Train Test Split](#Train-Test-Split)\n",
    "- [Modellinng](#Modelling)\n",
    "    - [CountVectorizer & Logistic Regression](#Countvectorizer-and-Logistic-Regression)\n",
    "    - [TfidfVectorizer & Logistic Regression](#TfidfVectorizer-and-Logistic-Regression)\n",
    "    - [CountVectorizer & Naive Bayes](#CountVectorizer-and-Naive-Bayes)\n",
    "    - [Countvectorizer & Random Forest Tree](#Countvectorizer-and-Random-Forest-Tree)\n",
    "- [Model Comparison](#Model-Comparison)\n",
    "- [Feature Importance](#Feature-Importance)\n",
    "- [CountVectorizer & Random Forest With Additional Stopwords](#CountVectorizer-and-Random-Forest-With-Additional-Stopwords)\n",
    "- [CountVectorizer & Naive Bayes With Additional Stopwords](#CountVectorizer-and-Naive-Bayes-With-Additional-Stopwords)\n",
    "- [Test Predictions](#Test-Predictions)\n",
    "- [Conclusion & Recommendations](#Conclusion-and-Recommendations)"
   ]
  },
  {
   "cell_type": "code",
   "execution_count": 1,
   "metadata": {},
   "outputs": [],
   "source": [
    "import pandas as pd\n",
    "import numpy as np\n",
    "import matplotlib.pyplot as plt\n",
    "from tabulate import tabulate\n",
    "\n",
    "from sklearn.linear_model import LogisticRegression\n",
    "from sklearn.neighbors import KNeighborsClassifier\n",
    "from sklearn.model_selection import train_test_split, GridSearchCV\n",
    "from sklearn.pipeline import Pipeline\n",
    "from sklearn.feature_extraction.text import CountVectorizer, TfidfVectorizer\n",
    "from sklearn.naive_bayes import MultinomialNB\n",
    "from sklearn.metrics import confusion_matrix, plot_confusion_matrix\n",
    "from sklearn.ensemble import RandomForestClassifier\n",
    "\n",
    "from nltk.corpus import stopwords"
   ]
  },
  {
   "cell_type": "markdown",
   "metadata": {},
   "source": [
    "## Import Combined Data"
   ]
  },
  {
   "cell_type": "markdown",
   "metadata": {},
   "source": [
    "In previous notebook, we have cleaned and processed the data. Now here we will create few models and compare across them. <br>\n",
    "First we will load the combined Netflix and Disney plus data."
   ]
  },
  {
   "cell_type": "code",
   "execution_count": 2,
   "metadata": {},
   "outputs": [],
   "source": [
    "netflix_disneyplus = pd.read_csv('../Data/Netflix_DisneyPlus_Cleaned.csv')"
   ]
  },
  {
   "cell_type": "code",
   "execution_count": 3,
   "metadata": {},
   "outputs": [
    {
     "data": {
      "text/plain": [
       "(1276, 3)"
      ]
     },
     "execution_count": 3,
     "metadata": {},
     "output_type": "execute_result"
    }
   ],
   "source": [
    "netflix_disneyplus.shape"
   ]
  },
  {
   "cell_type": "code",
   "execution_count": 4,
   "metadata": {},
   "outputs": [
    {
     "data": {
      "text/html": [
       "<div>\n",
       "<style scoped>\n",
       "    .dataframe tbody tr th:only-of-type {\n",
       "        vertical-align: middle;\n",
       "    }\n",
       "\n",
       "    .dataframe tbody tr th {\n",
       "        vertical-align: top;\n",
       "    }\n",
       "\n",
       "    .dataframe thead th {\n",
       "        text-align: right;\n",
       "    }\n",
       "</style>\n",
       "<table border=\"1\" class=\"dataframe\">\n",
       "  <thead>\n",
       "    <tr style=\"text-align: right;\">\n",
       "      <th></th>\n",
       "      <th>selftext/title</th>\n",
       "      <th>cleaned_text</th>\n",
       "      <th>subreddit</th>\n",
       "    </tr>\n",
       "  </thead>\n",
       "  <tbody>\n",
       "    <tr>\n",
       "      <th>0</th>\n",
       "      <td>Netflix now allows you to remove a movie/seri...</td>\n",
       "      <td>allow remov movi seri continu watch row</td>\n",
       "      <td>0</td>\n",
       "    </tr>\n",
       "    <tr>\n",
       "      <th>1</th>\n",
       "      <td>Hello everyone, 8 years ago we woke up one day...</td>\n",
       "      <td>hello everyon year ago woke one day found one ...</td>\n",
       "      <td>0</td>\n",
       "    </tr>\n",
       "    <tr>\n",
       "      <th>2</th>\n",
       "      <td>STUDY: Majority of U.S. Parents Feel Guilty A...</td>\n",
       "      <td>studi major u parent feel guilti kid screen time</td>\n",
       "      <td>0</td>\n",
       "    </tr>\n",
       "    <tr>\n",
       "      <th>3</th>\n",
       "      <td>Looks like someone is trying to use Netflix a...</td>\n",
       "      <td>look like someon tri use platform send weird m...</td>\n",
       "      <td>0</td>\n",
       "    </tr>\n",
       "    <tr>\n",
       "      <th>4</th>\n",
       "      <td>Ozark season 4: Agent Maya Miller star shares...</td>\n",
       "      <td>ozark season agent maya miller star share firs...</td>\n",
       "      <td>0</td>\n",
       "    </tr>\n",
       "  </tbody>\n",
       "</table>\n",
       "</div>"
      ],
      "text/plain": [
       "                                      selftext/title  \\\n",
       "0   Netflix now allows you to remove a movie/seri...   \n",
       "1  Hello everyone, 8 years ago we woke up one day...   \n",
       "2   STUDY: Majority of U.S. Parents Feel Guilty A...   \n",
       "3   Looks like someone is trying to use Netflix a...   \n",
       "4   Ozark season 4: Agent Maya Miller star shares...   \n",
       "\n",
       "                                        cleaned_text  subreddit  \n",
       "0            allow remov movi seri continu watch row          0  \n",
       "1  hello everyon year ago woke one day found one ...          0  \n",
       "2   studi major u parent feel guilti kid screen time          0  \n",
       "3  look like someon tri use platform send weird m...          0  \n",
       "4  ozark season agent maya miller star share firs...          0  "
      ]
     },
     "execution_count": 4,
     "metadata": {},
     "output_type": "execute_result"
    }
   ],
   "source": [
    "netflix_disneyplus.head()"
   ]
  },
  {
   "cell_type": "code",
   "execution_count": 5,
   "metadata": {},
   "outputs": [
    {
     "data": {
      "text/plain": [
       "1    669\n",
       "0    607\n",
       "Name: subreddit, dtype: int64"
      ]
     },
     "execution_count": 5,
     "metadata": {},
     "output_type": "execute_result"
    }
   ],
   "source": [
    "netflix_disneyplus['subreddit'].value_counts()"
   ]
  },
  {
   "cell_type": "markdown",
   "metadata": {},
   "source": [
    "Above we can see that, the data is not too biased which is appropriate when we create our models."
   ]
  },
  {
   "cell_type": "markdown",
   "metadata": {},
   "source": [
    "## Train/Test Split"
   ]
  },
  {
   "cell_type": "markdown",
   "metadata": {},
   "source": [
    "We have cleaned text which contains the cleaned and combined version of selftext and title data. This will be our feature on which we will build our models.<br>\n",
    "We would like to classify the subreddits, so our target would be subreddit."
   ]
  },
  {
   "cell_type": "code",
   "execution_count": 6,
   "metadata": {},
   "outputs": [],
   "source": [
    "X = netflix_disneyplus['cleaned_text']\n",
    "y = netflix_disneyplus['subreddit']"
   ]
  },
  {
   "cell_type": "code",
   "execution_count": 7,
   "metadata": {},
   "outputs": [],
   "source": [
    "X_train, X_test, y_train, y_test = train_test_split(X, y, \n",
    "                                                    stratify = y, \n",
    "                                                    random_state=42)"
   ]
  },
  {
   "cell_type": "code",
   "execution_count": 8,
   "metadata": {},
   "outputs": [
    {
     "name": "stdout",
     "output_type": "stream",
     "text": [
      "(957,) (957,) (319,) (319,)\n"
     ]
    }
   ],
   "source": [
    "print(X_train.shape, y_train.shape, X_test.shape, y_test.shape)"
   ]
  },
  {
   "cell_type": "code",
   "execution_count": 9,
   "metadata": {},
   "outputs": [
    {
     "data": {
      "text/plain": [
       "1    0.524556\n",
       "0    0.475444\n",
       "Name: subreddit, dtype: float64"
      ]
     },
     "execution_count": 9,
     "metadata": {},
     "output_type": "execute_result"
    }
   ],
   "source": [
    "y_train.value_counts(normalize=True)"
   ]
  },
  {
   "cell_type": "code",
   "execution_count": 10,
   "metadata": {},
   "outputs": [
    {
     "data": {
      "text/plain": [
       "1    0.523511\n",
       "0    0.476489\n",
       "Name: subreddit, dtype: float64"
      ]
     },
     "execution_count": 10,
     "metadata": {},
     "output_type": "execute_result"
    }
   ],
   "source": [
    "y_test.value_counts(normalize=True)"
   ]
  },
  {
   "cell_type": "markdown",
   "metadata": {},
   "source": [
    "As we have used stratify on our target while splitting data in train and test, the data is distributed fairly in both datasets."
   ]
  },
  {
   "cell_type": "markdown",
   "metadata": {},
   "source": [
    "## Modelling\n",
    "\n",
    "We will try different models with our train and test data and compare the scores to understand and choose the best model. We will use Pipeline and Gridsearch to choose the best hyperparameters.\n",
    "\n",
    "\n",
    "### Count Vectorizer & LogisticRegression"
   ]
  },
  {
   "cell_type": "code",
   "execution_count": 11,
   "metadata": {},
   "outputs": [],
   "source": [
    "pipe_cv_lr = Pipeline([\n",
    "    ('cvec', CountVectorizer()),\n",
    "    ('lr', LogisticRegression())\n",
    "])"
   ]
  },
  {
   "cell_type": "code",
   "execution_count": 12,
   "metadata": {},
   "outputs": [],
   "source": [
    "params_cv_lr = {\n",
    "    'cvec__max_features': [3000, 4000, 5000, 6000],\n",
    "    'cvec__min_df': [1, 2, 3],\n",
    "    'cvec__max_df': [0.90, 0.95, 0.98],\n",
    "    'cvec__ngram_range': [(1,1), (1,2), (1,3)],\n",
    "    'lr__C': [0.5, 0.8, 1]\n",
    "}"
   ]
  },
  {
   "cell_type": "code",
   "execution_count": 13,
   "metadata": {},
   "outputs": [],
   "source": [
    "gs_cv_lr = GridSearchCV(pipe_cv_lr,\n",
    "                  param_grid=params_cv_lr,\n",
    "                  cv=5)"
   ]
  },
  {
   "cell_type": "code",
   "execution_count": 14,
   "metadata": {},
   "outputs": [
    {
     "data": {
      "text/plain": [
       "GridSearchCV(cv=5,\n",
       "             estimator=Pipeline(steps=[('cvec', CountVectorizer()),\n",
       "                                       ('lr', LogisticRegression())]),\n",
       "             param_grid={'cvec__max_df': [0.9, 0.95, 0.98],\n",
       "                         'cvec__max_features': [3000, 4000, 5000, 6000],\n",
       "                         'cvec__min_df': [1, 2, 3],\n",
       "                         'cvec__ngram_range': [(1, 1), (1, 2), (1, 3)],\n",
       "                         'lr__C': [0.5, 0.8, 1]})"
      ]
     },
     "execution_count": 14,
     "metadata": {},
     "output_type": "execute_result"
    }
   ],
   "source": [
    "gs_cv_lr.fit(X_train, y_train)"
   ]
  },
  {
   "cell_type": "code",
   "execution_count": 15,
   "metadata": {},
   "outputs": [
    {
     "data": {
      "text/plain": [
       "{'cvec__max_df': 0.9,\n",
       " 'cvec__max_features': 5000,\n",
       " 'cvec__min_df': 1,\n",
       " 'cvec__ngram_range': (1, 2),\n",
       " 'lr__C': 0.5}"
      ]
     },
     "execution_count": 15,
     "metadata": {},
     "output_type": "execute_result"
    }
   ],
   "source": [
    "gs_cv_lr.best_params_"
   ]
  },
  {
   "cell_type": "code",
   "execution_count": 16,
   "metadata": {},
   "outputs": [],
   "source": [
    "best_cvec_lr = gs_cv_lr.best_estimator_"
   ]
  },
  {
   "cell_type": "code",
   "execution_count": 17,
   "metadata": {},
   "outputs": [
    {
     "data": {
      "text/plain": [
       "0.9916405433646813"
      ]
     },
     "execution_count": 17,
     "metadata": {},
     "output_type": "execute_result"
    }
   ],
   "source": [
    "cvlog_train_score = best_cvec_lr.score(X_train, y_train)\n",
    "cvlog_train_score"
   ]
  },
  {
   "cell_type": "code",
   "execution_count": 18,
   "metadata": {},
   "outputs": [
    {
     "data": {
      "text/plain": [
       "0.799373040752351"
      ]
     },
     "execution_count": 18,
     "metadata": {},
     "output_type": "execute_result"
    }
   ],
   "source": [
    "cvlog_test_score = best_cvec_lr.score(X_test, y_test)\n",
    "cvlog_test_score"
   ]
  },
  {
   "cell_type": "markdown",
   "metadata": {},
   "source": [
    "The accuracy for train data is about 99% which drops to 79% for test data. <br>\n",
    "As we compare the scores for train and test data for the model using Countvectorizer and Logistic Regression, we can say that though the model has very good accuracy score for train data, it is way overfitting. "
   ]
  },
  {
   "cell_type": "markdown",
   "metadata": {},
   "source": [
    "### TfidfVectorizer & LogisticRegression"
   ]
  },
  {
   "cell_type": "code",
   "execution_count": 19,
   "metadata": {},
   "outputs": [],
   "source": [
    "pipe_tf_lr = Pipeline([\n",
    "    ('tvec', TfidfVectorizer()),\n",
    "    ('lr', LogisticRegression())\n",
    "])"
   ]
  },
  {
   "cell_type": "code",
   "execution_count": 20,
   "metadata": {},
   "outputs": [],
   "source": [
    "params_tf_lr = {\n",
    "    'tvec__max_features': [3000, 4000, 5000, 6000],\n",
    "    'tvec__min_df': [1, 2, 3],\n",
    "    'tvec__max_df': [0.90, 0.95, 0.98],\n",
    "    'tvec__ngram_range': [(1,1), (1,2), (1,3)],\n",
    "    'lr__C': [0.4, 0.8, 1]\n",
    "}"
   ]
  },
  {
   "cell_type": "code",
   "execution_count": 21,
   "metadata": {},
   "outputs": [],
   "source": [
    "gs_tf_lr = GridSearchCV(pipe_tf_lr,\n",
    "                     param_grid=params_tf_lr,\n",
    "                     cv = 5)"
   ]
  },
  {
   "cell_type": "code",
   "execution_count": 22,
   "metadata": {},
   "outputs": [
    {
     "data": {
      "text/plain": [
       "GridSearchCV(cv=5,\n",
       "             estimator=Pipeline(steps=[('tvec', TfidfVectorizer()),\n",
       "                                       ('lr', LogisticRegression())]),\n",
       "             param_grid={'lr__C': [0.4, 0.8, 1],\n",
       "                         'tvec__max_df': [0.9, 0.95, 0.98],\n",
       "                         'tvec__max_features': [3000, 4000, 5000, 6000],\n",
       "                         'tvec__min_df': [1, 2, 3],\n",
       "                         'tvec__ngram_range': [(1, 1), (1, 2), (1, 3)]})"
      ]
     },
     "execution_count": 22,
     "metadata": {},
     "output_type": "execute_result"
    }
   ],
   "source": [
    "gs_tf_lr.fit(X_train, y_train)"
   ]
  },
  {
   "cell_type": "code",
   "execution_count": 23,
   "metadata": {},
   "outputs": [
    {
     "data": {
      "text/plain": [
       "{'lr__C': 1,\n",
       " 'tvec__max_df': 0.9,\n",
       " 'tvec__max_features': 5000,\n",
       " 'tvec__min_df': 2,\n",
       " 'tvec__ngram_range': (1, 2)}"
      ]
     },
     "execution_count": 23,
     "metadata": {},
     "output_type": "execute_result"
    }
   ],
   "source": [
    "gs_tf_lr.best_params_"
   ]
  },
  {
   "cell_type": "code",
   "execution_count": 24,
   "metadata": {},
   "outputs": [],
   "source": [
    "best_tvec_lr = gs_tf_lr.best_estimator_"
   ]
  },
  {
   "cell_type": "code",
   "execution_count": 25,
   "metadata": {},
   "outputs": [
    {
     "data": {
      "text/plain": [
       "0.9623824451410659"
      ]
     },
     "execution_count": 25,
     "metadata": {},
     "output_type": "execute_result"
    }
   ],
   "source": [
    "tflog_train_score = best_tvec_lr.score(X_train, y_train)\n",
    "tflog_train_score"
   ]
  },
  {
   "cell_type": "code",
   "execution_count": 26,
   "metadata": {},
   "outputs": [
    {
     "data": {
      "text/plain": [
       "0.8056426332288401"
      ]
     },
     "execution_count": 26,
     "metadata": {},
     "output_type": "execute_result"
    }
   ],
   "source": [
    "tflog_test_score = best_tvec_lr.score(X_test, y_test)\n",
    "tflog_test_score"
   ]
  },
  {
   "cell_type": "markdown",
   "metadata": {},
   "source": [
    "The accuracy score for train and test data is about 96% and 80% respectively.<br>\n",
    "If we compare the accuracy scores of the TfidfVectorizer and Logistic Regression model with the previous model, we can say that accuracy score dropped for train data but it increased for test data. Hence it is less overfitting from previous model."
   ]
  },
  {
   "cell_type": "markdown",
   "metadata": {},
   "source": [
    "### CountVectorizer & Naive Bayes"
   ]
  },
  {
   "cell_type": "code",
   "execution_count": 27,
   "metadata": {},
   "outputs": [],
   "source": [
    "pipe_cv_nb = Pipeline([\n",
    "    ('cvec' , CountVectorizer()),\n",
    "    ('nb', MultinomialNB())\n",
    "])"
   ]
  },
  {
   "cell_type": "code",
   "execution_count": 28,
   "metadata": {},
   "outputs": [],
   "source": [
    "params_cv_nb = {\n",
    "    'cvec__max_features': [3000, 4000, 5000, 6000],\n",
    "    'cvec__min_df': [1, 2, 3],\n",
    "    'cvec__max_df': [0.90, 0.95, 0.98],\n",
    "    'cvec__ngram_range': [(1,1), (1,2), (1,3)],\n",
    "    'nb__alpha': [0.8, 1, 1.2]\n",
    "}"
   ]
  },
  {
   "cell_type": "code",
   "execution_count": 29,
   "metadata": {},
   "outputs": [],
   "source": [
    "gs_cv_nb = GridSearchCV(pipe_cv_nb,\n",
    "                        param_grid=params_cv_nb,\n",
    "                        cv = 5)"
   ]
  },
  {
   "cell_type": "code",
   "execution_count": 30,
   "metadata": {},
   "outputs": [
    {
     "data": {
      "text/plain": [
       "GridSearchCV(cv=5,\n",
       "             estimator=Pipeline(steps=[('cvec', CountVectorizer()),\n",
       "                                       ('nb', MultinomialNB())]),\n",
       "             param_grid={'cvec__max_df': [0.9, 0.95, 0.98],\n",
       "                         'cvec__max_features': [3000, 4000, 5000, 6000],\n",
       "                         'cvec__min_df': [1, 2, 3],\n",
       "                         'cvec__ngram_range': [(1, 1), (1, 2), (1, 3)],\n",
       "                         'nb__alpha': [0.8, 1, 1.2]})"
      ]
     },
     "execution_count": 30,
     "metadata": {},
     "output_type": "execute_result"
    }
   ],
   "source": [
    "gs_cv_nb.fit(X_train, y_train)"
   ]
  },
  {
   "cell_type": "code",
   "execution_count": 31,
   "metadata": {},
   "outputs": [
    {
     "data": {
      "text/plain": [
       "{'cvec__max_df': 0.9,\n",
       " 'cvec__max_features': 4000,\n",
       " 'cvec__min_df': 2,\n",
       " 'cvec__ngram_range': (1, 2),\n",
       " 'nb__alpha': 0.8}"
      ]
     },
     "execution_count": 31,
     "metadata": {},
     "output_type": "execute_result"
    }
   ],
   "source": [
    "gs_cv_nb.best_params_"
   ]
  },
  {
   "cell_type": "code",
   "execution_count": 32,
   "metadata": {},
   "outputs": [],
   "source": [
    "best_cv_nb = gs_cv_nb.best_estimator_"
   ]
  },
  {
   "cell_type": "code",
   "execution_count": 33,
   "metadata": {},
   "outputs": [
    {
     "data": {
      "text/plain": [
       "0.9310344827586207"
      ]
     },
     "execution_count": 33,
     "metadata": {},
     "output_type": "execute_result"
    }
   ],
   "source": [
    "naive_train_score = best_cv_nb.score(X_train, y_train)\n",
    "naive_train_score"
   ]
  },
  {
   "cell_type": "code",
   "execution_count": 34,
   "metadata": {},
   "outputs": [
    {
     "data": {
      "text/plain": [
       "0.799373040752351"
      ]
     },
     "execution_count": 34,
     "metadata": {},
     "output_type": "execute_result"
    }
   ],
   "source": [
    "naive_test_score = best_cv_nb.score(X_test, y_test)\n",
    "naive_test_score"
   ]
  },
  {
   "cell_type": "markdown",
   "metadata": {},
   "source": [
    "The accuracy score for train and test data is abut 93% and 79% respectively.\n",
    "Though the scores have dropped but Countvectorizer and Naive bayes model is less over fitting as compared to both the above models."
   ]
  },
  {
   "cell_type": "markdown",
   "metadata": {},
   "source": [
    "### Countvectorizer & Random Forest Tree"
   ]
  },
  {
   "cell_type": "code",
   "execution_count": 35,
   "metadata": {},
   "outputs": [],
   "source": [
    "pipe_cv_rf = Pipeline([\n",
    "    ('cvec', CountVectorizer()),\n",
    "    ('rf', RandomForestClassifier())\n",
    "])"
   ]
  },
  {
   "cell_type": "code",
   "execution_count": 36,
   "metadata": {},
   "outputs": [],
   "source": [
    "params_cv_rf = {\n",
    "    'cvec__max_features': [3000, 4000, 5000, 6000],\n",
    "    'cvec__min_df': [1, 2, 3],\n",
    "    'cvec__max_df': [0.90, 0.95, 0.98],\n",
    "    'cvec__ngram_range': [(1,1), (1,2), (1,3)],\n",
    "    'rf__n_estimators': [50, 100, 200],\n",
    "    'rf__max_depth': [5, 10, 15]\n",
    "}"
   ]
  },
  {
   "cell_type": "code",
   "execution_count": 37,
   "metadata": {},
   "outputs": [],
   "source": [
    "gs_cv_rf = GridSearchCV(pipe_cv_rf, param_grid=params_cv_rf, cv=5)"
   ]
  },
  {
   "cell_type": "code",
   "execution_count": 38,
   "metadata": {},
   "outputs": [
    {
     "data": {
      "text/plain": [
       "GridSearchCV(cv=5,\n",
       "             estimator=Pipeline(steps=[('cvec', CountVectorizer()),\n",
       "                                       ('rf', RandomForestClassifier())]),\n",
       "             param_grid={'cvec__max_df': [0.9, 0.95, 0.98],\n",
       "                         'cvec__max_features': [3000, 4000, 5000, 6000],\n",
       "                         'cvec__min_df': [1, 2, 3],\n",
       "                         'cvec__ngram_range': [(1, 1), (1, 2), (1, 3)],\n",
       "                         'rf__max_depth': [5, 10, 15],\n",
       "                         'rf__n_estimators': [50, 100, 200]})"
      ]
     },
     "execution_count": 38,
     "metadata": {},
     "output_type": "execute_result"
    }
   ],
   "source": [
    "gs_cv_rf.fit(X_train, y_train)"
   ]
  },
  {
   "cell_type": "code",
   "execution_count": 39,
   "metadata": {},
   "outputs": [
    {
     "data": {
      "text/plain": [
       "{'cvec__max_df': 0.98,\n",
       " 'cvec__max_features': 3000,\n",
       " 'cvec__min_df': 2,\n",
       " 'cvec__ngram_range': (1, 3),\n",
       " 'rf__max_depth': 15,\n",
       " 'rf__n_estimators': 100}"
      ]
     },
     "execution_count": 39,
     "metadata": {},
     "output_type": "execute_result"
    }
   ],
   "source": [
    "gs_cv_rf.best_params_"
   ]
  },
  {
   "cell_type": "code",
   "execution_count": 40,
   "metadata": {},
   "outputs": [],
   "source": [
    "best_cv_rf = gs_cv_rf.best_estimator_"
   ]
  },
  {
   "cell_type": "code",
   "execution_count": 41,
   "metadata": {},
   "outputs": [
    {
     "data": {
      "text/plain": [
       "0.8996865203761756"
      ]
     },
     "execution_count": 41,
     "metadata": {},
     "output_type": "execute_result"
    }
   ],
   "source": [
    "ranforest_train_score = best_cv_rf.score(X_train, y_train)\n",
    "ranforest_train_score"
   ]
  },
  {
   "cell_type": "code",
   "execution_count": 42,
   "metadata": {},
   "outputs": [
    {
     "data": {
      "text/plain": [
       "0.7711598746081505"
      ]
     },
     "execution_count": 42,
     "metadata": {},
     "output_type": "execute_result"
    }
   ],
   "source": [
    "ranforest_test_score = best_cv_rf.score(X_test, y_test)\n",
    "ranforest_test_score"
   ]
  },
  {
   "cell_type": "markdown",
   "metadata": {},
   "source": [
    "The accuracy score for train and test data for Countvectorizer and Random Forest model is about 85% and 77% respectively. <br>\n",
    "Here too the score dropped but is way less overfitting in comparison to any of the models above.\n",
    "\n",
    "### Model Comparison"
   ]
  },
  {
   "cell_type": "code",
   "execution_count": 43,
   "metadata": {},
   "outputs": [
    {
     "name": "stdout",
     "output_type": "stream",
     "text": [
      "         CountVec+Logistic    TfidVec+Logistic    CountVec+Naive Bayes    CountVec+Random Forest\n",
      "-----  -------------------  ------------------  ----------------------  ------------------------\n",
      "Train             0.991641            0.962382                0.931034                  0.899687\n",
      "Test              0.799373            0.805643                0.799373                  0.77116\n"
     ]
    }
   ],
   "source": [
    "scores = [['Train', cvlog_train_score, tflog_train_score, naive_train_score, ranforest_train_score],\n",
    "          ['Test', cvlog_test_score, tflog_test_score, naive_test_score, ranforest_test_score]]\n",
    "print (tabulate(scores, headers=[\"\",\"CountVec+Logistic\", \"TfidVec+Logistic\", \"CountVec+Naive Bayes\", \"CountVec+Random Forest\"]))"
   ]
  },
  {
   "cell_type": "markdown",
   "metadata": {},
   "source": [
    "Above table gives a better articulation of finer model from all. As mentioned previously we can say that CountVectorizer and Random Forest model gives good scores in terms of less overfitting. "
   ]
  },
  {
   "cell_type": "markdown",
   "metadata": {},
   "source": [
    "### Feature Importance\n",
    "\n",
    "Using Random Forest model above we will try to understand the important features or words that played a significant role in classifying the subreddits."
   ]
  },
  {
   "cell_type": "code",
   "execution_count": 50,
   "metadata": {},
   "outputs": [],
   "source": [
    "def top30_features(best_pipe_model, title):\n",
    "    feature_imp = best_pipe_model.named_steps.rf.feature_importances_\n",
    "    sorted_idx = feature_imp.argsort().tolist()\n",
    "    features = best_pipe_model.named_steps.cvec.get_feature_names()\n",
    "\n",
    "    feature_imp_list = []\n",
    "    features_list = []\n",
    "    for i in range(len(sorted_idx)):\n",
    "        feature_imp_list.append(feature_imp[sorted_idx[i]])\n",
    "        features_list.append(features[sorted_idx[i]])\n",
    "    \n",
    "    features_imp_df = pd.DataFrame({'feature': features_list, 'feature_imp': feature_imp_list})\n",
    "\n",
    "    features_top30 = features_imp_df.iloc[-30:, :]\n",
    "    \n",
    "    my_range=range(0,len(features_top30['feature']))\n",
    "\n",
    "    plt.figure(figsize=(10,6))\n",
    "    plt.stem(features_top30['feature_imp'])\n",
    "    plt.xticks(my_range, features_top30['feature'], rotation='vertical')\n",
    "    plt.title(title)"
   ]
  },
  {
   "cell_type": "code",
   "execution_count": 51,
   "metadata": {},
   "outputs": [
    {
     "data": {
      "image/png": "[encoded data removed]",
      "text/plain": [
       "<Figure size 720x432 with 1 Axes>"
      ]
     },
     "metadata": {
      "needs_background": "light"
     },
     "output_type": "display_data"
    }
   ],
   "source": [
    "top30_features(best_cv_rf, 'Feature Importance')"
   ]
  },
  {
   "cell_type": "markdown",
   "metadata": {},
   "source": [
    "From the top 30 features we can see that there are several general obvious words like service, watch, contri, recommend, character, device, like, access, etc that are common to both the streaming services. <br>\n",
    "However there are few words like wandavis, stranger things, marvel, plu etc that might be unique to either of the subreddit.<br>\n",
    "We can say that users on these subreddit are sharing their views, asking for recommendations for movies and series streaming on netflix or disney plus.<br>\n",
    "\n",
    "Let us add some of these top features as stopwords and build another model to get to know more features/words/topics from these posts."
   ]
  },
  {
   "cell_type": "code",
   "execution_count": 62,
   "metadata": {},
   "outputs": [],
   "source": [
    "additional_stopwords = {'plu', 'star', 'servic', 'wandavis', 'taken', 'watch', 'stranger', 'things', 'like', 'marvel'}"
   ]
  },
  {
   "cell_type": "markdown",
   "metadata": {},
   "source": [
    "### CountVectorizer & Random Forest With Additional Stopwords"
   ]
  },
  {
   "cell_type": "code",
   "execution_count": 63,
   "metadata": {},
   "outputs": [],
   "source": [
    "pipe_cv_rf_new = Pipeline([\n",
    "    ('cvec', CountVectorizer(stop_words=additional_stopwords)),\n",
    "    ('rf', RandomForestClassifier())\n",
    "])"
   ]
  },
  {
   "cell_type": "code",
   "execution_count": 64,
   "metadata": {},
   "outputs": [],
   "source": [
    "params_cv_rf_new = {\n",
    "    'cvec__max_features': [3000, 4000, 5000, 6000],\n",
    "    'cvec__min_df': [1, 2, 3],\n",
    "    'cvec__max_df': [0.90, 0.95, 0.98],\n",
    "    'cvec__ngram_range': [(1,1), (1,2), (1,3)],\n",
    "    'rf__n_estimators': [50, 100, 200],\n",
    "    'rf__max_depth': [15, 20, 25]\n",
    "}"
   ]
  },
  {
   "cell_type": "code",
   "execution_count": 65,
   "metadata": {},
   "outputs": [],
   "source": [
    "gs_cv_rf_new = GridSearchCV(pipe_cv_rf_new, param_grid=params_cv_rf_new, cv=5)"
   ]
  },
  {
   "cell_type": "code",
   "execution_count": 66,
   "metadata": {},
   "outputs": [
    {
     "data": {
      "text/plain": [
       "GridSearchCV(cv=5,\n",
       "             estimator=Pipeline(steps=[('cvec',\n",
       "                                        CountVectorizer(stop_words={'like',\n",
       "                                                                    'marvel',\n",
       "                                                                    'plu',\n",
       "                                                                    'servic',\n",
       "                                                                    'star',\n",
       "                                                                    'stranger',\n",
       "                                                                    'taken',\n",
       "                                                                    'things',\n",
       "                                                                    'wandavis',\n",
       "                                                                    'watch'})),\n",
       "                                       ('rf', RandomForestClassifier())]),\n",
       "             param_grid={'cvec__max_df': [0.9, 0.95, 0.98],\n",
       "                         'cvec__max_features': [3000, 4000, 5000, 6000],\n",
       "                         'cvec__min_df': [1, 2, 3],\n",
       "                         'cvec__ngram_range': [(1, 1), (1, 2), (1, 3)],\n",
       "                         'rf__max_depth': [15, 20, 25],\n",
       "                         'rf__n_estimators': [50, 100, 200]})"
      ]
     },
     "execution_count": 66,
     "metadata": {},
     "output_type": "execute_result"
    }
   ],
   "source": [
    "gs_cv_rf_new.fit(X_train, y_train)"
   ]
  },
  {
   "cell_type": "code",
   "execution_count": 67,
   "metadata": {},
   "outputs": [
    {
     "data": {
      "text/plain": [
       "{'cvec__max_df': 0.9,\n",
       " 'cvec__max_features': 4000,\n",
       " 'cvec__min_df': 3,\n",
       " 'cvec__ngram_range': (1, 2),\n",
       " 'rf__max_depth': 20,\n",
       " 'rf__n_estimators': 200}"
      ]
     },
     "execution_count": 67,
     "metadata": {},
     "output_type": "execute_result"
    }
   ],
   "source": [
    "gs_cv_rf_new.best_params_"
   ]
  },
  {
   "cell_type": "code",
   "execution_count": 68,
   "metadata": {},
   "outputs": [],
   "source": [
    "best_cv_rf_new = gs_cv_rf_new.best_estimator_"
   ]
  },
  {
   "cell_type": "code",
   "execution_count": 69,
   "metadata": {},
   "outputs": [
    {
     "data": {
      "text/plain": [
       "0.890282131661442"
      ]
     },
     "execution_count": 69,
     "metadata": {},
     "output_type": "execute_result"
    }
   ],
   "source": [
    "ranfor_train_score_new = best_cv_rf_new.score(X_train, y_train)\n",
    "ranfor_train_score_new"
   ]
  },
  {
   "cell_type": "code",
   "execution_count": 70,
   "metadata": {},
   "outputs": [
    {
     "data": {
      "text/plain": [
       "0.7241379310344828"
      ]
     },
     "execution_count": 70,
     "metadata": {},
     "output_type": "execute_result"
    }
   ],
   "source": [
    "ranfor_test_score_new = best_cv_rf_new.score(X_test, y_test)\n",
    "ranfor_test_score_new"
   ]
  },
  {
   "cell_type": "code",
   "execution_count": 72,
   "metadata": {},
   "outputs": [
    {
     "data": {
      "image/png": "[encoded data removed]",
      "text/plain": [
       "<Figure size 720x432 with 1 Axes>"
      ]
     },
     "metadata": {
      "needs_background": "light"
     },
     "output_type": "display_data"
    }
   ],
   "source": [
    "top30_features(best_cv_rf_new, 'Feature importance after adding more stopwords')"
   ]
  },
  {
   "cell_type": "markdown",
   "metadata": {},
   "source": [
    "After removing the stopwords, we can get more insights about the genre like drama, war, love and movie like raya in addition to other new features like subscript, interest, care, etc. \n",
    "\n",
    "Let us create a new model with Naive Bayes which will include the stopwords declared above so that we can get better understanding of which model is better after introducing the stopwords."
   ]
  },
  {
   "cell_type": "markdown",
   "metadata": {},
   "source": [
    "### CountVectorizer & Naive Bayes With Additional Stopwords"
   ]
  },
  {
   "cell_type": "code",
   "execution_count": 73,
   "metadata": {},
   "outputs": [],
   "source": [
    "pipe_cv_nb_new = Pipeline([\n",
    "    ('cvec' , CountVectorizer(stop_words = additional_stopwords)),\n",
    "    ('nb', MultinomialNB())\n",
    "])"
   ]
  },
  {
   "cell_type": "code",
   "execution_count": 74,
   "metadata": {},
   "outputs": [],
   "source": [
    "params_cv_nb_new = {\n",
    "    'cvec__max_features': [3000, 4000, 5000, 6000],\n",
    "    'cvec__min_df': [1, 2, 3],\n",
    "    'cvec__max_df': [0.90, 0.95, 0.98],\n",
    "    'cvec__ngram_range': [(1,1), (1,2), (1,3)],\n",
    "    'nb__alpha': [0.8, 1, 1.2]\n",
    "}"
   ]
  },
  {
   "cell_type": "code",
   "execution_count": 75,
   "metadata": {},
   "outputs": [],
   "source": [
    "gs_cv_nb_new = GridSearchCV(pipe_cv_nb_new,\n",
    "                        param_grid=params_cv_nb_new,\n",
    "                        cv = 5)"
   ]
  },
  {
   "cell_type": "code",
   "execution_count": 76,
   "metadata": {},
   "outputs": [
    {
     "data": {
      "text/plain": [
       "GridSearchCV(cv=5,\n",
       "             estimator=Pipeline(steps=[('cvec',\n",
       "                                        CountVectorizer(stop_words={'like',\n",
       "                                                                    'marvel',\n",
       "                                                                    'plu',\n",
       "                                                                    'servic',\n",
       "                                                                    'star',\n",
       "                                                                    'stranger',\n",
       "                                                                    'taken',\n",
       "                                                                    'things',\n",
       "                                                                    'wandavis',\n",
       "                                                                    'watch'})),\n",
       "                                       ('nb', MultinomialNB())]),\n",
       "             param_grid={'cvec__max_df': [0.9, 0.95, 0.98],\n",
       "                         'cvec__max_features': [3000, 4000, 5000, 6000],\n",
       "                         'cvec__min_df': [1, 2, 3],\n",
       "                         'cvec__ngram_range': [(1, 1), (1, 2), (1, 3)],\n",
       "                         'nb__alpha': [0.8, 1, 1.2]})"
      ]
     },
     "execution_count": 76,
     "metadata": {},
     "output_type": "execute_result"
    }
   ],
   "source": [
    "gs_cv_nb_new.fit(X_train, y_train)"
   ]
  },
  {
   "cell_type": "code",
   "execution_count": 77,
   "metadata": {},
   "outputs": [
    {
     "data": {
      "text/plain": [
       "{'cvec__max_df': 0.9,\n",
       " 'cvec__max_features': 6000,\n",
       " 'cvec__min_df': 1,\n",
       " 'cvec__ngram_range': (1, 2),\n",
       " 'nb__alpha': 0.8}"
      ]
     },
     "execution_count": 77,
     "metadata": {},
     "output_type": "execute_result"
    }
   ],
   "source": [
    "gs_cv_nb_new.best_params_"
   ]
  },
  {
   "cell_type": "code",
   "execution_count": 82,
   "metadata": {},
   "outputs": [],
   "source": [
    "best_cv_nb_new = gs_cv_nb_new.best_estimator_"
   ]
  },
  {
   "cell_type": "code",
   "execution_count": 83,
   "metadata": {},
   "outputs": [
    {
     "data": {
      "text/plain": [
       "0.9425287356321839"
      ]
     },
     "execution_count": 83,
     "metadata": {},
     "output_type": "execute_result"
    }
   ],
   "source": [
    "naive_train_score_new = best_cv_nb_new.score(X_train, y_train)\n",
    "naive_train_score_new"
   ]
  },
  {
   "cell_type": "code",
   "execution_count": 84,
   "metadata": {},
   "outputs": [
    {
     "data": {
      "text/plain": [
       "0.7711598746081505"
      ]
     },
     "execution_count": 84,
     "metadata": {},
     "output_type": "execute_result"
    }
   ],
   "source": [
    "naive_test_score_new = best_cv_nb_new.score(X_test, y_test)\n",
    "naive_test_score_new"
   ]
  },
  {
   "cell_type": "markdown",
   "metadata": {},
   "source": [
    "**Model Comparison (After adding stopwords)**"
   ]
  },
  {
   "cell_type": "code",
   "execution_count": 85,
   "metadata": {},
   "outputs": [
    {
     "name": "stdout",
     "output_type": "stream",
     "text": [
      "         CountVec+Naive Bayes    CountVec+Random Forest\n",
      "-----  ----------------------  ------------------------\n",
      "Train                0.942529                  0.890282\n",
      "Test                 0.77116                   0.724138\n"
     ]
    }
   ],
   "source": [
    "scores = [['Train', naive_train_score_new, ranfor_train_score_new],\n",
    "          ['Test', naive_test_score_new, ranfor_test_score_new]]\n",
    "print (tabulate(scores, headers=[\"\", \"CountVec+Naive Bayes\", \"CountVec+Random Forest\"]))"
   ]
  },
  {
   "cell_type": "markdown",
   "metadata": {},
   "source": [
    "After we introduced additional stopwords the accuracy score dropped which is expected as more words were missing for classifying the subreddits. Now if we compare the Naive Bayes and Random Forest we can see that the Naive Bayes is performing better in terms of accuracy score. Moreover both the models are doing well of not overfitting on huge scale. Hence we would use Naive Bayes to predict our test data.\n",
    "\n",
    "### Test Predictions"
   ]
  },
  {
   "cell_type": "code",
   "execution_count": 122,
   "metadata": {},
   "outputs": [],
   "source": [
    "predictions = best_cv_nb_new.predict(X_test)"
   ]
  },
  {
   "cell_type": "code",
   "execution_count": 88,
   "metadata": {},
   "outputs": [
    {
     "data": {
      "image/png": "[encoded data removed]",
      "text/plain": [
       "<Figure size 432x288 with 2 Axes>"
      ]
     },
     "metadata": {
      "needs_background": "light"
     },
     "output_type": "display_data"
    }
   ],
   "source": [
    "plot_confusion_matrix(best_cv_nb_new, X_test, y_test, cmap='Blues');"
   ]
  },
  {
   "cell_type": "markdown",
   "metadata": {},
   "source": [
    "For posts classification, 0 indicates Netflix and 1 indicates Disney Plus. <br>\n",
    "Here confusion matrix gives an overview of the predicted test data. There are 32 False Negetive(Actually Disney Plus but predicted Netflix) and 41 False Positive (Actually Netflix but predicted Disney Plus). In total there are 73 misinterpretd posts."
   ]
  },
  {
   "cell_type": "code",
   "execution_count": 89,
   "metadata": {},
   "outputs": [],
   "source": [
    "tn, fp, fn , tp = confusion_matrix(y_test, predictions).ravel()"
   ]
  },
  {
   "cell_type": "code",
   "execution_count": 93,
   "metadata": {},
   "outputs": [],
   "source": [
    "accuracy = (tp + tn) / (tn + fp + fn + tp)"
   ]
  },
  {
   "cell_type": "code",
   "execution_count": 95,
   "metadata": {},
   "outputs": [
    {
     "name": "stdout",
     "output_type": "stream",
     "text": [
      "Accuracy score : 0.7711598746081505\n"
     ]
    }
   ],
   "source": [
    "print('Accuracy score :', accuracy)"
   ]
  },
  {
   "cell_type": "code",
   "execution_count": 91,
   "metadata": {},
   "outputs": [],
   "source": [
    "predictions_df = pd.DataFrame({'clean_text': X_test,'predicted': predictions, 'actual': y_test})"
   ]
  },
  {
   "cell_type": "code",
   "execution_count": 98,
   "metadata": {},
   "outputs": [
    {
     "data": {
      "text/html": [
       "<div>\n",
       "<style scoped>\n",
       "    .dataframe tbody tr th:only-of-type {\n",
       "        vertical-align: middle;\n",
       "    }\n",
       "\n",
       "    .dataframe tbody tr th {\n",
       "        vertical-align: top;\n",
       "    }\n",
       "\n",
       "    .dataframe thead th {\n",
       "        text-align: right;\n",
       "    }\n",
       "</style>\n",
       "<table border=\"1\" class=\"dataframe\">\n",
       "  <thead>\n",
       "    <tr style=\"text-align: right;\">\n",
       "      <th></th>\n",
       "      <th>clean_text</th>\n",
       "      <th>predicted</th>\n",
       "      <th>actual</th>\n",
       "    </tr>\n",
       "  </thead>\n",
       "  <tbody>\n",
       "    <tr>\n",
       "      <th>510</th>\n",
       "      <td>watch littl enjoy last day keep reset time epi...</td>\n",
       "      <td>1</td>\n",
       "      <td>0</td>\n",
       "    </tr>\n",
       "    <tr>\n",
       "      <th>385</th>\n",
       "      <td>know use app get disc mailbox rent origin prog...</td>\n",
       "      <td>1</td>\n",
       "      <td>0</td>\n",
       "    </tr>\n",
       "    <tr>\n",
       "      <th>191</th>\n",
       "      <td>hello use philippin reason find two anim catal...</td>\n",
       "      <td>1</td>\n",
       "      <td>0</td>\n",
       "    </tr>\n",
       "    <tr>\n",
       "      <th>459</th>\n",
       "      <td>anyon know maximum amount credit appli account...</td>\n",
       "      <td>1</td>\n",
       "      <td>0</td>\n",
       "    </tr>\n",
       "    <tr>\n",
       "      <th>681</th>\n",
       "      <td>plu grey compar blu ray</td>\n",
       "      <td>0</td>\n",
       "      <td>1</td>\n",
       "    </tr>\n",
       "    <tr>\n",
       "      <th>...</th>\n",
       "      <td>...</td>\n",
       "      <td>...</td>\n",
       "      <td>...</td>\n",
       "    </tr>\n",
       "    <tr>\n",
       "      <th>508</th>\n",
       "      <td>best anim show watch</td>\n",
       "      <td>1</td>\n",
       "      <td>0</td>\n",
       "    </tr>\n",
       "    <tr>\n",
       "      <th>62</th>\n",
       "      <td>anyon get compress artifact like bright white ...</td>\n",
       "      <td>1</td>\n",
       "      <td>0</td>\n",
       "    </tr>\n",
       "    <tr>\n",
       "      <th>907</th>\n",
       "      <td>hi chanc hide seri film individu episod seen w...</td>\n",
       "      <td>0</td>\n",
       "      <td>1</td>\n",
       "    </tr>\n",
       "    <tr>\n",
       "      <th>102</th>\n",
       "      <td>receiv new download featur app decid movi tv s...</td>\n",
       "      <td>1</td>\n",
       "      <td>0</td>\n",
       "    </tr>\n",
       "    <tr>\n",
       "      <th>520</th>\n",
       "      <td>hope someon help us seem recent problem us rea...</td>\n",
       "      <td>1</td>\n",
       "      <td>0</td>\n",
       "    </tr>\n",
       "  </tbody>\n",
       "</table>\n",
       "<p>73 rows × 3 columns</p>\n",
       "</div>"
      ],
      "text/plain": [
       "                                            clean_text  predicted  actual\n",
       "510  watch littl enjoy last day keep reset time epi...          1       0\n",
       "385  know use app get disc mailbox rent origin prog...          1       0\n",
       "191  hello use philippin reason find two anim catal...          1       0\n",
       "459  anyon know maximum amount credit appli account...          1       0\n",
       "681                            plu grey compar blu ray          0       1\n",
       "..                                                 ...        ...     ...\n",
       "508                               best anim show watch          1       0\n",
       "62   anyon get compress artifact like bright white ...          1       0\n",
       "907  hi chanc hide seri film individu episod seen w...          0       1\n",
       "102  receiv new download featur app decid movi tv s...          1       0\n",
       "520  hope someon help us seem recent problem us rea...          1       0\n",
       "\n",
       "[73 rows x 3 columns]"
      ]
     },
     "execution_count": 98,
     "metadata": {},
     "output_type": "execute_result"
    }
   ],
   "source": [
    "misinterpreted = predictions_df[predictions_df['predicted'] != predictions_df['actual']]\n",
    "misinterpreted"
   ]
  },
  {
   "cell_type": "code",
   "execution_count": 107,
   "metadata": {
    "scrolled": true
   },
   "outputs": [
    {
     "data": {
      "text/html": [
       "<div>\n",
       "<style scoped>\n",
       "    .dataframe tbody tr th:only-of-type {\n",
       "        vertical-align: middle;\n",
       "    }\n",
       "\n",
       "    .dataframe tbody tr th {\n",
       "        vertical-align: top;\n",
       "    }\n",
       "\n",
       "    .dataframe thead th {\n",
       "        text-align: right;\n",
       "    }\n",
       "</style>\n",
       "<table border=\"1\" class=\"dataframe\">\n",
       "  <thead>\n",
       "    <tr style=\"text-align: right;\">\n",
       "      <th></th>\n",
       "      <th>clean_text</th>\n",
       "      <th>predicted</th>\n",
       "      <th>actual</th>\n",
       "    </tr>\n",
       "  </thead>\n",
       "  <tbody>\n",
       "    <tr>\n",
       "      <th>510</th>\n",
       "      <td>watch littl enjoy last day keep reset time episod time close app phone roku tri stop found way isnt huge deal realli annoy anyon know fix could tell would realli appreci need help</td>\n",
       "      <td>1</td>\n",
       "      <td>0</td>\n",
       "    </tr>\n",
       "    <tr>\n",
       "      <th>385</th>\n",
       "      <td>know use app get disc mailbox rent origin program big studio indi releas via dvd bluray anyon subscrib via physic mail</td>\n",
       "      <td>1</td>\n",
       "      <td>0</td>\n",
       "    </tr>\n",
       "    <tr>\n",
       "      <th>191</th>\n",
       "      <td>hello use philippin reason find two anim catalog dorohedoro beastar correct wrong anim exclus region go seen seri movi disappear due expir licens own show see realli want resort use virtual privat network help find show appreci thank answer advanc origin anim show</td>\n",
       "      <td>1</td>\n",
       "      <td>0</td>\n",
       "    </tr>\n",
       "    <tr>\n",
       "      <th>459</th>\n",
       "      <td>anyon know maximum amount credit appli account bought chromecast googl tv month credit allow redeem last one reason maximum credit</td>\n",
       "      <td>1</td>\n",
       "      <td>0</td>\n",
       "    </tr>\n",
       "    <tr>\n",
       "      <th>240</th>\n",
       "      <td>year pandem end sight given free trial gt lt know start what best show first time user readi go rabbit hole first time user</td>\n",
       "      <td>1</td>\n",
       "      <td>0</td>\n",
       "    </tr>\n",
       "    <tr>\n",
       "      <th>166</th>\n",
       "      <td>anyon know get app roku run like crap crash randomli constantli amaz compani resourc seem make app crash run sluggishli unsubscrib year ago support utterli clueless told workaround unplug roku tv minut everi time app act well would fine actual fix start head back unsubscrib direct anyon clever way get garbag app actual function edit scroll kneelray advic turn auto play featur option avail websit appear complet fix lag crash log websit go account gt profil gt playback set gt chang turn auto play featur note make chang log primari account chang everi profil one thank kneelray fix everyth roku app constantli crash</td>\n",
       "      <td>1</td>\n",
       "      <td>0</td>\n",
       "    </tr>\n",
       "    <tr>\n",
       "      <th>134</th>\n",
       "      <td>around last week watch da vinci code search sequel angel amp demon find search dav vinci code find eiter find movi watch last week</td>\n",
       "      <td>1</td>\n",
       "      <td>0</td>\n",
       "    </tr>\n",
       "    <tr>\n",
       "      <th>397</th>\n",
       "      <td>sure go titl look like someon asleep wheel ingest sent studio letterbox imag massiv offset toward bottom screen constant drop frame titl burn eg h obviou pretti sure badli convert p p test two player appletv k latest beta play p p properli nvidia shield legaci lie uk ofcentr letterbox bake p gt drop frame artifact</td>\n",
       "      <td>1</td>\n",
       "      <td>0</td>\n",
       "    </tr>\n",
       "    <tr>\n",
       "      <th>269</th>\n",
       "      <td>spend million korean content year</td>\n",
       "      <td>1</td>\n",
       "      <td>0</td>\n",
       "    </tr>\n",
       "    <tr>\n",
       "      <th>417</th>\n",
       "      <td>bought gb microsd card usual consum content go offlin time download content sourc annoy download titl want use smart download delet like rewatch show time time given long good seri difficult watch offlin cannot download everyth anyon els annoy download limit</td>\n",
       "      <td>1</td>\n",
       "      <td>0</td>\n",
       "    </tr>\n",
       "    <tr>\n",
       "      <th>326</th>\n",
       "      <td>know manual order list web browser broken month allow chang order still use manual order page week end month would alway go check see expir st next month seem suddenli remov function check noth list expir alreadi knew fact guild leav st load sure enough say feb th last day watch longer list expir list page guess bide time remov abil use manual sort option altogeth suck sinc way see expir without go entir list one time longer show expir date list</td>\n",
       "      <td>1</td>\n",
       "      <td>0</td>\n",
       "    </tr>\n",
       "    <tr>\n",
       "      <th>32</th>\n",
       "      <td>us custom notic avail content sometim follow weird pattern exampl could trilog movi first last movi would avail nd movi curiou give weird avail pattern</td>\n",
       "      <td>1</td>\n",
       "      <td>0</td>\n",
       "    </tr>\n",
       "    <tr>\n",
       "      <th>35</th>\n",
       "      <td>u applic window dumb live tile show name appear anyon know movi seri imgur xhouaiz tri post screenshot forum moder amp x b preview redd n pddjxywl png width amp format png amp auto webp amp ec fe c de c anyon know movi seri</td>\n",
       "      <td>1</td>\n",
       "      <td>0</td>\n",
       "    </tr>\n",
       "    <tr>\n",
       "      <th>358</th>\n",
       "      <td>first sign chose cheapest option automat got upgrad standard first month get said mani devic use stream mean time gener devic sign account right phone tv connect want watch comput could would work help appreci thank confus word</td>\n",
       "      <td>1</td>\n",
       "      <td>0</td>\n",
       "    </tr>\n",
       "    <tr>\n",
       "      <th>200</th>\n",
       "      <td>anim call death note bug happen tv android phone season name show nav label instead season dunno post bug ill post help plz printscreen p sorri english preview redd azxgkldi gk jpg width amp format pjpg amp auto webp amp bebf abbca f e ad b b bd bug</td>\n",
       "      <td>1</td>\n",
       "      <td>0</td>\n",
       "    </tr>\n",
       "    <tr>\n",
       "      <th>569</th>\n",
       "      <td>want watch naruto reason show search belgian friend watch avail fix problem countri</td>\n",
       "      <td>1</td>\n",
       "      <td>0</td>\n",
       "    </tr>\n",
       "    <tr>\n",
       "      <th>474</th>\n",
       "      <td>updat note android cannot watch anyth mobil data keep tell get faster connect least g g though tri fresh instal reboot seem work anyon got fix get error android updat</td>\n",
       "      <td>1</td>\n",
       "      <td>0</td>\n",
       "    </tr>\n",
       "    <tr>\n",
       "      <th>359</th>\n",
       "      <td>check internet speed boot app possibl way brows preview trailer laptop thru web browser laptop app show none toggl auto show preview next episod zero help realiz like preview help find good content foolishli normal promot help weed one like slip like german dub movi prefer continu watch tab see preview app web browser laptop</td>\n",
       "      <td>1</td>\n",
       "      <td>0</td>\n",
       "    </tr>\n",
       "    <tr>\n",
       "      <th>564</th>\n",
       "      <td>everyth new come march</td>\n",
       "      <td>1</td>\n",
       "      <td>0</td>\n",
       "    </tr>\n",
       "    <tr>\n",
       "      <th>243</th>\n",
       "      <td>watch break bad everi season episod episod episod none name everi season bb suck anyon els issu north america use amazon fire stick thank episod name miss show</td>\n",
       "      <td>1</td>\n",
       "      <td>0</td>\n",
       "    </tr>\n",
       "    <tr>\n",
       "      <th>256</th>\n",
       "      <td>termin anim seri come</td>\n",
       "      <td>1</td>\n",
       "      <td>0</td>\n",
       "    </tr>\n",
       "    <tr>\n",
       "      <th>460</th>\n",
       "      <td>anim tv show automaticli show dub version instead origin subtitl look everyon cant seem understand chang anyon got idea remov featur want see origin voic subtitl edit portug us remov automat dub anim tv show</td>\n",
       "      <td>1</td>\n",
       "      <td>0</td>\n",
       "    </tr>\n",
       "    <tr>\n",
       "      <th>401</th>\n",
       "      <td>watch blacklist problem subtitl last two episod season episod episod hungarian subtitl episod czech greek french hebrew portugues anyon experienc ussuali also english sub avail two episod blacklist subtitl</td>\n",
       "      <td>1</td>\n",
       "      <td>0</td>\n",
       "    </tr>\n",
       "    <tr>\n",
       "      <th>142</th>\n",
       "      <td>new k drama march usa</td>\n",
       "      <td>1</td>\n",
       "      <td>0</td>\n",
       "    </tr>\n",
       "    <tr>\n",
       "      <th>427</th>\n",
       "      <td>get hdr goe p get k anymor max around mbp p mbp connect amazon prime get k day time issu appl tv k hdr day time issu fact servic seemingli limit pay uhd servic perplex even stream k youtub idea anyon els issu troubl get k tv</td>\n",
       "      <td>1</td>\n",
       "      <td>0</td>\n",
       "    </tr>\n",
       "    <tr>\n",
       "      <th>339</th>\n",
       "      <td>hey anybodi help instal app phone appstor told phone support portug galaxi note advic thank instal app</td>\n",
       "      <td>1</td>\n",
       "      <td>0</td>\n",
       "    </tr>\n",
       "    <tr>\n",
       "      <th>91</th>\n",
       "      <td>r hit k subscrib yesterday</td>\n",
       "      <td>1</td>\n",
       "      <td>0</td>\n",
       "    </tr>\n",
       "    <tr>\n",
       "      <th>550</th>\n",
       "      <td>way hide movi seri watch alreadi amp x b fill text amp x b lorem ipsum dolor sit amet consetetur sadipsc elitr sed diam nonumi eirmod tempor invidunt ut labor et dolor magna aliquyam erat sed diam voluptua vero eo et accusam et justo duo dolor et ea rebum stet clita kasd gubergren sea takimata sanctu est lorem ipsum dolor sit amet lorem ipsum dolor sit amet consetetur sadipsc elitr sed diam nonumi eirmod tempor invidunt ut labor et dolor magna aliquyam erat sed diam voluptua vero eo et accusam et justo duo dolor et ea rebum stet clita kasd gubergren sea takimata sanctu est lorem ipsum dolor sit amet hide watch seri movi feed</td>\n",
       "      <td>1</td>\n",
       "      <td>0</td>\n",
       "    </tr>\n",
       "    <tr>\n",
       "      <th>214</th>\n",
       "      <td>honeydew</td>\n",
       "      <td>1</td>\n",
       "      <td>0</td>\n",
       "    </tr>\n",
       "    <tr>\n",
       "      <th>475</th>\n",
       "      <td>let take exampl distribut histori channel e documentari ancient alien would consid stakehold compani e sinc gener revenu content creat thank stream servic like consid stakehold</td>\n",
       "      <td>1</td>\n",
       "      <td>0</td>\n",
       "    </tr>\n",
       "    <tr>\n",
       "      <th>345</th>\n",
       "      <td>new korean film dub adjust set ipad differ appl tv turn dub audio stick origin languag turn dub appl tv</td>\n",
       "      <td>1</td>\n",
       "      <td>0</td>\n",
       "    </tr>\n",
       "    <tr>\n",
       "      <th>217</th>\n",
       "      <td>hey fellow user student bournemouth univers conduct focu group design immers subtitl use subtitl platform would realli appreci help need hour time focu group also offer amazon voucher particip sign doc googl form e faipqlsc obrltjbfnywbgn hqjjkyrkzl z ui z bm wl u eq viewform usp sf link thank preview redd wxmct ez fk png width amp format png amp auto webp amp e dc dfd bbaebffdf c c help academ research subtitl focu group</td>\n",
       "      <td>1</td>\n",
       "      <td>0</td>\n",
       "    </tr>\n",
       "    <tr>\n",
       "      <th>236</th>\n",
       "      <td>hello new whole k thing bought k tv lg seri un last week everyth look fantast notic seri movi weirdli distort watch comput happen everywher window app edg etc annoy happen watch stuff build app tv realli want way like everyth set without use remot everytim switch game rtx hope someon help see glitch lower right tv happen like everi second take pictur scene ago glitch preview redd bcnkfiq k jpg width amp format pjpg amp auto webp amp c e ae f bf fe okay glitch weird happen rewind skip forward video start video let play happen rewind glitch start forc go app start idea happen annoy trigger ocd stress way pictur weirdli distort window new k tv</td>\n",
       "      <td>1</td>\n",
       "      <td>0</td>\n",
       "    </tr>\n",
       "    <tr>\n",
       "      <th>28</th>\n",
       "      <td>anyon els problem everytim watch someth k tv imag qualiti good watch regular tv ok use app xbox k tv imag good use stream app k tv imag good problem happen app wonder question bad imag qualiti k tv</td>\n",
       "      <td>1</td>\n",
       "      <td>0</td>\n",
       "    </tr>\n",
       "    <tr>\n",
       "      <th>130</th>\n",
       "      <td>hey quick question never tri think give go gonna start free trial main question case cancel free trial middl use wonder free trial question</td>\n",
       "      <td>1</td>\n",
       "      <td>0</td>\n",
       "    </tr>\n",
       "    <tr>\n",
       "      <th>121</th>\n",
       "      <td>anybodi know season better call saul avail stream us thought suppos becom avail februari seen yet avail anybodi know els watch season better call saul avail</td>\n",
       "      <td>1</td>\n",
       "      <td>0</td>\n",
       "    </tr>\n",
       "    <tr>\n",
       "      <th>230</th>\n",
       "      <td>tv dongl yesterday work fine give error matter tri watch tvq pb say tri anoth titl noth play still play preview fine menu page abl stream devic like desktop phone except dongl reset everyth internet hub dongl still get error internet issu comput share wifi mere feet away still work fine also advic welcom wise feckin dongl go bin help error tvq pb</td>\n",
       "      <td>1</td>\n",
       "      <td>0</td>\n",
       "    </tr>\n",
       "    <tr>\n",
       "      <th>508</th>\n",
       "      <td>best anim show watch</td>\n",
       "      <td>1</td>\n",
       "      <td>0</td>\n",
       "    </tr>\n",
       "    <tr>\n",
       "      <th>62</th>\n",
       "      <td>anyon get compress artifact like bright white sky scene assum video k hdr tv</td>\n",
       "      <td>1</td>\n",
       "      <td>0</td>\n",
       "    </tr>\n",
       "    <tr>\n",
       "      <th>102</th>\n",
       "      <td>receiv new download featur app decid movi tv show might like watch base watch histori download app though alway find download movi alway delet go watch caus download anoth movi anyon know thank anyon download constantli delet titl alreadi download</td>\n",
       "      <td>1</td>\n",
       "      <td>0</td>\n",
       "    </tr>\n",
       "    <tr>\n",
       "      <th>520</th>\n",
       "      <td>hope someon help us seem recent problem us reason autoplay work instead one episod start play preview show give us option continu watch program idea caus anyon advic know fix super grate thank advanc autoplay work start play preview instead</td>\n",
       "      <td>1</td>\n",
       "      <td>0</td>\n",
       "    </tr>\n",
       "  </tbody>\n",
       "</table>\n",
       "</div>"
      ],
      "text/plain": [
       "                                                                                                                                                                                                                                                                                                                                                                                                                                                                                                                                                                                                                                                                   clean_text  \\\n",
       "510                                                                                                                                                                                                                                                                                                                                                                                                                                                                                       watch littl enjoy last day keep reset time episod time close app phone roku tri stop found way isnt huge deal realli annoy anyon know fix could tell would realli appreci need help   \n",
       "385                                                                                                                                                                                                                                                                                                                                                                                                                                                                                                                                                    know use app get disc mailbox rent origin program big studio indi releas via dvd bluray anyon subscrib via physic mail   \n",
       "191                                                                                                                                                                                                                                                                                                                                                                                                  hello use philippin reason find two anim catalog dorohedoro beastar correct wrong anim exclus region go seen seri movi disappear due expir licens own show see realli want resort use virtual privat network help find show appreci thank answer advanc origin anim show   \n",
       "459                                                                                                                                                                                                                                                                                                                                                                                                                                                                                                                                        anyon know maximum amount credit appli account bought chromecast googl tv month credit allow redeem last one reason maximum credit   \n",
       "240                                                                                                                                                                                                                                                                                                                                                                                                                                                                                                                                               year pandem end sight given free trial gt lt know start what best show first time user readi go rabbit hole first time user   \n",
       "166                                anyon know get app roku run like crap crash randomli constantli amaz compani resourc seem make app crash run sluggishli unsubscrib year ago support utterli clueless told workaround unplug roku tv minut everi time app act well would fine actual fix start head back unsubscrib direct anyon clever way get garbag app actual function edit scroll kneelray advic turn auto play featur option avail websit appear complet fix lag crash log websit go account gt profil gt playback set gt chang turn auto play featur note make chang log primari account chang everi profil one thank kneelray fix everyth roku app constantli crash   \n",
       "134                                                                                                                                                                                                                                                                                                                                                                                                                                                                                                                                        around last week watch da vinci code search sequel angel amp demon find search dav vinci code find eiter find movi watch last week   \n",
       "397                                                                                                                                                                                                                                                                                                                                               sure go titl look like someon asleep wheel ingest sent studio letterbox imag massiv offset toward bottom screen constant drop frame titl burn eg h obviou pretti sure badli convert p p test two player appletv k latest beta play p p properli nvidia shield legaci lie uk ofcentr letterbox bake p gt drop frame artifact   \n",
       "269                                                                                                                                                                                                                                                                                                                                                                                                                                                                                                                                                                                                                                         spend million korean content year   \n",
       "417                                                                                                                                                                                                                                                                                                                                                                                                        bought gb microsd card usual consum content go offlin time download content sourc annoy download titl want use smart download delet like rewatch show time time given long good seri difficult watch offlin cannot download everyth anyon els annoy download limit   \n",
       "326                                                                                                                                                                                                         know manual order list web browser broken month allow chang order still use manual order page week end month would alway go check see expir st next month seem suddenli remov function check noth list expir alreadi knew fact guild leav st load sure enough say feb th last day watch longer list expir list page guess bide time remov abil use manual sort option altogeth suck sinc way see expir without go entir list one time longer show expir date list   \n",
       "32                                                                                                                                                                                                                                                                                                                                                                                                                                                                                                                    us custom notic avail content sometim follow weird pattern exampl could trilog movi first last movi would avail nd movi curiou give weird avail pattern   \n",
       "35                                                                                                                                                                                                                                                                                                                                                                                                                                            u applic window dumb live tile show name appear anyon know movi seri imgur xhouaiz tri post screenshot forum moder amp x b preview redd n pddjxywl png width amp format png amp auto webp amp ec fe c de c anyon know movi seri   \n",
       "358                                                                                                                                                                                                                                                                                                                                                                                                                                       first sign chose cheapest option automat got upgrad standard first month get said mani devic use stream mean time gener devic sign account right phone tv connect want watch comput could would work help appreci thank confus word   \n",
       "200                                                                                                                                                                                                                                                                                                                                                                                                                 anim call death note bug happen tv android phone season name show nav label instead season dunno post bug ill post help plz printscreen p sorri english preview redd azxgkldi gk jpg width amp format pjpg amp auto webp amp bebf abbca f e ad b b bd bug   \n",
       "569                                                                                                                                                                                                                                                                                                                                                                                                                                                                                                                                                                                       want watch naruto reason show search belgian friend watch avail fix problem countri   \n",
       "474                                                                                                                                                                                                                                                                                                                                                                                                                                                                                                    updat note android cannot watch anyth mobil data keep tell get faster connect least g g though tri fresh instal reboot seem work anyon got fix get error android updat   \n",
       "359                                                                                                                                                                                                                                                                                                                                    check internet speed boot app possibl way brows preview trailer laptop thru web browser laptop app show none toggl auto show preview next episod zero help realiz like preview help find good content foolishli normal promot help weed one like slip like german dub movi prefer continu watch tab see preview app web browser laptop   \n",
       "564                                                                                                                                                                                                                                                                                                                                                                                                                                                                                                                                                                                                                                                    everyth new come march   \n",
       "243                                                                                                                                                                                                                                                                                                                                                                                                                                                                                                           watch break bad everi season episod episod episod none name everi season bb suck anyon els issu north america use amazon fire stick thank episod name miss show   \n",
       "256                                                                                                                                                                                                                                                                                                                                                                                                                                                                                                                                                                                                                                                     termin anim seri come   \n",
       "460                                                                                                                                                                                                                                                                                                                                                                                                                                                           anim tv show automaticli show dub version instead origin subtitl look everyon cant seem understand chang anyon got idea remov featur want see origin voic subtitl edit portug us remov automat dub anim tv show   \n",
       "401                                                                                                                                                                                                                                                                                                                                                                                                                                                             watch blacklist problem subtitl last two episod season episod episod hungarian subtitl episod czech greek french hebrew portugues anyon experienc ussuali also english sub avail two episod blacklist subtitl   \n",
       "142                                                                                                                                                                                                                                                                                                                                                                                                                                                                                                                                                                                                                                                     new k drama march usa   \n",
       "427                                                                                                                                                                                                                                                                                                                                                                                                                                          get hdr goe p get k anymor max around mbp p mbp connect amazon prime get k day time issu appl tv k hdr day time issu fact servic seemingli limit pay uhd servic perplex even stream k youtub idea anyon els issu troubl get k tv   \n",
       "339                                                                                                                                                                                                                                                                                                                                                                                                                                                                                                                                                                    hey anybodi help instal app phone appstor told phone support portug galaxi note advic thank instal app   \n",
       "91                                                                                                                                                                                                                                                                                                                                                                                                                                                                                                                                                                                                                                                 r hit k subscrib yesterday   \n",
       "550                  way hide movi seri watch alreadi amp x b fill text amp x b lorem ipsum dolor sit amet consetetur sadipsc elitr sed diam nonumi eirmod tempor invidunt ut labor et dolor magna aliquyam erat sed diam voluptua vero eo et accusam et justo duo dolor et ea rebum stet clita kasd gubergren sea takimata sanctu est lorem ipsum dolor sit amet lorem ipsum dolor sit amet consetetur sadipsc elitr sed diam nonumi eirmod tempor invidunt ut labor et dolor magna aliquyam erat sed diam voluptua vero eo et accusam et justo duo dolor et ea rebum stet clita kasd gubergren sea takimata sanctu est lorem ipsum dolor sit amet hide watch seri movi feed   \n",
       "214                                                                                                                                                                                                                                                                                                                                                                                                                                                                                                                                                                                                                                                                  honeydew   \n",
       "475                                                                                                                                                                                                                                                                                                                                                                                                                                                                                          let take exampl distribut histori channel e documentari ancient alien would consid stakehold compani e sinc gener revenu content creat thank stream servic like consid stakehold   \n",
       "345                                                                                                                                                                                                                                                                                                                                                                                                                                                                                                                                                                   new korean film dub adjust set ipad differ appl tv turn dub audio stick origin languag turn dub appl tv   \n",
       "217                                                                                                                                                                                                                                 hey fellow user student bournemouth univers conduct focu group design immers subtitl use subtitl platform would realli appreci help need hour time focu group also offer amazon voucher particip sign doc googl form e faipqlsc obrltjbfnywbgn hqjjkyrkzl z ui z bm wl u eq viewform usp sf link thank preview redd wxmct ez fk png width amp format png amp auto webp amp e dc dfd bbaebffdf c c help academ research subtitl focu group   \n",
       "236  hello new whole k thing bought k tv lg seri un last week everyth look fantast notic seri movi weirdli distort watch comput happen everywher window app edg etc annoy happen watch stuff build app tv realli want way like everyth set without use remot everytim switch game rtx hope someon help see glitch lower right tv happen like everi second take pictur scene ago glitch preview redd bcnkfiq k jpg width amp format pjpg amp auto webp amp c e ae f bf fe okay glitch weird happen rewind skip forward video start video let play happen rewind glitch start forc go app start idea happen annoy trigger ocd stress way pictur weirdli distort window new k tv   \n",
       "28                                                                                                                                                                                                                                                                                                                                                                                                                                                                      anyon els problem everytim watch someth k tv imag qualiti good watch regular tv ok use app xbox k tv imag good use stream app k tv imag good problem happen app wonder question bad imag qualiti k tv   \n",
       "130                                                                                                                                                                                                                                                                                                                                                                                                                                                                                                                               hey quick question never tri think give go gonna start free trial main question case cancel free trial middl use wonder free trial question   \n",
       "121                                                                                                                                                                                                                                                                                                                                                                                                                                                                                                              anybodi know season better call saul avail stream us thought suppos becom avail februari seen yet avail anybodi know els watch season better call saul avail   \n",
       "230                                                                                                                                                                                                                                                                                                              tv dongl yesterday work fine give error matter tri watch tvq pb say tri anoth titl noth play still play preview fine menu page abl stream devic like desktop phone except dongl reset everyth internet hub dongl still get error internet issu comput share wifi mere feet away still work fine also advic welcom wise feckin dongl go bin help error tvq pb   \n",
       "508                                                                                                                                                                                                                                                                                                                                                                                                                                                                                                                                                                                                                                                      best anim show watch   \n",
       "62                                                                                                                                                                                                                                                                                                                                                                                                                                                                                                                                                                                               anyon get compress artifact like bright white sky scene assum video k hdr tv   \n",
       "102                                                                                                                                                                                                                                                                                                                                                                                                                   receiv new download featur app decid movi tv show might like watch base watch histori download app though alway find download movi alway delet go watch caus download anoth movi anyon know thank anyon download constantli delet titl alreadi download   \n",
       "520                                                                                                                                                                                                                                                                                                                                                                                                                          hope someon help us seem recent problem us reason autoplay work instead one episod start play preview show give us option continu watch program idea caus anyon advic know fix super grate thank advanc autoplay work start play preview instead   \n",
       "\n",
       "     predicted  actual  \n",
       "510          1       0  \n",
       "385          1       0  \n",
       "191          1       0  \n",
       "459          1       0  \n",
       "240          1       0  \n",
       "166          1       0  \n",
       "134          1       0  \n",
       "397          1       0  \n",
       "269          1       0  \n",
       "417          1       0  \n",
       "326          1       0  \n",
       "32           1       0  \n",
       "35           1       0  \n",
       "358          1       0  \n",
       "200          1       0  \n",
       "569          1       0  \n",
       "474          1       0  \n",
       "359          1       0  \n",
       "564          1       0  \n",
       "243          1       0  \n",
       "256          1       0  \n",
       "460          1       0  \n",
       "401          1       0  \n",
       "142          1       0  \n",
       "427          1       0  \n",
       "339          1       0  \n",
       "91           1       0  \n",
       "550          1       0  \n",
       "214          1       0  \n",
       "475          1       0  \n",
       "345          1       0  \n",
       "217          1       0  \n",
       "236          1       0  \n",
       "28           1       0  \n",
       "130          1       0  \n",
       "121          1       0  \n",
       "230          1       0  \n",
       "508          1       0  \n",
       "62           1       0  \n",
       "102          1       0  \n",
       "520          1       0  "
      ]
     },
     "execution_count": 107,
     "metadata": {},
     "output_type": "execute_result"
    }
   ],
   "source": [
    "pd.set_option('display.max_colwidth', None)\n",
    "misinterpreted_netflix = predictions_df[(predictions_df['actual'] != predictions_df['predicted']) & \n",
    "                                        (predictions_df['actual'] == 0)]\n",
    "misinterpreted_netflix"
   ]
  },
  {
   "cell_type": "code",
   "execution_count": 120,
   "metadata": {
    "scrolled": true
   },
   "outputs": [
    {
     "data": {
      "text/html": [
       "<div>\n",
       "<style scoped>\n",
       "    .dataframe tbody tr th:only-of-type {\n",
       "        vertical-align: middle;\n",
       "    }\n",
       "\n",
       "    .dataframe tbody tr th {\n",
       "        vertical-align: top;\n",
       "    }\n",
       "\n",
       "    .dataframe thead th {\n",
       "        text-align: right;\n",
       "    }\n",
       "</style>\n",
       "<table border=\"1\" class=\"dataframe\">\n",
       "  <thead>\n",
       "    <tr style=\"text-align: right;\">\n",
       "      <th></th>\n",
       "      <th>clean_text</th>\n",
       "      <th>predicted</th>\n",
       "      <th>actual</th>\n",
       "    </tr>\n",
       "  </thead>\n",
       "  <tbody>\n",
       "    <tr>\n",
       "      <th>681</th>\n",
       "      <td>plu grey compar blu ray</td>\n",
       "      <td>0</td>\n",
       "      <td>1</td>\n",
       "    </tr>\n",
       "    <tr>\n",
       "      <th>1062</th>\n",
       "      <td>pretti excit we anderson watch parti first show watch star</td>\n",
       "      <td>0</td>\n",
       "      <td>1</td>\n",
       "    </tr>\n",
       "    <tr>\n",
       "      <th>1212</th>\n",
       "      <td>hi start watch age ultron first time feel like first scene saw vision ultron say vision explan mean know movi explain youtub scene thor vision vision hold hammer rmmbr see movi neither vision birth feel like trip bad anyon time care enough put time stamp liter see mine age ultron miss scene</td>\n",
       "      <td>0</td>\n",
       "      <td>1</td>\n",
       "    </tr>\n",
       "    <tr>\n",
       "      <th>936</th>\n",
       "      <td>land choir docuseri detroit youth choir</td>\n",
       "      <td>0</td>\n",
       "      <td>1</td>\n",
       "    </tr>\n",
       "    <tr>\n",
       "      <th>749</th>\n",
       "      <td>research imagin stori crave depth reveal park hope someth work haha plan releas show ride park thought rememb suppos someth like</td>\n",
       "      <td>0</td>\n",
       "      <td>1</td>\n",
       "    </tr>\n",
       "    <tr>\n",
       "      <th>1044</th>\n",
       "      <td>rip episod</td>\n",
       "      <td>0</td>\n",
       "      <td>1</td>\n",
       "    </tr>\n",
       "    <tr>\n",
       "      <th>1082</th>\n",
       "      <td>hope feel nostalg today</td>\n",
       "      <td>0</td>\n",
       "      <td>1</td>\n",
       "    </tr>\n",
       "    <tr>\n",
       "      <th>948</th>\n",
       "      <td>still keep joke hulu know one episod wonder cut non us audienc random question solar opposit</td>\n",
       "      <td>0</td>\n",
       "      <td>1</td>\n",
       "    </tr>\n",
       "    <tr>\n",
       "      <th>1015</th>\n",
       "      <td>pleas make titl part quit button lost count amount time accident quit movi tap screen high</td>\n",
       "      <td>0</td>\n",
       "      <td>1</td>\n",
       "    </tr>\n",
       "    <tr>\n",
       "      <th>1130</th>\n",
       "      <td>fascin foley sound design long time featur someth want ever sinc special featur monster inc dvd came refresh watch scene without music implement movi yet addit audio track mani movi would repurchas remov music hear natur audio zenim featur amaz</td>\n",
       "      <td>0</td>\n",
       "      <td>1</td>\n",
       "    </tr>\n",
       "    <tr>\n",
       "      <th>1111</th>\n",
       "      <td>plu reveal european origin slate star titl</td>\n",
       "      <td>0</td>\n",
       "      <td>1</td>\n",
       "    </tr>\n",
       "    <tr>\n",
       "      <th>941</th>\n",
       "      <td>love good trailer hate howev give option watch trailer film turn clip hard sourc origin trailer see damn film clip trailer</td>\n",
       "      <td>0</td>\n",
       "      <td>1</td>\n",
       "    </tr>\n",
       "    <tr>\n",
       "      <th>796</th>\n",
       "      <td>head auto watch episod end season goe ep instead ep order even episod list got jump past first episod even play episod far order episod encount son anarchi season list episod first</td>\n",
       "      <td>0</td>\n",
       "      <td>1</td>\n",
       "    </tr>\n",
       "    <tr>\n",
       "      <th>664</th>\n",
       "      <td>need show download phone guy show suggest download show play random episod worri stori arc continu like simpson phinea ferb download show suggest</td>\n",
       "      <td>0</td>\n",
       "      <td>1</td>\n",
       "    </tr>\n",
       "    <tr>\n",
       "      <th>1014</th>\n",
       "      <td>heard good thing show want give shot appar us version type thing common show come us first canada later anybodi know owl hous ad canadian app</td>\n",
       "      <td>0</td>\n",
       "      <td>1</td>\n",
       "    </tr>\n",
       "    <tr>\n",
       "      <th>1119</th>\n",
       "      <td>first curella trailer tomorrow</td>\n",
       "      <td>0</td>\n",
       "      <td>1</td>\n",
       "    </tr>\n",
       "    <tr>\n",
       "      <th>842</th>\n",
       "      <td>like sure violetta english show spanish way put subtitl pretti sure dub like spanish show non english show option sub ask bother voic match charact make weird watch edit look show like spanish without dub access caption kinda get like viloetta dub</td>\n",
       "      <td>0</td>\n",
       "      <td>1</td>\n",
       "    </tr>\n",
       "    <tr>\n",
       "      <th>1064</th>\n",
       "      <td>gargoyl aspect ratio error</td>\n",
       "      <td>0</td>\n",
       "      <td>1</td>\n",
       "    </tr>\n",
       "    <tr>\n",
       "      <th>836</th>\n",
       "      <td>plu win rip stream playbook</td>\n",
       "      <td>0</td>\n",
       "      <td>1</td>\n",
       "    </tr>\n",
       "    <tr>\n",
       "      <th>653</th>\n",
       "      <td>anyon recommend good tv show watch</td>\n",
       "      <td>0</td>\n",
       "      <td>1</td>\n",
       "    </tr>\n",
       "    <tr>\n",
       "      <th>618</th>\n",
       "      <td>watch weekend raw honest opinion movi tri bias fan think beauti think main thing got movi import uniti trust definit visual pleas think storylin love hate kind messag get favourit quot let talk think raya last dragon</td>\n",
       "      <td>0</td>\n",
       "      <td>1</td>\n",
       "    </tr>\n",
       "    <tr>\n",
       "      <th>783</th>\n",
       "      <td>peopl true crime documentari like mysteri zodiac case perfect show get slow time realli good nonetheless rememb origin fx show might avail countri fx show air network</td>\n",
       "      <td>0</td>\n",
       "      <td>1</td>\n",
       "    </tr>\n",
       "    <tr>\n",
       "      <th>1153</th>\n",
       "      <td>wonder person info someon see plu account go give friend onlin want full name address etc dox person info</td>\n",
       "      <td>0</td>\n",
       "      <td>1</td>\n",
       "    </tr>\n",
       "    <tr>\n",
       "      <th>660</th>\n",
       "      <td>automat think kingdom heaven end h happen anyon els</td>\n",
       "      <td>0</td>\n",
       "      <td>1</td>\n",
       "    </tr>\n",
       "    <tr>\n",
       "      <th>779</th>\n",
       "      <td>cool make wonder pick choic put extra like could commentari wss expect see found navajo version cool weird dont standard check list extra</td>\n",
       "      <td>0</td>\n",
       "      <td>1</td>\n",
       "    </tr>\n",
       "    <tr>\n",
       "      <th>1259</th>\n",
       "      <td>check episod quack pack plu find frame alway sunni philadelphia hell</td>\n",
       "      <td>0</td>\n",
       "      <td>1</td>\n",
       "    </tr>\n",
       "    <tr>\n",
       "      <th>1057</th>\n",
       "      <td>anyon know plu ad xfiniti plu xfiniti x</td>\n",
       "      <td>0</td>\n",
       "      <td>1</td>\n",
       "    </tr>\n",
       "    <tr>\n",
       "      <th>800</th>\n",
       "      <td>hi teacher look use watchparti featur student howev invit peopl parti small number way invit peopl help would appreci watchparti invit</td>\n",
       "      <td>0</td>\n",
       "      <td>1</td>\n",
       "    </tr>\n",
       "    <tr>\n",
       "      <th>1234</th>\n",
       "      <td>would cool iron tom holland play martin scorses autobiograph film direct scorses</td>\n",
       "      <td>0</td>\n",
       "      <td>1</td>\n",
       "    </tr>\n",
       "    <tr>\n",
       "      <th>1041</th>\n",
       "      <td>suffer outag user rush stream latest wandavis episod</td>\n",
       "      <td>0</td>\n",
       "      <td>1</td>\n",
       "    </tr>\n",
       "    <tr>\n",
       "      <th>813</th>\n",
       "      <td>underr anim movi</td>\n",
       "      <td>0</td>\n",
       "      <td>1</td>\n",
       "    </tr>\n",
       "    <tr>\n",
       "      <th>907</th>\n",
       "      <td>hi chanc hide seri film individu episod seen well entir stagger stage usual work left side menu variou option movi seen seen option cannot set chanc get implement thx advanc hide seri film seen</td>\n",
       "      <td>0</td>\n",
       "      <td>1</td>\n",
       "    </tr>\n",
       "  </tbody>\n",
       "</table>\n",
       "</div>"
      ],
      "text/plain": [
       "                                                                                                                                                                                                                                                                                               clean_text  \\\n",
       "681                                                                                                                                                                                                                                                                               plu grey compar blu ray   \n",
       "1062                                                                                                                                                                                                                                           pretti excit we anderson watch parti first show watch star   \n",
       "1212  hi start watch age ultron first time feel like first scene saw vision ultron say vision explan mean know movi explain youtub scene thor vision vision hold hammer rmmbr see movi neither vision birth feel like trip bad anyon time care enough put time stamp liter see mine age ultron miss scene   \n",
       "936                                                                                                                                                                                                                                                               land choir docuseri detroit youth choir   \n",
       "749                                                                                                                                                                      research imagin stori crave depth reveal park hope someth work haha plan releas show ride park thought rememb suppos someth like   \n",
       "1044                                                                                                                                                                                                                                                                                           rip episod   \n",
       "1082                                                                                                                                                                                                                                                                              hope feel nostalg today   \n",
       "948                                                                                                                                                                                                          still keep joke hulu know one episod wonder cut non us audienc random question solar opposit   \n",
       "1015                                                                                                                                                                                                           pleas make titl part quit button lost count amount time accident quit movi tap screen high   \n",
       "1130                                                 fascin foley sound design long time featur someth want ever sinc special featur monster inc dvd came refresh watch scene without music implement movi yet addit audio track mani movi would repurchas remov music hear natur audio zenim featur amaz   \n",
       "1111                                                                                                                                                                                                                                                           plu reveal european origin slate star titl   \n",
       "941                                                                                                                                                                            love good trailer hate howev give option watch trailer film turn clip hard sourc origin trailer see damn film clip trailer   \n",
       "796                                                                                                                  head auto watch episod end season goe ep instead ep order even episod list got jump past first episod even play episod far order episod encount son anarchi season list episod first   \n",
       "664                                                                                                                                                     need show download phone guy show suggest download show play random episod worri stori arc continu like simpson phinea ferb download show suggest   \n",
       "1014                                                                                                                                                        heard good thing show want give shot appar us version type thing common show come us first canada later anybodi know owl hous ad canadian app   \n",
       "1119                                                                                                                                                                                                                                                                       first curella trailer tomorrow   \n",
       "842                                               like sure violetta english show spanish way put subtitl pretti sure dub like spanish show non english show option sub ask bother voic match charact make weird watch edit look show like spanish without dub access caption kinda get like viloetta dub   \n",
       "1064                                                                                                                                                                                                                                                                           gargoyl aspect ratio error   \n",
       "836                                                                                                                                                                                                                                                                           plu win rip stream playbook   \n",
       "653                                                                                                                                                                                                                                                                    anyon recommend good tv show watch   \n",
       "618                                                                              watch weekend raw honest opinion movi tri bias fan think beauti think main thing got movi import uniti trust definit visual pleas think storylin love hate kind messag get favourit quot let talk think raya last dragon   \n",
       "783                                                                                                                                peopl true crime documentari like mysteri zodiac case perfect show get slow time realli good nonetheless rememb origin fx show might avail countri fx show air network   \n",
       "1153                                                                                                                                                                                            wonder person info someon see plu account go give friend onlin want full name address etc dox person info   \n",
       "660                                                                                                                                                                                                                                                   automat think kingdom heaven end h happen anyon els   \n",
       "779                                                                                                                                                             cool make wonder pick choic put extra like could commentari wss expect see found navajo version cool weird dont standard check list extra   \n",
       "1259                                                                                                                                                                                                                                 check episod quack pack plu find frame alway sunni philadelphia hell   \n",
       "1057                                                                                                                                                                                                                                                              anyon know plu ad xfiniti plu xfiniti x   \n",
       "800                                                                                                                                                                hi teacher look use watchparti featur student howev invit peopl parti small number way invit peopl help would appreci watchparti invit   \n",
       "1234                                                                                                                                                                                                                     would cool iron tom holland play martin scorses autobiograph film direct scorses   \n",
       "1041                                                                                                                                                                                                                                                 suffer outag user rush stream latest wandavis episod   \n",
       "813                                                                                                                                                                                                                                                                                      underr anim movi   \n",
       "907                                                                                                     hi chanc hide seri film individu episod seen well entir stagger stage usual work left side menu variou option movi seen seen option cannot set chanc get implement thx advanc hide seri film seen   \n",
       "\n",
       "      predicted  actual  \n",
       "681           0       1  \n",
       "1062          0       1  \n",
       "1212          0       1  \n",
       "936           0       1  \n",
       "749           0       1  \n",
       "1044          0       1  \n",
       "1082          0       1  \n",
       "948           0       1  \n",
       "1015          0       1  \n",
       "1130          0       1  \n",
       "1111          0       1  \n",
       "941           0       1  \n",
       "796           0       1  \n",
       "664           0       1  \n",
       "1014          0       1  \n",
       "1119          0       1  \n",
       "842           0       1  \n",
       "1064          0       1  \n",
       "836           0       1  \n",
       "653           0       1  \n",
       "618           0       1  \n",
       "783           0       1  \n",
       "1153          0       1  \n",
       "660           0       1  \n",
       "779           0       1  \n",
       "1259          0       1  \n",
       "1057          0       1  \n",
       "800           0       1  \n",
       "1234          0       1  \n",
       "1041          0       1  \n",
       "813           0       1  \n",
       "907           0       1  "
      ]
     },
     "execution_count": 120,
     "metadata": {},
     "output_type": "execute_result"
    }
   ],
   "source": [
    "misinterpreted_disneyplus = predictions_df[(predictions_df['actual'] != predictions_df['predicted']) & \n",
    "                                        (predictions_df['actual'] == 1)]\n",
    "misinterpreted_disneyplus"
   ]
  },
  {
   "cell_type": "markdown",
   "metadata": {},
   "source": [
    "While analysing feature importance, we recognized that there are several common words between Netflix and Disney Plus which play an important part in predicting the individual subreddits. Such common words like watch, episode, season etc and some unique words like plu, wandavis, stranger things, etc were added in stopwords list. <br>\n",
    "\n",
    "In addition to this, most of the posts would either talk about a specific show or some inquiry related to the platform. If the show/series was mentioned only once(which would be quite normal considering new shows come up every month) there is a possibility that those features would not affect the prediction as they are the least occurring words. And if the post is about some inquiry related to a platform, it becomes very generalized as words like subscription, access, device, etc are very common in both the subreddit posts. Hence in these scenarios it would be difficult to interpret the posts."
   ]
  },
  {
   "cell_type": "markdown",
   "metadata": {},
   "source": [
    "## Conclusion & Recommendation"
   ]
  },
  {
   "attachments": {},
   "cell_type": "markdown",
   "metadata": {},
   "source": [
    "**Conclusion:**\n",
    "\n",
    "We compared several models through their accuracy scores with and without additional stopwords added. The score was much better without the additional stopwords, but the later would give us more ethical predictions and would not be too biased. So the final model chosen was Naive Bayes with CountVectorizer which returned an accuracy score of 77% for test data.\n",
    "\n",
    "Now from the analysis we can say that there are several obvious common words between netflix and disney plus like watch, series, tv, season, like, recommend, movi, stream, finish and so on. From these words we can interpret that people in general are talking about watching/recommending or have finish watching a series or a movie on a streaming platform. \n",
    "\n",
    "In addition to these, other common words like access, subscript, contri, etc would depict that they are also talking or inquiring about the subscription or access policies in different countries.\n",
    "\n",
    "We can also derive from the analysis that people on the subreddit posts are talking about varied genres like crime, marvel, drama, war, love, documentri, anime.\n",
    "\n",
    "Aside from the common words unique words like wandavision, stranger things, raya, drama, war, marvel etc which are sepcific to one platform also came up in the top 30 features that were important in predicting the posts. Here we can get a clear understanding of which words belong to which platform. <br>\n",
    "Examples: \n",
    "- Wandavision is the new series aired in January 2021 on disney plus. \n",
    "- Stranger things is the American series on Netflix since 2016.\n",
    "- Now if we consider drama and marvel features, we can clearly say that disney plus airs most of the marvel movies and netflix airs most of the drama movies/series.\n",
    "\n",
    "\n",
    "From the exploratory analysis and feature importance, we can say that fewer movies or series name were highlighted. The reason behind this might be that the new series/movies are aired all the time on both the platforms, and so it seldom occurs that the same movie or series is mentioned several times to come up in the top discussed words which is expected. However, w egot better insights of movie names from disney plus posts as compared to netflix posts. Maybe can dig out more features by adding more stop words in future analysis.\n",
    "\n",
    "**Recommendations:**\n",
    "\n",
    "- Disney plus contains movies like wandavision which is a superhero fiction movie. It also contains few anime movies like raya the last dragon, the simpsons, etc. Hence based on the above and external analysis, on genres basis we can suggest users to go for Disney plus if they are more interested in marvel, animated movies or series.\n",
    "- Fewer named of movies and series came up in our analysis but features like drama, stranger things (series on netflix), documentary, anime etc suggest that if users are more inclined towards these genres should go for netflix."
   ]
  },
  {
   "cell_type": "code",
   "execution_count": null,
   "metadata": {},
   "outputs": [],
   "source": []
  }
 ],
 "metadata": {
  "kernelspec": {
   "display_name": "Python 3",
   "language": "python",
   "name": "python3"
  },
  "language_info": {
   "codemirror_mode": {
    "name": "ipython",
    "version": 3
   },
   "file_extension": ".py",
   "mimetype": "text/x-python",
   "name": "python",
   "nbconvert_exporter": "python",
   "pygments_lexer": "ipython3",
   "version": "3.8.5"
  }
 },
 "nbformat": 4,
 "nbformat_minor": 4
}
