{
 "cells": [
  {
   "cell_type": "markdown",
   "metadata": {},
   "source": [
    "# Project 1: SAT & ACT Analysis"
   ]
  },
  {
   "cell_type": "markdown",
   "metadata": {},
   "source": [
    "## Problem Statement"
   ]
  },
  {
   "cell_type": "markdown",
   "metadata": {},
   "source": [
    "ACT and SAT are nationally recognized standardized tests and common admission requirements for US schools. All US colleges and universities accept scores from either the ACT or SAT. \n",
    "\n",
    "As a part of administers of SAT organization team, the objective is to analyse the participation rates of SAT over ACT and provide recommendations to increase the participation rates for SAT."
   ]
  },
  {
   "cell_type": "markdown",
   "metadata": {},
   "source": [
    "## Executive Summary\n",
    "\n",
    "This project analyses the participation of students who appeared for SAT and ACT examination for the year of 2017 and 2018 after the SAT format was updated in 2016. All universities in US accept either SAT or ACT. So students opt for one out of the two based on their convenience, state policies, fee, etc.\n",
    "\n",
    "The data is state wise representation of participation percentage and the scores for both the test. SAT data includes participation rate, Evidence based reading and writing, math and total score for both 2017 and 2018. ACT data includes particiaption rate, English, Math, Reading, Science and Composite score for both 2017 and 2018.\n",
    "\n",
    "Analysis has been carried out based in several stages on the data and outside research through numeric statistic and graphs. \n",
    "\n",
    "2017 Data Import & Cleaning : First stage is to load data from csv file for SAT and ACT 2017 test and perform data cleaning\n",
    "\n",
    "2018 Data Import and Cleaning : Next stage is to load data from csv file for SAT and ACT 2018 test and perform data cleaning\n",
    "\n",
    "Exploratory Data Analysis : Analyse the statistical aspects of data\n",
    "\n",
    "Data Visualization : Analyse the data through visual aspects i.e by plotting graphs\n",
    "\n",
    "Descriptive and Inferential Statistics : Describe the fields associated with the data and conduct hypothesis testing\n",
    "\n",
    "Outside Research : Conduct outside research to support the observations and recommendations\n",
    "\n",
    "Conclusions and Recommendations : Describe the conclusion drawn from the analysis carried out provide recommendations\n",
    "\n",
    "It was observed after analyses that the SAT participation rate increased for year 2018 over 2017 but has not taken over the ACT. Moreover, the SAT and ACT scores do not share a co relation. But the SAT 2017 vs 2018 scores and ACT 2017 vs 2018 scores do show a linear pattern which states there is not much variance in the scores for year 2017 and 2018. As ther was new format introduced in 2016, several changes were made which might be the reason for increase in the SAT participation rate. \n",
    "\n",
    "### Contents:\n",
    "- [2017 Data Import & Cleaning](#Data-Import-and-Cleaning)\n",
    "- [2018 Data Import and Cleaning](#2018-Data-Import-and-Cleaning)\n",
    "- [Exploratory Data Analysis](#Exploratory-Data-Analysis)\n",
    "- [Data Visualization](#Visualize-the-data)\n",
    "- [Descriptive and Inferential Statistics](#Descriptive-and-Inferential-Statistics)\n",
    "- [Outside Research](#Outside-Research)\n",
    "- [Conclusions and Recommendations](#Conclusions-and-Recommendations)"
   ]
  },
  {
   "cell_type": "markdown",
   "metadata": {},
   "source": [
    "**If you combine your problem statement, executive summary, data dictionary, and conclusions/recommendations, you have an amazing README.md file that quickly aligns your audience to the contents of your project.** Don't forget to cite your data sources!"
   ]
  },
  {
   "cell_type": "markdown",
   "metadata": {},
   "source": [
    "*All libraries used should be added here*"
   ]
  },
  {
   "cell_type": "code",
   "execution_count": 185,
   "metadata": {},
   "outputs": [],
   "source": [
    "#Imports:\n",
    "import numpy as np\n",
    "import pandas as pd\n",
    "import matplotlib.pyplot as plt\n",
    "import seaborn as sns\n",
    "from scipy import stats\n",
    "\n",
    "%matplotlib inline"
   ]
  },
  {
   "cell_type": "markdown",
   "metadata": {},
   "source": [
    "## 2017 Data Import and Cleaning"
   ]
  },
  {
   "cell_type": "markdown",
   "metadata": {},
   "source": [
    "#### 1. Read In SAT & ACT  Data\n",
    "\n",
    "Read in the `sat_2017.csv` and `act_2017.csv` files and assign them to appropriately named pandas dataframes."
   ]
  },
  {
   "cell_type": "code",
   "execution_count": 186,
   "metadata": {},
   "outputs": [],
   "source": [
    "#Importing csv files in dataframe:\n",
    "\n",
    "sat_2017 = pd.read_csv(\"../data/sat_2017.csv\")\n",
    "act_2017 = pd.read_csv(\"../data/act_2017.csv\")"
   ]
  },
  {
   "cell_type": "markdown",
   "metadata": {},
   "source": [
    "#### 2. Display Data\n",
    "\n",
    "Print the first 10 rows of each dataframe to your jupyter notebook"
   ]
  },
  {
   "cell_type": "code",
   "execution_count": 187,
   "metadata": {},
   "outputs": [
    {
     "data": {
      "text/html": [
       "<div>\n",
       "<style scoped>\n",
       "    .dataframe tbody tr th:only-of-type {\n",
       "        vertical-align: middle;\n",
       "    }\n",
       "\n",
       "    .dataframe tbody tr th {\n",
       "        vertical-align: top;\n",
       "    }\n",
       "\n",
       "    .dataframe thead th {\n",
       "        text-align: right;\n",
       "    }\n",
       "</style>\n",
       "<table border=\"1\" class=\"dataframe\">\n",
       "  <thead>\n",
       "    <tr style=\"text-align: right;\">\n",
       "      <th></th>\n",
       "      <th>State</th>\n",
       "      <th>Participation</th>\n",
       "      <th>Evidence-Based Reading and Writing</th>\n",
       "      <th>Math</th>\n",
       "      <th>Total</th>\n",
       "    </tr>\n",
       "  </thead>\n",
       "  <tbody>\n",
       "    <tr>\n",
       "      <th>0</th>\n",
       "      <td>Alabama</td>\n",
       "      <td>5%</td>\n",
       "      <td>593</td>\n",
       "      <td>572</td>\n",
       "      <td>1165</td>\n",
       "    </tr>\n",
       "    <tr>\n",
       "      <th>1</th>\n",
       "      <td>Alaska</td>\n",
       "      <td>38%</td>\n",
       "      <td>547</td>\n",
       "      <td>533</td>\n",
       "      <td>1080</td>\n",
       "    </tr>\n",
       "    <tr>\n",
       "      <th>2</th>\n",
       "      <td>Arizona</td>\n",
       "      <td>30%</td>\n",
       "      <td>563</td>\n",
       "      <td>553</td>\n",
       "      <td>1116</td>\n",
       "    </tr>\n",
       "    <tr>\n",
       "      <th>3</th>\n",
       "      <td>Arkansas</td>\n",
       "      <td>3%</td>\n",
       "      <td>614</td>\n",
       "      <td>594</td>\n",
       "      <td>1208</td>\n",
       "    </tr>\n",
       "    <tr>\n",
       "      <th>4</th>\n",
       "      <td>California</td>\n",
       "      <td>53%</td>\n",
       "      <td>531</td>\n",
       "      <td>524</td>\n",
       "      <td>1055</td>\n",
       "    </tr>\n",
       "    <tr>\n",
       "      <th>5</th>\n",
       "      <td>Colorado</td>\n",
       "      <td>11%</td>\n",
       "      <td>606</td>\n",
       "      <td>595</td>\n",
       "      <td>1201</td>\n",
       "    </tr>\n",
       "    <tr>\n",
       "      <th>6</th>\n",
       "      <td>Connecticut</td>\n",
       "      <td>100%</td>\n",
       "      <td>530</td>\n",
       "      <td>512</td>\n",
       "      <td>1041</td>\n",
       "    </tr>\n",
       "    <tr>\n",
       "      <th>7</th>\n",
       "      <td>Delaware</td>\n",
       "      <td>100%</td>\n",
       "      <td>503</td>\n",
       "      <td>492</td>\n",
       "      <td>996</td>\n",
       "    </tr>\n",
       "    <tr>\n",
       "      <th>8</th>\n",
       "      <td>District of Columbia</td>\n",
       "      <td>100%</td>\n",
       "      <td>482</td>\n",
       "      <td>468</td>\n",
       "      <td>950</td>\n",
       "    </tr>\n",
       "    <tr>\n",
       "      <th>9</th>\n",
       "      <td>Florida</td>\n",
       "      <td>83%</td>\n",
       "      <td>520</td>\n",
       "      <td>497</td>\n",
       "      <td>1017</td>\n",
       "    </tr>\n",
       "  </tbody>\n",
       "</table>\n",
       "</div>"
      ],
      "text/plain": [
       "                  State Participation  Evidence-Based Reading and Writing  \\\n",
       "0               Alabama            5%                                 593   \n",
       "1                Alaska           38%                                 547   \n",
       "2               Arizona           30%                                 563   \n",
       "3              Arkansas            3%                                 614   \n",
       "4            California           53%                                 531   \n",
       "5              Colorado           11%                                 606   \n",
       "6           Connecticut          100%                                 530   \n",
       "7              Delaware          100%                                 503   \n",
       "8  District of Columbia          100%                                 482   \n",
       "9               Florida           83%                                 520   \n",
       "\n",
       "   Math  Total  \n",
       "0   572   1165  \n",
       "1   533   1080  \n",
       "2   553   1116  \n",
       "3   594   1208  \n",
       "4   524   1055  \n",
       "5   595   1201  \n",
       "6   512   1041  \n",
       "7   492    996  \n",
       "8   468    950  \n",
       "9   497   1017  "
      ]
     },
     "execution_count": 187,
     "metadata": {},
     "output_type": "execute_result"
    }
   ],
   "source": [
    "#SAT data for 2017:\n",
    "sat_2017.head(10)"
   ]
  },
  {
   "cell_type": "code",
   "execution_count": 188,
   "metadata": {},
   "outputs": [
    {
     "data": {
      "text/html": [
       "<div>\n",
       "<style scoped>\n",
       "    .dataframe tbody tr th:only-of-type {\n",
       "        vertical-align: middle;\n",
       "    }\n",
       "\n",
       "    .dataframe tbody tr th {\n",
       "        vertical-align: top;\n",
       "    }\n",
       "\n",
       "    .dataframe thead th {\n",
       "        text-align: right;\n",
       "    }\n",
       "</style>\n",
       "<table border=\"1\" class=\"dataframe\">\n",
       "  <thead>\n",
       "    <tr style=\"text-align: right;\">\n",
       "      <th></th>\n",
       "      <th>State</th>\n",
       "      <th>Participation</th>\n",
       "      <th>English</th>\n",
       "      <th>Math</th>\n",
       "      <th>Reading</th>\n",
       "      <th>Science</th>\n",
       "      <th>Composite</th>\n",
       "    </tr>\n",
       "  </thead>\n",
       "  <tbody>\n",
       "    <tr>\n",
       "      <th>0</th>\n",
       "      <td>National</td>\n",
       "      <td>60%</td>\n",
       "      <td>20.3</td>\n",
       "      <td>20.7</td>\n",
       "      <td>21.4</td>\n",
       "      <td>21.0</td>\n",
       "      <td>21.0</td>\n",
       "    </tr>\n",
       "    <tr>\n",
       "      <th>1</th>\n",
       "      <td>Alabama</td>\n",
       "      <td>100%</td>\n",
       "      <td>18.9</td>\n",
       "      <td>18.4</td>\n",
       "      <td>19.7</td>\n",
       "      <td>19.4</td>\n",
       "      <td>19.2</td>\n",
       "    </tr>\n",
       "    <tr>\n",
       "      <th>2</th>\n",
       "      <td>Alaska</td>\n",
       "      <td>65%</td>\n",
       "      <td>18.7</td>\n",
       "      <td>19.8</td>\n",
       "      <td>20.4</td>\n",
       "      <td>19.9</td>\n",
       "      <td>19.8</td>\n",
       "    </tr>\n",
       "    <tr>\n",
       "      <th>3</th>\n",
       "      <td>Arizona</td>\n",
       "      <td>62%</td>\n",
       "      <td>18.6</td>\n",
       "      <td>19.8</td>\n",
       "      <td>20.1</td>\n",
       "      <td>19.8</td>\n",
       "      <td>19.7</td>\n",
       "    </tr>\n",
       "    <tr>\n",
       "      <th>4</th>\n",
       "      <td>Arkansas</td>\n",
       "      <td>100%</td>\n",
       "      <td>18.9</td>\n",
       "      <td>19.0</td>\n",
       "      <td>19.7</td>\n",
       "      <td>19.5</td>\n",
       "      <td>19.4</td>\n",
       "    </tr>\n",
       "    <tr>\n",
       "      <th>5</th>\n",
       "      <td>California</td>\n",
       "      <td>31%</td>\n",
       "      <td>22.5</td>\n",
       "      <td>22.7</td>\n",
       "      <td>23.1</td>\n",
       "      <td>22.2</td>\n",
       "      <td>22.8</td>\n",
       "    </tr>\n",
       "    <tr>\n",
       "      <th>6</th>\n",
       "      <td>Colorado</td>\n",
       "      <td>100%</td>\n",
       "      <td>20.1</td>\n",
       "      <td>20.3</td>\n",
       "      <td>21.2</td>\n",
       "      <td>20.9</td>\n",
       "      <td>20.8</td>\n",
       "    </tr>\n",
       "    <tr>\n",
       "      <th>7</th>\n",
       "      <td>Connecticut</td>\n",
       "      <td>31%</td>\n",
       "      <td>25.5</td>\n",
       "      <td>24.6</td>\n",
       "      <td>25.6</td>\n",
       "      <td>24.6</td>\n",
       "      <td>25.2</td>\n",
       "    </tr>\n",
       "    <tr>\n",
       "      <th>8</th>\n",
       "      <td>Delaware</td>\n",
       "      <td>18%</td>\n",
       "      <td>24.1</td>\n",
       "      <td>23.4</td>\n",
       "      <td>24.8</td>\n",
       "      <td>23.6</td>\n",
       "      <td>24.1</td>\n",
       "    </tr>\n",
       "    <tr>\n",
       "      <th>9</th>\n",
       "      <td>District of Columbia</td>\n",
       "      <td>32%</td>\n",
       "      <td>24.4</td>\n",
       "      <td>23.5</td>\n",
       "      <td>24.9</td>\n",
       "      <td>23.5</td>\n",
       "      <td>24.2</td>\n",
       "    </tr>\n",
       "  </tbody>\n",
       "</table>\n",
       "</div>"
      ],
      "text/plain": [
       "                  State Participation  English  Math  Reading  Science  \\\n",
       "0              National           60%     20.3  20.7     21.4     21.0   \n",
       "1               Alabama          100%     18.9  18.4     19.7     19.4   \n",
       "2                Alaska           65%     18.7  19.8     20.4     19.9   \n",
       "3               Arizona           62%     18.6  19.8     20.1     19.8   \n",
       "4              Arkansas          100%     18.9  19.0     19.7     19.5   \n",
       "5            California           31%     22.5  22.7     23.1     22.2   \n",
       "6              Colorado          100%     20.1  20.3     21.2     20.9   \n",
       "7           Connecticut           31%     25.5  24.6     25.6     24.6   \n",
       "8              Delaware           18%     24.1  23.4     24.8     23.6   \n",
       "9  District of Columbia           32%     24.4  23.5     24.9     23.5   \n",
       "\n",
       "  Composite  \n",
       "0      21.0  \n",
       "1      19.2  \n",
       "2      19.8  \n",
       "3      19.7  \n",
       "4      19.4  \n",
       "5      22.8  \n",
       "6      20.8  \n",
       "7      25.2  \n",
       "8      24.1  \n",
       "9      24.2  "
      ]
     },
     "execution_count": 188,
     "metadata": {},
     "output_type": "execute_result"
    }
   ],
   "source": [
    "#ACT data fro 2017\n",
    "act_2017.head(10)"
   ]
  },
  {
   "cell_type": "markdown",
   "metadata": {},
   "source": [
    "#### 3. Verbally Describe Data\n",
    "\n",
    "Take your time looking through the data and thoroughly describe the data in the markdown cell below. "
   ]
  },
  {
   "cell_type": "markdown",
   "metadata": {},
   "source": [
    "Answer: \n",
    "\n",
    "- Above is the data for SAT and ACT, which are both admission requirement test for US schools.\n",
    "\n",
    "- sat_2017 contains the participation rates for each state in US along with their average scores that the students obtained in that particular state for Evidence-Based Reading and Writing(ERW), Math and Total for year 2017.\n",
    "\n",
    "- act_2017 contains the participation rates for each state in US along with the average scores the students obtained in that particular state for English, Math, Reading and Science for the year 2017.\n",
    "\n",
    "- Furthermore, refer below for the numeric statistics."
   ]
  },
  {
   "cell_type": "code",
   "execution_count": 189,
   "metadata": {},
   "outputs": [
    {
     "data": {
      "text/html": [
       "<div>\n",
       "<style scoped>\n",
       "    .dataframe tbody tr th:only-of-type {\n",
       "        vertical-align: middle;\n",
       "    }\n",
       "\n",
       "    .dataframe tbody tr th {\n",
       "        vertical-align: top;\n",
       "    }\n",
       "\n",
       "    .dataframe thead th {\n",
       "        text-align: right;\n",
       "    }\n",
       "</style>\n",
       "<table border=\"1\" class=\"dataframe\">\n",
       "  <thead>\n",
       "    <tr style=\"text-align: right;\">\n",
       "      <th></th>\n",
       "      <th>Evidence-Based Reading and Writing</th>\n",
       "      <th>Math</th>\n",
       "      <th>Total</th>\n",
       "    </tr>\n",
       "  </thead>\n",
       "  <tbody>\n",
       "    <tr>\n",
       "      <th>count</th>\n",
       "      <td>51.000000</td>\n",
       "      <td>51.000000</td>\n",
       "      <td>51.000000</td>\n",
       "    </tr>\n",
       "    <tr>\n",
       "      <th>mean</th>\n",
       "      <td>569.117647</td>\n",
       "      <td>547.627451</td>\n",
       "      <td>1126.098039</td>\n",
       "    </tr>\n",
       "    <tr>\n",
       "      <th>std</th>\n",
       "      <td>45.666901</td>\n",
       "      <td>84.909119</td>\n",
       "      <td>92.494812</td>\n",
       "    </tr>\n",
       "    <tr>\n",
       "      <th>min</th>\n",
       "      <td>482.000000</td>\n",
       "      <td>52.000000</td>\n",
       "      <td>950.000000</td>\n",
       "    </tr>\n",
       "    <tr>\n",
       "      <th>25%</th>\n",
       "      <td>533.500000</td>\n",
       "      <td>522.000000</td>\n",
       "      <td>1055.500000</td>\n",
       "    </tr>\n",
       "    <tr>\n",
       "      <th>50%</th>\n",
       "      <td>559.000000</td>\n",
       "      <td>548.000000</td>\n",
       "      <td>1107.000000</td>\n",
       "    </tr>\n",
       "    <tr>\n",
       "      <th>75%</th>\n",
       "      <td>613.000000</td>\n",
       "      <td>599.000000</td>\n",
       "      <td>1212.000000</td>\n",
       "    </tr>\n",
       "    <tr>\n",
       "      <th>max</th>\n",
       "      <td>644.000000</td>\n",
       "      <td>651.000000</td>\n",
       "      <td>1295.000000</td>\n",
       "    </tr>\n",
       "  </tbody>\n",
       "</table>\n",
       "</div>"
      ],
      "text/plain": [
       "       Evidence-Based Reading and Writing        Math        Total\n",
       "count                           51.000000   51.000000    51.000000\n",
       "mean                           569.117647  547.627451  1126.098039\n",
       "std                             45.666901   84.909119    92.494812\n",
       "min                            482.000000   52.000000   950.000000\n",
       "25%                            533.500000  522.000000  1055.500000\n",
       "50%                            559.000000  548.000000  1107.000000\n",
       "75%                            613.000000  599.000000  1212.000000\n",
       "max                            644.000000  651.000000  1295.000000"
      ]
     },
     "execution_count": 189,
     "metadata": {},
     "output_type": "execute_result"
    }
   ],
   "source": [
    "sat_2017.describe()"
   ]
  },
  {
   "cell_type": "code",
   "execution_count": 190,
   "metadata": {},
   "outputs": [
    {
     "data": {
      "text/html": [
       "<div>\n",
       "<style scoped>\n",
       "    .dataframe tbody tr th:only-of-type {\n",
       "        vertical-align: middle;\n",
       "    }\n",
       "\n",
       "    .dataframe tbody tr th {\n",
       "        vertical-align: top;\n",
       "    }\n",
       "\n",
       "    .dataframe thead th {\n",
       "        text-align: right;\n",
       "    }\n",
       "</style>\n",
       "<table border=\"1\" class=\"dataframe\">\n",
       "  <thead>\n",
       "    <tr style=\"text-align: right;\">\n",
       "      <th></th>\n",
       "      <th>English</th>\n",
       "      <th>Math</th>\n",
       "      <th>Reading</th>\n",
       "      <th>Science</th>\n",
       "    </tr>\n",
       "  </thead>\n",
       "  <tbody>\n",
       "    <tr>\n",
       "      <th>count</th>\n",
       "      <td>52.000000</td>\n",
       "      <td>52.000000</td>\n",
       "      <td>52.000000</td>\n",
       "      <td>52.000000</td>\n",
       "    </tr>\n",
       "    <tr>\n",
       "      <th>mean</th>\n",
       "      <td>20.919231</td>\n",
       "      <td>21.173077</td>\n",
       "      <td>22.001923</td>\n",
       "      <td>21.040385</td>\n",
       "    </tr>\n",
       "    <tr>\n",
       "      <th>std</th>\n",
       "      <td>2.332132</td>\n",
       "      <td>1.963602</td>\n",
       "      <td>2.048672</td>\n",
       "      <td>3.151113</td>\n",
       "    </tr>\n",
       "    <tr>\n",
       "      <th>min</th>\n",
       "      <td>16.300000</td>\n",
       "      <td>18.000000</td>\n",
       "      <td>18.100000</td>\n",
       "      <td>2.300000</td>\n",
       "    </tr>\n",
       "    <tr>\n",
       "      <th>25%</th>\n",
       "      <td>19.000000</td>\n",
       "      <td>19.400000</td>\n",
       "      <td>20.475000</td>\n",
       "      <td>19.900000</td>\n",
       "    </tr>\n",
       "    <tr>\n",
       "      <th>50%</th>\n",
       "      <td>20.550000</td>\n",
       "      <td>20.900000</td>\n",
       "      <td>21.700000</td>\n",
       "      <td>21.150000</td>\n",
       "    </tr>\n",
       "    <tr>\n",
       "      <th>75%</th>\n",
       "      <td>23.300000</td>\n",
       "      <td>23.100000</td>\n",
       "      <td>24.125000</td>\n",
       "      <td>22.525000</td>\n",
       "    </tr>\n",
       "    <tr>\n",
       "      <th>max</th>\n",
       "      <td>25.500000</td>\n",
       "      <td>25.300000</td>\n",
       "      <td>26.000000</td>\n",
       "      <td>24.900000</td>\n",
       "    </tr>\n",
       "  </tbody>\n",
       "</table>\n",
       "</div>"
      ],
      "text/plain": [
       "         English       Math    Reading    Science\n",
       "count  52.000000  52.000000  52.000000  52.000000\n",
       "mean   20.919231  21.173077  22.001923  21.040385\n",
       "std     2.332132   1.963602   2.048672   3.151113\n",
       "min    16.300000  18.000000  18.100000   2.300000\n",
       "25%    19.000000  19.400000  20.475000  19.900000\n",
       "50%    20.550000  20.900000  21.700000  21.150000\n",
       "75%    23.300000  23.100000  24.125000  22.525000\n",
       "max    25.500000  25.300000  26.000000  24.900000"
      ]
     },
     "execution_count": 190,
     "metadata": {},
     "output_type": "execute_result"
    }
   ],
   "source": [
    "act_2017.describe()"
   ]
  },
  {
   "cell_type": "markdown",
   "metadata": {},
   "source": [
    "#### 4a. Does the data look complete? "
   ]
  },
  {
   "cell_type": "code",
   "execution_count": 191,
   "metadata": {},
   "outputs": [
    {
     "data": {
      "text/plain": [
       "State                                 0\n",
       "Participation                         0\n",
       "Evidence-Based Reading and Writing    0\n",
       "Math                                  0\n",
       "Total                                 0\n",
       "dtype: int64"
      ]
     },
     "execution_count": 191,
     "metadata": {},
     "output_type": "execute_result"
    }
   ],
   "source": [
    "(sat_2017.isnull().sum() | sat_2017.eq(' ').sum())"
   ]
  },
  {
   "cell_type": "code",
   "execution_count": 192,
   "metadata": {},
   "outputs": [
    {
     "data": {
      "text/plain": [
       "State            0\n",
       "Participation    0\n",
       "English          0\n",
       "Math             0\n",
       "Reading          0\n",
       "Science          0\n",
       "Composite        0\n",
       "dtype: int64"
      ]
     },
     "execution_count": 192,
     "metadata": {},
     "output_type": "execute_result"
    }
   ],
   "source": [
    "(act_2017.isnull().sum() | act_2017.eq(' ').sum())"
   ]
  },
  {
   "cell_type": "markdown",
   "metadata": {},
   "source": [
    "Answer: There are no null/NA nor empty fields for both the datasets sat_2017 and act_2017. Hence we can say that it looks complete. "
   ]
  },
  {
   "cell_type": "markdown",
   "metadata": {},
   "source": [
    "#### 4b. Are there any obvious issues with the observations?\n",
    "\n",
    "**What is the minimum *possible* value for each test/subtest? What is the maximum *possible* value?**\n",
    "\n",
    "Consider comparing any questionable values to the sources of your data:\n",
    "- [SAT](https://blog.collegevine.com/here-are-the-average-sat-scores-by-state/)\n",
    "- [ACT](https://blog.prepscholar.com/act-scores-by-state-averages-highs-and-lows)"
   ]
  },
  {
   "cell_type": "code",
   "execution_count": 193,
   "metadata": {},
   "outputs": [
    {
     "name": "stdout",
     "output_type": "stream",
     "text": [
      "Minimum scores for SAT 2017:\n",
      "Evidence-Based Reading and Writing    482\n",
      "Math                                   52\n",
      "dtype: int64\n"
     ]
    }
   ],
   "source": [
    "print(\"Minimum scores for SAT 2017:\\n\" + str(sat_2017[['Evidence-Based Reading and Writing', 'Math']].min()))"
   ]
  },
  {
   "cell_type": "code",
   "execution_count": 194,
   "metadata": {},
   "outputs": [
    {
     "name": "stdout",
     "output_type": "stream",
     "text": [
      "Maximum scores for SAT 2017:\n",
      "Evidence-Based Reading and Writing    644\n",
      "Math                                  651\n",
      "dtype: int64\n"
     ]
    }
   ],
   "source": [
    "print(\"Maximum scores for SAT 2017:\\n\" + str(sat_2017[['Evidence-Based Reading and Writing', 'Math']].max()))"
   ]
  },
  {
   "cell_type": "code",
   "execution_count": 195,
   "metadata": {},
   "outputs": [
    {
     "name": "stdout",
     "output_type": "stream",
     "text": [
      "Minimum scores for ACT 2017:\n",
      "English    16.3\n",
      "Math       18.0\n",
      "Reading    18.1\n",
      "Science     2.3\n",
      "dtype: float64\n"
     ]
    }
   ],
   "source": [
    "print(\"Minimum scores for ACT 2017:\\n\" + str(act_2017[['English', 'Math', 'Reading', 'Science']].min()))"
   ]
  },
  {
   "cell_type": "code",
   "execution_count": 196,
   "metadata": {},
   "outputs": [
    {
     "name": "stdout",
     "output_type": "stream",
     "text": [
      "Maximum scores for SAT 2017:\n",
      "English    25.5\n",
      "Math       25.3\n",
      "Reading    26.0\n",
      "Science    24.9\n",
      "dtype: float64\n"
     ]
    }
   ],
   "source": [
    "print(\"Maximum scores for SAT 2017:\\n\" + str(act_2017[['English', 'Math', 'Reading', 'Science']].max()))"
   ]
  },
  {
   "cell_type": "markdown",
   "metadata": {},
   "source": [
    "Answer:\n",
    "\n",
    "Below is the score range i.e minimum and maximum possible values for both the test.\n",
    "\n",
    "**SAT**\n",
    "\n",
    "- Minimum possible value of each sub test: 1\n",
    "- Maximum possible value of each sub test: 36\n",
    "\n",
    "**ACT**\n",
    "\n",
    "- Minimum possible value of each sub test: 200\n",
    "- Maximum possible value of each sub test: 400\n",
    "\n",
    "[Click here for reference](https://blog.prepscholar.com/act-vs-sat)"
   ]
  },
  {
   "cell_type": "markdown",
   "metadata": {},
   "source": [
    "#### 4c. Fix any errors you identified\n",
    "\n",
    "**The data is available** so there's no need to guess or calculate anything. If you didn't find any errors, continue to the next step."
   ]
  },
  {
   "cell_type": "markdown",
   "metadata": {},
   "source": [
    "The minimum math score for sat_2017 is 52. If we check the [reference](https://blog.prepscholar.com/act-vs-sat), we can conclude that the range of scores for each subtest is 200-400. \n",
    "\n",
    "Hence, need to find the record which has math score as 52 for sat_2017."
   ]
  },
  {
   "cell_type": "code",
   "execution_count": 197,
   "metadata": {},
   "outputs": [
    {
     "data": {
      "text/html": [
       "<div>\n",
       "<style scoped>\n",
       "    .dataframe tbody tr th:only-of-type {\n",
       "        vertical-align: middle;\n",
       "    }\n",
       "\n",
       "    .dataframe tbody tr th {\n",
       "        vertical-align: top;\n",
       "    }\n",
       "\n",
       "    .dataframe thead th {\n",
       "        text-align: right;\n",
       "    }\n",
       "</style>\n",
       "<table border=\"1\" class=\"dataframe\">\n",
       "  <thead>\n",
       "    <tr style=\"text-align: right;\">\n",
       "      <th></th>\n",
       "      <th>State</th>\n",
       "      <th>Participation</th>\n",
       "      <th>Evidence-Based Reading and Writing</th>\n",
       "      <th>Math</th>\n",
       "      <th>Total</th>\n",
       "    </tr>\n",
       "  </thead>\n",
       "  <tbody>\n",
       "    <tr>\n",
       "      <th>20</th>\n",
       "      <td>Maryland</td>\n",
       "      <td>69%</td>\n",
       "      <td>536</td>\n",
       "      <td>52</td>\n",
       "      <td>1060</td>\n",
       "    </tr>\n",
       "  </tbody>\n",
       "</table>\n",
       "</div>"
      ],
      "text/plain": [
       "       State Participation  Evidence-Based Reading and Writing  Math  Total\n",
       "20  Maryland           69%                                 536    52   1060"
      ]
     },
     "execution_count": 197,
     "metadata": {},
     "output_type": "execute_result"
    }
   ],
   "source": [
    "sat_2017[sat_2017['Math'] == 52]"
   ]
  },
  {
   "cell_type": "markdown",
   "metadata": {},
   "source": [
    "Next step is to update the math score for Maryland as 524. \n",
    "From [SAT reference](https://blog.collegevine.com/here-are-the-average-sat-scores-by-state/) provided above."
   ]
  },
  {
   "cell_type": "code",
   "execution_count": 198,
   "metadata": {},
   "outputs": [],
   "source": [
    "#Update the math score for Maryland\n",
    "sat_2017.loc[sat_2017['State'] == 'Maryland','Math'] = 524"
   ]
  },
  {
   "cell_type": "code",
   "execution_count": 199,
   "metadata": {},
   "outputs": [
    {
     "data": {
      "text/html": [
       "<div>\n",
       "<style scoped>\n",
       "    .dataframe tbody tr th:only-of-type {\n",
       "        vertical-align: middle;\n",
       "    }\n",
       "\n",
       "    .dataframe tbody tr th {\n",
       "        vertical-align: top;\n",
       "    }\n",
       "\n",
       "    .dataframe thead th {\n",
       "        text-align: right;\n",
       "    }\n",
       "</style>\n",
       "<table border=\"1\" class=\"dataframe\">\n",
       "  <thead>\n",
       "    <tr style=\"text-align: right;\">\n",
       "      <th></th>\n",
       "      <th>State</th>\n",
       "      <th>Participation</th>\n",
       "      <th>Evidence-Based Reading and Writing</th>\n",
       "      <th>Math</th>\n",
       "      <th>Total</th>\n",
       "    </tr>\n",
       "  </thead>\n",
       "  <tbody>\n",
       "    <tr>\n",
       "      <th>20</th>\n",
       "      <td>Maryland</td>\n",
       "      <td>69%</td>\n",
       "      <td>536</td>\n",
       "      <td>524</td>\n",
       "      <td>1060</td>\n",
       "    </tr>\n",
       "  </tbody>\n",
       "</table>\n",
       "</div>"
      ],
      "text/plain": [
       "       State Participation  Evidence-Based Reading and Writing  Math  Total\n",
       "20  Maryland           69%                                 536   524   1060"
      ]
     },
     "execution_count": 199,
     "metadata": {},
     "output_type": "execute_result"
    }
   ],
   "source": [
    "#Confirm the updated math score\n",
    "sat_2017[sat_2017['State'] == 'Maryland']"
   ]
  },
  {
   "cell_type": "markdown",
   "metadata": {},
   "source": [
    "The minimum score for ACT 2017 Science is 2.3. If we check the [reference](https://nces.ed.gov/programs/digest/d17/tables/dt17_226.60.asp) we will notice that the Science score for Maryland is 23.3. So need to update it. "
   ]
  },
  {
   "cell_type": "code",
   "execution_count": 200,
   "metadata": {},
   "outputs": [
    {
     "data": {
      "text/html": [
       "<div>\n",
       "<style scoped>\n",
       "    .dataframe tbody tr th:only-of-type {\n",
       "        vertical-align: middle;\n",
       "    }\n",
       "\n",
       "    .dataframe tbody tr th {\n",
       "        vertical-align: top;\n",
       "    }\n",
       "\n",
       "    .dataframe thead th {\n",
       "        text-align: right;\n",
       "    }\n",
       "</style>\n",
       "<table border=\"1\" class=\"dataframe\">\n",
       "  <thead>\n",
       "    <tr style=\"text-align: right;\">\n",
       "      <th></th>\n",
       "      <th>State</th>\n",
       "      <th>Participation</th>\n",
       "      <th>English</th>\n",
       "      <th>Math</th>\n",
       "      <th>Reading</th>\n",
       "      <th>Science</th>\n",
       "      <th>Composite</th>\n",
       "    </tr>\n",
       "  </thead>\n",
       "  <tbody>\n",
       "    <tr>\n",
       "      <th>21</th>\n",
       "      <td>Maryland</td>\n",
       "      <td>28%</td>\n",
       "      <td>23.3</td>\n",
       "      <td>23.1</td>\n",
       "      <td>24.2</td>\n",
       "      <td>2.3</td>\n",
       "      <td>23.6</td>\n",
       "    </tr>\n",
       "  </tbody>\n",
       "</table>\n",
       "</div>"
      ],
      "text/plain": [
       "       State Participation  English  Math  Reading  Science Composite\n",
       "21  Maryland           28%     23.3  23.1     24.2      2.3      23.6"
      ]
     },
     "execution_count": 200,
     "metadata": {},
     "output_type": "execute_result"
    }
   ],
   "source": [
    "act_2017[act_2017['Science'] == 2.3]"
   ]
  },
  {
   "cell_type": "code",
   "execution_count": 201,
   "metadata": {},
   "outputs": [],
   "source": [
    "#Update the science score for Maryland\n",
    "act_2017.loc[act_2017['State'] == 'Maryland','Science'] = 23.2"
   ]
  },
  {
   "cell_type": "code",
   "execution_count": 202,
   "metadata": {},
   "outputs": [
    {
     "data": {
      "text/html": [
       "<div>\n",
       "<style scoped>\n",
       "    .dataframe tbody tr th:only-of-type {\n",
       "        vertical-align: middle;\n",
       "    }\n",
       "\n",
       "    .dataframe tbody tr th {\n",
       "        vertical-align: top;\n",
       "    }\n",
       "\n",
       "    .dataframe thead th {\n",
       "        text-align: right;\n",
       "    }\n",
       "</style>\n",
       "<table border=\"1\" class=\"dataframe\">\n",
       "  <thead>\n",
       "    <tr style=\"text-align: right;\">\n",
       "      <th></th>\n",
       "      <th>State</th>\n",
       "      <th>Participation</th>\n",
       "      <th>English</th>\n",
       "      <th>Math</th>\n",
       "      <th>Reading</th>\n",
       "      <th>Science</th>\n",
       "      <th>Composite</th>\n",
       "    </tr>\n",
       "  </thead>\n",
       "  <tbody>\n",
       "    <tr>\n",
       "      <th>21</th>\n",
       "      <td>Maryland</td>\n",
       "      <td>28%</td>\n",
       "      <td>23.3</td>\n",
       "      <td>23.1</td>\n",
       "      <td>24.2</td>\n",
       "      <td>23.2</td>\n",
       "      <td>23.6</td>\n",
       "    </tr>\n",
       "  </tbody>\n",
       "</table>\n",
       "</div>"
      ],
      "text/plain": [
       "       State Participation  English  Math  Reading  Science Composite\n",
       "21  Maryland           28%     23.3  23.1     24.2     23.2      23.6"
      ]
     },
     "execution_count": 202,
     "metadata": {},
     "output_type": "execute_result"
    }
   ],
   "source": [
    "#Confirm the updated score\n",
    "act_2017[act_2017['State'] == 'Maryland']"
   ]
  },
  {
   "cell_type": "markdown",
   "metadata": {},
   "source": [
    "#### 5. What are your data types? \n",
    "Display the data types of each feature. "
   ]
  },
  {
   "cell_type": "code",
   "execution_count": 203,
   "metadata": {},
   "outputs": [
    {
     "name": "stdout",
     "output_type": "stream",
     "text": [
      "State                                 object\n",
      "Participation                         object\n",
      "Evidence-Based Reading and Writing     int64\n",
      "Math                                   int64\n",
      "Total                                  int64\n",
      "dtype: object\n"
     ]
    }
   ],
   "source": [
    "#Data types of each field for sat_2017 dataframe\n",
    "print(sat_2017.dtypes)"
   ]
  },
  {
   "cell_type": "code",
   "execution_count": 204,
   "metadata": {},
   "outputs": [
    {
     "name": "stdout",
     "output_type": "stream",
     "text": [
      "State             object\n",
      "Participation     object\n",
      "English          float64\n",
      "Math             float64\n",
      "Reading          float64\n",
      "Science          float64\n",
      "Composite         object\n",
      "dtype: object\n"
     ]
    }
   ],
   "source": [
    "#Data types of each field for act_2017 dataframe\n",
    "print(act_2017.dtypes)"
   ]
  },
  {
   "cell_type": "markdown",
   "metadata": {},
   "source": [
    "What did you learn?\n",
    "- Do any of them seem odd?  \n",
    "- Which ones are not as they should be?  "
   ]
  },
  {
   "cell_type": "markdown",
   "metadata": {},
   "source": [
    "Answer:\n",
    "\n",
    "Yes, few fields that need to be converted according to the data they contain.\n",
    "\n",
    "Below are the fields that should be converted to proper data types for further calculations and graph plotting.\n",
    "\n",
    "**sat_2017:**\n",
    "1. Participation - convert to int\n",
    "\n",
    "**act_2017:**\n",
    "1. Participation - convert to int\n",
    "2. Composite - convert to float"
   ]
  },
  {
   "cell_type": "markdown",
   "metadata": {},
   "source": [
    "#### 6. Fix Incorrect Data Types\n",
    "Based on what you discovered above, use appropriate methods to re-type incorrectly typed data.\n",
    "- Define a function that will allow you to convert participation rates to an appropriate numeric type. Use `map` or `apply` to change these columns in each dataframe."
   ]
  },
  {
   "cell_type": "code",
   "execution_count": 205,
   "metadata": {},
   "outputs": [],
   "source": [
    "def convert_participation_toint(participation_perc):\n",
    "    '''\n",
    "    Convert object data type for participation to int\n",
    "    '''\n",
    "    perc_value = participation_perc.replace('%', '')\n",
    "    int_perc = int(perc_value)\n",
    "    return int_perc"
   ]
  },
  {
   "cell_type": "code",
   "execution_count": 206,
   "metadata": {},
   "outputs": [],
   "source": [
    "#Apply to both act_2017 and sat_2017 dataframes\n",
    "sat_2017['Participation'] = sat_2017['Participation'].apply(convert_participation_toint)\n",
    "act_2017['Participation'] = act_2017['Participation'].apply(convert_participation_toint)"
   ]
  },
  {
   "cell_type": "markdown",
   "metadata": {},
   "source": [
    "- Fix any individual values preventing other columns from being the appropriate type."
   ]
  },
  {
   "cell_type": "code",
   "execution_count": 207,
   "metadata": {
    "scrolled": true
   },
   "outputs": [],
   "source": [
    "#act_2017['Composite'] = act_2017['Composite'].astype('float')\n",
    "#When trying to convert the Composite column to float, recived an error : \"ValueError: could not convert string to float: '20.2x'\"\n",
    "#So need to update this incorrect value first."
   ]
  },
  {
   "cell_type": "code",
   "execution_count": 208,
   "metadata": {},
   "outputs": [],
   "source": [
    "#Fix value 20.x in act_2017 dataframe for Composite column\n",
    "\n",
    "act_2017['Composite'] = act_2017['Composite'].str.replace('x', '')"
   ]
  },
  {
   "cell_type": "markdown",
   "metadata": {},
   "source": [
    "- Finish your data modifications by making sure the columns are now typed appropriately."
   ]
  },
  {
   "cell_type": "code",
   "execution_count": 209,
   "metadata": {},
   "outputs": [],
   "source": [
    "#convert Composite field in act_2017 to float\n",
    "act_2017['Composite'] = act_2017['Composite'].astype('float')"
   ]
  },
  {
   "cell_type": "markdown",
   "metadata": {},
   "source": [
    "- Display the data types again to confirm they are correct."
   ]
  },
  {
   "cell_type": "code",
   "execution_count": 210,
   "metadata": {},
   "outputs": [
    {
     "name": "stdout",
     "output_type": "stream",
     "text": [
      "State                                 object\n",
      "Participation                          int64\n",
      "Evidence-Based Reading and Writing     int64\n",
      "Math                                   int64\n",
      "Total                                  int64\n",
      "dtype: object\n"
     ]
    }
   ],
   "source": [
    "#Confirm data types for sat_2017\n",
    "print(sat_2017.dtypes)"
   ]
  },
  {
   "cell_type": "code",
   "execution_count": 211,
   "metadata": {},
   "outputs": [
    {
     "name": "stdout",
     "output_type": "stream",
     "text": [
      "State             object\n",
      "Participation      int64\n",
      "English          float64\n",
      "Math             float64\n",
      "Reading          float64\n",
      "Science          float64\n",
      "Composite        float64\n",
      "dtype: object\n"
     ]
    }
   ],
   "source": [
    "#Confirm data types for act_2017\n",
    "print(act_2017.dtypes)"
   ]
  },
  {
   "cell_type": "markdown",
   "metadata": {},
   "source": [
    "#### 7. Rename Columns\n",
    "Change the names of the columns to more expressive names so that you can tell the difference the SAT columns and the ACT columns. Your solution should map all column names being changed at once (no repeated singular name-changes). **We will be combining these data with some of the data from 2018, and so you should name columns in an appropriate way**.\n",
    "\n",
    "**Guidelines**:\n",
    "- Column names should be all lowercase (you will thank yourself when you start pushing data to SQL later in the course)\n",
    "- Column names should not contain spaces (underscores will suffice--this allows for using the `df.column_name` method to access columns in addition to `df['column_name']`.\n",
    "- Column names should be unique and informative (the only feature that we actually share between dataframes is the state)."
   ]
  },
  {
   "cell_type": "code",
   "execution_count": 212,
   "metadata": {},
   "outputs": [],
   "source": [
    "#Renaming columns for both dataframes\n",
    "sat_2017.rename(columns={'State':'state', 'Participation':'sat2017_part', 'Evidence-Based Reading and Writing':'sat2017_erw', \n",
    "                        'Math': 'sat2017_math', 'Total': 'sat2017_total'}, inplace=True)\n",
    "\n",
    "act_2017.rename(columns={'State':'state', 'Participation':'act2017_part', 'English':'act2017_eng', \n",
    "                        'Math': 'act2017_math', 'Reading': 'act2017_reading',\n",
    "                        'Science': 'act2017_science', 'Composite': 'act2017_composite'}, inplace=True)"
   ]
  },
  {
   "cell_type": "markdown",
   "metadata": {},
   "source": [
    "#### 8. Create a data dictionary\n",
    "\n",
    "Now that we've fixed our data, and given it appropriate names, let's create a [data dictionary](http://library.ucmerced.edu/node/10249). \n",
    "\n",
    "A data dictionary provides a quick overview of features/variables/columns, alongside data types and descriptions. The more descriptive you can be, the more useful this document is.\n",
    "\n",
    "Example of a Fictional Data Dictionary Entry: \n",
    "\n",
    "|Feature|Type|Dataset|Description|\n",
    "|---|---|---|---|\n",
    "|**county_pop**|*integer*|2010 census|The population of the county (units in thousands, where 2.5 represents 2500 people).| \n",
    "|**per_poverty**|*float*|2010 census|The percent of the county over the age of 18 living below the 200% of official US poverty rate (units percent to two decimal places 98.10 means 98.1%)|\n",
    "\n",
    "[Here's a quick link to a short guide for formatting markdown in Jupyter notebooks](https://jupyter-notebook.readthedocs.io/en/stable/examples/Notebook/Working%20With%20Markdown%20Cells.html).\n",
    "\n",
    "Provided is the skeleton for formatting a markdown table, with columns headers that will help you create a data dictionary to quickly summarize your data, as well as some examples. **This would be a great thing to copy and paste into your custom README for this project.**"
   ]
  },
  {
   "cell_type": "markdown",
   "metadata": {},
   "source": [
    "**Data Dictionary for SAT**\n",
    "\n",
    "|Feature|Type|Dataset|Description|\n",
    "|---|---|---|---|\n",
    "|state|object|SAT|State of US country|\n",
    "|sat2017_part|int|SAT|Percentage of participation in a test in integer|\n",
    "|sat2017_erw|int|SAT|Score for Evidence-Based Reading and Writing|\n",
    "|sat2017_math|int|SAT|Score for Math|\n",
    "|sat2017_total|int|SAT|Total score from sat_reading_writing_2017 and sat_math_2017|\n",
    "\n",
    "**Data Dictionary for ACT**\n",
    "\n",
    "|Feature|Type|Dataset|Description|\n",
    "|---|---|---|---|\n",
    "|state|object|SAT|State of US country|\n",
    "|act2017_part|float|SAT|Float percentage of participation in a test|\n",
    "|act2017_eng|int|SAT|Score for english|\n",
    "|act2017_math|int|SAT|Score for math|\n",
    "|act2017_reading|int|SAT|Total score reading|\n",
    "|act2017_science|int|SAT|Score for science|\n",
    "|act2017_composite|int|SAT|Mean of all subjects|"
   ]
  },
  {
   "cell_type": "markdown",
   "metadata": {},
   "source": [
    "#### 9. Drop unnecessary rows\n",
    "\n",
    "One of our dataframes contains an extra row. Identify and remove this from the dataframe."
   ]
  },
  {
   "cell_type": "code",
   "execution_count": 213,
   "metadata": {},
   "outputs": [
    {
     "data": {
      "text/html": [
       "<div>\n",
       "<style scoped>\n",
       "    .dataframe tbody tr th:only-of-type {\n",
       "        vertical-align: middle;\n",
       "    }\n",
       "\n",
       "    .dataframe tbody tr th {\n",
       "        vertical-align: top;\n",
       "    }\n",
       "\n",
       "    .dataframe thead th {\n",
       "        text-align: right;\n",
       "    }\n",
       "</style>\n",
       "<table border=\"1\" class=\"dataframe\">\n",
       "  <thead>\n",
       "    <tr style=\"text-align: right;\">\n",
       "      <th></th>\n",
       "      <th>state</th>\n",
       "      <th>act2017_part</th>\n",
       "      <th>act2017_eng</th>\n",
       "      <th>act2017_math</th>\n",
       "      <th>act2017_reading</th>\n",
       "      <th>act2017_science</th>\n",
       "      <th>act2017_composite</th>\n",
       "    </tr>\n",
       "  </thead>\n",
       "  <tbody>\n",
       "    <tr>\n",
       "      <th>0</th>\n",
       "      <td>National</td>\n",
       "      <td>60</td>\n",
       "      <td>20.3</td>\n",
       "      <td>20.7</td>\n",
       "      <td>21.4</td>\n",
       "      <td>21.0</td>\n",
       "      <td>21.0</td>\n",
       "    </tr>\n",
       "    <tr>\n",
       "      <th>1</th>\n",
       "      <td>Alabama</td>\n",
       "      <td>100</td>\n",
       "      <td>18.9</td>\n",
       "      <td>18.4</td>\n",
       "      <td>19.7</td>\n",
       "      <td>19.4</td>\n",
       "      <td>19.2</td>\n",
       "    </tr>\n",
       "    <tr>\n",
       "      <th>2</th>\n",
       "      <td>Alaska</td>\n",
       "      <td>65</td>\n",
       "      <td>18.7</td>\n",
       "      <td>19.8</td>\n",
       "      <td>20.4</td>\n",
       "      <td>19.9</td>\n",
       "      <td>19.8</td>\n",
       "    </tr>\n",
       "    <tr>\n",
       "      <th>3</th>\n",
       "      <td>Arizona</td>\n",
       "      <td>62</td>\n",
       "      <td>18.6</td>\n",
       "      <td>19.8</td>\n",
       "      <td>20.1</td>\n",
       "      <td>19.8</td>\n",
       "      <td>19.7</td>\n",
       "    </tr>\n",
       "    <tr>\n",
       "      <th>4</th>\n",
       "      <td>Arkansas</td>\n",
       "      <td>100</td>\n",
       "      <td>18.9</td>\n",
       "      <td>19.0</td>\n",
       "      <td>19.7</td>\n",
       "      <td>19.5</td>\n",
       "      <td>19.4</td>\n",
       "    </tr>\n",
       "  </tbody>\n",
       "</table>\n",
       "</div>"
      ],
      "text/plain": [
       "      state  act2017_part  act2017_eng  act2017_math  act2017_reading  \\\n",
       "0  National            60         20.3          20.7             21.4   \n",
       "1   Alabama           100         18.9          18.4             19.7   \n",
       "2    Alaska            65         18.7          19.8             20.4   \n",
       "3   Arizona            62         18.6          19.8             20.1   \n",
       "4  Arkansas           100         18.9          19.0             19.7   \n",
       "\n",
       "   act2017_science  act2017_composite  \n",
       "0             21.0               21.0  \n",
       "1             19.4               19.2  \n",
       "2             19.9               19.8  \n",
       "3             19.8               19.7  \n",
       "4             19.5               19.4  "
      ]
     },
     "execution_count": 213,
     "metadata": {},
     "output_type": "execute_result"
    }
   ],
   "source": [
    "act_2017.head()"
   ]
  },
  {
   "cell_type": "markdown",
   "metadata": {},
   "source": [
    "There is an extra row in act_2017 dataframe with National as State name. There is no National state in US.\n",
    "The record is meant to describe the national level score and not state level. Hence we will remove the row at index 0."
   ]
  },
  {
   "cell_type": "code",
   "execution_count": 214,
   "metadata": {},
   "outputs": [],
   "source": [
    "#Deleting the row with Index 0 , State as National.\n",
    "act_2017.drop([0], axis=0, inplace=True)"
   ]
  },
  {
   "cell_type": "markdown",
   "metadata": {},
   "source": [
    "#### 10. Merge Dataframes\n",
    "\n",
    "Join the 2017 ACT and SAT dataframes using the state in each dataframe as the key. Assign this to a new variable."
   ]
  },
  {
   "cell_type": "code",
   "execution_count": 215,
   "metadata": {},
   "outputs": [],
   "source": [
    "#Merging both the dataframes\n",
    "combined_2017 = pd.merge(act_2017, sat_2017, on='state')"
   ]
  },
  {
   "cell_type": "code",
   "execution_count": 216,
   "metadata": {},
   "outputs": [
    {
     "data": {
      "text/html": [
       "<div>\n",
       "<style scoped>\n",
       "    .dataframe tbody tr th:only-of-type {\n",
       "        vertical-align: middle;\n",
       "    }\n",
       "\n",
       "    .dataframe tbody tr th {\n",
       "        vertical-align: top;\n",
       "    }\n",
       "\n",
       "    .dataframe thead th {\n",
       "        text-align: right;\n",
       "    }\n",
       "</style>\n",
       "<table border=\"1\" class=\"dataframe\">\n",
       "  <thead>\n",
       "    <tr style=\"text-align: right;\">\n",
       "      <th></th>\n",
       "      <th>state</th>\n",
       "      <th>act2017_part</th>\n",
       "      <th>act2017_eng</th>\n",
       "      <th>act2017_math</th>\n",
       "      <th>act2017_reading</th>\n",
       "      <th>act2017_science</th>\n",
       "      <th>act2017_composite</th>\n",
       "      <th>sat2017_part</th>\n",
       "      <th>sat2017_erw</th>\n",
       "      <th>sat2017_math</th>\n",
       "      <th>sat2017_total</th>\n",
       "    </tr>\n",
       "  </thead>\n",
       "  <tbody>\n",
       "    <tr>\n",
       "      <th>0</th>\n",
       "      <td>Alabama</td>\n",
       "      <td>100</td>\n",
       "      <td>18.9</td>\n",
       "      <td>18.4</td>\n",
       "      <td>19.7</td>\n",
       "      <td>19.4</td>\n",
       "      <td>19.2</td>\n",
       "      <td>5</td>\n",
       "      <td>593</td>\n",
       "      <td>572</td>\n",
       "      <td>1165</td>\n",
       "    </tr>\n",
       "    <tr>\n",
       "      <th>1</th>\n",
       "      <td>Alaska</td>\n",
       "      <td>65</td>\n",
       "      <td>18.7</td>\n",
       "      <td>19.8</td>\n",
       "      <td>20.4</td>\n",
       "      <td>19.9</td>\n",
       "      <td>19.8</td>\n",
       "      <td>38</td>\n",
       "      <td>547</td>\n",
       "      <td>533</td>\n",
       "      <td>1080</td>\n",
       "    </tr>\n",
       "    <tr>\n",
       "      <th>2</th>\n",
       "      <td>Arizona</td>\n",
       "      <td>62</td>\n",
       "      <td>18.6</td>\n",
       "      <td>19.8</td>\n",
       "      <td>20.1</td>\n",
       "      <td>19.8</td>\n",
       "      <td>19.7</td>\n",
       "      <td>30</td>\n",
       "      <td>563</td>\n",
       "      <td>553</td>\n",
       "      <td>1116</td>\n",
       "    </tr>\n",
       "    <tr>\n",
       "      <th>3</th>\n",
       "      <td>Arkansas</td>\n",
       "      <td>100</td>\n",
       "      <td>18.9</td>\n",
       "      <td>19.0</td>\n",
       "      <td>19.7</td>\n",
       "      <td>19.5</td>\n",
       "      <td>19.4</td>\n",
       "      <td>3</td>\n",
       "      <td>614</td>\n",
       "      <td>594</td>\n",
       "      <td>1208</td>\n",
       "    </tr>\n",
       "    <tr>\n",
       "      <th>4</th>\n",
       "      <td>California</td>\n",
       "      <td>31</td>\n",
       "      <td>22.5</td>\n",
       "      <td>22.7</td>\n",
       "      <td>23.1</td>\n",
       "      <td>22.2</td>\n",
       "      <td>22.8</td>\n",
       "      <td>53</td>\n",
       "      <td>531</td>\n",
       "      <td>524</td>\n",
       "      <td>1055</td>\n",
       "    </tr>\n",
       "  </tbody>\n",
       "</table>\n",
       "</div>"
      ],
      "text/plain": [
       "        state  act2017_part  act2017_eng  act2017_math  act2017_reading  \\\n",
       "0     Alabama           100         18.9          18.4             19.7   \n",
       "1      Alaska            65         18.7          19.8             20.4   \n",
       "2     Arizona            62         18.6          19.8             20.1   \n",
       "3    Arkansas           100         18.9          19.0             19.7   \n",
       "4  California            31         22.5          22.7             23.1   \n",
       "\n",
       "   act2017_science  act2017_composite  sat2017_part  sat2017_erw  \\\n",
       "0             19.4               19.2             5          593   \n",
       "1             19.9               19.8            38          547   \n",
       "2             19.8               19.7            30          563   \n",
       "3             19.5               19.4             3          614   \n",
       "4             22.2               22.8            53          531   \n",
       "\n",
       "   sat2017_math  sat2017_total  \n",
       "0           572           1165  \n",
       "1           533           1080  \n",
       "2           553           1116  \n",
       "3           594           1208  \n",
       "4           524           1055  "
      ]
     },
     "execution_count": 216,
     "metadata": {},
     "output_type": "execute_result"
    }
   ],
   "source": [
    "#Displaying 10 records of the combined dataframe\n",
    "combined_2017.head()"
   ]
  },
  {
   "cell_type": "markdown",
   "metadata": {},
   "source": [
    "#### 11. Save your cleaned, merged dataframe\n",
    "\n",
    "Use a relative path to save out your data as `combined_2017.csv`."
   ]
  },
  {
   "cell_type": "code",
   "execution_count": 217,
   "metadata": {},
   "outputs": [],
   "source": [
    "#export the data to another file\n",
    "combined_2017.to_csv('../data/combined_2017.csv')"
   ]
  },
  {
   "cell_type": "markdown",
   "metadata": {},
   "source": [
    "## 2018 Data Import and Cleaning"
   ]
  },
  {
   "cell_type": "markdown",
   "metadata": {},
   "source": [
    "Links to the 2018 ACT and SAT data are provided in the README. These data live in PDFs, and so you'll get to enjoy practicing some *manual* data collection. Save these data as a CSV in your `data` directory, and import, explore, and clean these data in the same way you did above. **Make sure you comment on your steps so it is clear *why* you are doing each process**."
   ]
  },
  {
   "cell_type": "code",
   "execution_count": 218,
   "metadata": {},
   "outputs": [],
   "source": [
    "#loading data for 2018 from csv file to a dataframe\n",
    "sat_2018 = pd.read_csv('../data/sat_2018.csv')\n",
    "act_2018 = pd.read_csv('../data/act_2018_updated.csv')"
   ]
  },
  {
   "cell_type": "code",
   "execution_count": 219,
   "metadata": {},
   "outputs": [
    {
     "name": "stdout",
     "output_type": "stream",
     "text": [
      "<class 'pandas.core.frame.DataFrame'>\n",
      "RangeIndex: 51 entries, 0 to 50\n",
      "Data columns (total 5 columns):\n",
      " #   Column                              Non-Null Count  Dtype \n",
      "---  ------                              --------------  ----- \n",
      " 0   State                               51 non-null     object\n",
      " 1   Participation                       51 non-null     object\n",
      " 2   Evidence-Based Reading and Writing  51 non-null     int64 \n",
      " 3   Math                                51 non-null     int64 \n",
      " 4   Total                               51 non-null     int64 \n",
      "dtypes: int64(3), object(2)\n",
      "memory usage: 2.1+ KB\n"
     ]
    }
   ],
   "source": [
    "sat_2018.info()"
   ]
  },
  {
   "cell_type": "code",
   "execution_count": 220,
   "metadata": {},
   "outputs": [
    {
     "name": "stdout",
     "output_type": "stream",
     "text": [
      "<class 'pandas.core.frame.DataFrame'>\n",
      "RangeIndex: 51 entries, 0 to 50\n",
      "Data columns (total 7 columns):\n",
      " #   Column                         Non-Null Count  Dtype  \n",
      "---  ------                         --------------  -----  \n",
      " 0   State                          51 non-null     object \n",
      " 1   Percentage of Students Tested  51 non-null     int64  \n",
      " 2   Average Composite Score        51 non-null     float64\n",
      " 3   Average English Score          51 non-null     float64\n",
      " 4   Average Math Score             51 non-null     float64\n",
      " 5   Average Reading Score          51 non-null     float64\n",
      " 6   Average Science Score          51 non-null     float64\n",
      "dtypes: float64(5), int64(1), object(1)\n",
      "memory usage: 2.9+ KB\n"
     ]
    }
   ],
   "source": [
    "act_2018.info()"
   ]
  },
  {
   "cell_type": "markdown",
   "metadata": {},
   "source": [
    "#### Combine your 2017 and 2018 data into a single dataframe\n",
    "Joining on state names should work, assuming you formatted all your state names identically. Make sure none of your columns (other than state) have identical names. Do yourself a favor and decide if you're encoding participation rates as floats or integers and standardize this across your datasets.\n",
    "\n",
    "Save the contents of this merged dataframe as `final.csv`.\n",
    "\n",
    "**Use this combined dataframe for the remainder of the project**."
   ]
  },
  {
   "cell_type": "code",
   "execution_count": 221,
   "metadata": {},
   "outputs": [],
   "source": [
    "#Convert the participation % to float for sat_2018\n",
    "#For act_2018 participation % is already int so we do not need to apply anything\n",
    "\n",
    "sat_2018['Participation'] = sat_2018['Participation'].apply(convert_participation_toint)"
   ]
  },
  {
   "cell_type": "code",
   "execution_count": 222,
   "metadata": {},
   "outputs": [],
   "source": [
    "#Renaming the columns for both the dataframes\n",
    "#Renaming columns for both dataframes\n",
    "sat_2018.rename(columns={'State':'state', 'Participation':'sat2018_part', 'Evidence-Based Reading and Writing':'sat2018_erw', \n",
    "                        'Math': 'sat2018_math', 'Total': 'sat2018_total'}, inplace=True)\n",
    "\n",
    "act_2018.rename(columns={'State':'state', 'Percentage of Students Tested':'act2018_part', 'Average Composite Score':'act2018_composite', \n",
    "                        'Average English Score': 'act2018_eng', 'Average Math Score': 'act2018_math',\n",
    "                        'Average Reading Score': 'act2018_reading', 'Average Science Score': 'act2018_science'}, inplace=True)"
   ]
  },
  {
   "cell_type": "code",
   "execution_count": 223,
   "metadata": {},
   "outputs": [
    {
     "data": {
      "text/plain": [
       "state            object\n",
       "sat2018_part      int64\n",
       "sat2018_erw       int64\n",
       "sat2018_math      int64\n",
       "sat2018_total     int64\n",
       "dtype: object"
      ]
     },
     "execution_count": 223,
     "metadata": {},
     "output_type": "execute_result"
    }
   ],
   "source": [
    "#Confirming the changes for sat_2018\n",
    "sat_2018.dtypes"
   ]
  },
  {
   "cell_type": "code",
   "execution_count": 224,
   "metadata": {},
   "outputs": [
    {
     "data": {
      "text/plain": [
       "state                 object\n",
       "act2018_part           int64\n",
       "act2018_composite    float64\n",
       "act2018_eng          float64\n",
       "act2018_math         float64\n",
       "act2018_reading      float64\n",
       "act2018_science      float64\n",
       "dtype: object"
      ]
     },
     "execution_count": 224,
     "metadata": {},
     "output_type": "execute_result"
    }
   ],
   "source": [
    "#Confirming the changes for act_2018\n",
    "act_2018.dtypes"
   ]
  },
  {
   "cell_type": "code",
   "execution_count": 225,
   "metadata": {},
   "outputs": [],
   "source": [
    "#Merging the dataframes for 2018\n",
    "combined_2018 = pd.merge(act_2018, sat_2018, on='state')"
   ]
  },
  {
   "cell_type": "code",
   "execution_count": 226,
   "metadata": {},
   "outputs": [
    {
     "data": {
      "text/html": [
       "<div>\n",
       "<style scoped>\n",
       "    .dataframe tbody tr th:only-of-type {\n",
       "        vertical-align: middle;\n",
       "    }\n",
       "\n",
       "    .dataframe tbody tr th {\n",
       "        vertical-align: top;\n",
       "    }\n",
       "\n",
       "    .dataframe thead th {\n",
       "        text-align: right;\n",
       "    }\n",
       "</style>\n",
       "<table border=\"1\" class=\"dataframe\">\n",
       "  <thead>\n",
       "    <tr style=\"text-align: right;\">\n",
       "      <th></th>\n",
       "      <th>state</th>\n",
       "      <th>act2018_part</th>\n",
       "      <th>act2018_composite</th>\n",
       "      <th>act2018_eng</th>\n",
       "      <th>act2018_math</th>\n",
       "      <th>act2018_reading</th>\n",
       "      <th>act2018_science</th>\n",
       "      <th>sat2018_part</th>\n",
       "      <th>sat2018_erw</th>\n",
       "      <th>sat2018_math</th>\n",
       "      <th>sat2018_total</th>\n",
       "    </tr>\n",
       "  </thead>\n",
       "  <tbody>\n",
       "    <tr>\n",
       "      <th>0</th>\n",
       "      <td>Alabama</td>\n",
       "      <td>100</td>\n",
       "      <td>19.1</td>\n",
       "      <td>18.9</td>\n",
       "      <td>18.3</td>\n",
       "      <td>19.6</td>\n",
       "      <td>19.0</td>\n",
       "      <td>6</td>\n",
       "      <td>595</td>\n",
       "      <td>571</td>\n",
       "      <td>1166</td>\n",
       "    </tr>\n",
       "    <tr>\n",
       "      <th>1</th>\n",
       "      <td>Alaska</td>\n",
       "      <td>33</td>\n",
       "      <td>20.8</td>\n",
       "      <td>19.8</td>\n",
       "      <td>20.6</td>\n",
       "      <td>21.6</td>\n",
       "      <td>20.7</td>\n",
       "      <td>43</td>\n",
       "      <td>562</td>\n",
       "      <td>544</td>\n",
       "      <td>1106</td>\n",
       "    </tr>\n",
       "    <tr>\n",
       "      <th>2</th>\n",
       "      <td>Arizona</td>\n",
       "      <td>66</td>\n",
       "      <td>19.2</td>\n",
       "      <td>18.2</td>\n",
       "      <td>19.4</td>\n",
       "      <td>19.5</td>\n",
       "      <td>19.2</td>\n",
       "      <td>29</td>\n",
       "      <td>577</td>\n",
       "      <td>572</td>\n",
       "      <td>1149</td>\n",
       "    </tr>\n",
       "    <tr>\n",
       "      <th>3</th>\n",
       "      <td>Arkansas</td>\n",
       "      <td>100</td>\n",
       "      <td>19.4</td>\n",
       "      <td>19.1</td>\n",
       "      <td>18.9</td>\n",
       "      <td>19.7</td>\n",
       "      <td>19.4</td>\n",
       "      <td>5</td>\n",
       "      <td>592</td>\n",
       "      <td>576</td>\n",
       "      <td>1169</td>\n",
       "    </tr>\n",
       "    <tr>\n",
       "      <th>4</th>\n",
       "      <td>California</td>\n",
       "      <td>27</td>\n",
       "      <td>22.7</td>\n",
       "      <td>22.5</td>\n",
       "      <td>22.5</td>\n",
       "      <td>23.0</td>\n",
       "      <td>22.1</td>\n",
       "      <td>60</td>\n",
       "      <td>540</td>\n",
       "      <td>536</td>\n",
       "      <td>1076</td>\n",
       "    </tr>\n",
       "    <tr>\n",
       "      <th>5</th>\n",
       "      <td>Colorado</td>\n",
       "      <td>30</td>\n",
       "      <td>23.9</td>\n",
       "      <td>23.9</td>\n",
       "      <td>23.2</td>\n",
       "      <td>24.4</td>\n",
       "      <td>23.5</td>\n",
       "      <td>100</td>\n",
       "      <td>519</td>\n",
       "      <td>506</td>\n",
       "      <td>1025</td>\n",
       "    </tr>\n",
       "    <tr>\n",
       "      <th>6</th>\n",
       "      <td>Connecticut</td>\n",
       "      <td>26</td>\n",
       "      <td>25.6</td>\n",
       "      <td>26.0</td>\n",
       "      <td>24.8</td>\n",
       "      <td>26.1</td>\n",
       "      <td>24.9</td>\n",
       "      <td>100</td>\n",
       "      <td>535</td>\n",
       "      <td>519</td>\n",
       "      <td>1053</td>\n",
       "    </tr>\n",
       "    <tr>\n",
       "      <th>7</th>\n",
       "      <td>Delaware</td>\n",
       "      <td>17</td>\n",
       "      <td>23.2</td>\n",
       "      <td>23.7</td>\n",
       "      <td>23.1</td>\n",
       "      <td>24.5</td>\n",
       "      <td>23.4</td>\n",
       "      <td>100</td>\n",
       "      <td>505</td>\n",
       "      <td>492</td>\n",
       "      <td>998</td>\n",
       "    </tr>\n",
       "    <tr>\n",
       "      <th>8</th>\n",
       "      <td>District of Columbia</td>\n",
       "      <td>32</td>\n",
       "      <td>23.6</td>\n",
       "      <td>23.7</td>\n",
       "      <td>22.7</td>\n",
       "      <td>24.4</td>\n",
       "      <td>23.0</td>\n",
       "      <td>92</td>\n",
       "      <td>497</td>\n",
       "      <td>480</td>\n",
       "      <td>977</td>\n",
       "    </tr>\n",
       "    <tr>\n",
       "      <th>9</th>\n",
       "      <td>Florida</td>\n",
       "      <td>66</td>\n",
       "      <td>19.9</td>\n",
       "      <td>19.2</td>\n",
       "      <td>19.3</td>\n",
       "      <td>21.1</td>\n",
       "      <td>19.5</td>\n",
       "      <td>56</td>\n",
       "      <td>550</td>\n",
       "      <td>549</td>\n",
       "      <td>1099</td>\n",
       "    </tr>\n",
       "  </tbody>\n",
       "</table>\n",
       "</div>"
      ],
      "text/plain": [
       "                  state  act2018_part  act2018_composite  act2018_eng  \\\n",
       "0               Alabama           100               19.1         18.9   \n",
       "1                Alaska            33               20.8         19.8   \n",
       "2               Arizona            66               19.2         18.2   \n",
       "3              Arkansas           100               19.4         19.1   \n",
       "4            California            27               22.7         22.5   \n",
       "5              Colorado            30               23.9         23.9   \n",
       "6           Connecticut            26               25.6         26.0   \n",
       "7              Delaware            17               23.2         23.7   \n",
       "8  District of Columbia            32               23.6         23.7   \n",
       "9               Florida            66               19.9         19.2   \n",
       "\n",
       "   act2018_math  act2018_reading  act2018_science  sat2018_part  sat2018_erw  \\\n",
       "0          18.3             19.6             19.0             6          595   \n",
       "1          20.6             21.6             20.7            43          562   \n",
       "2          19.4             19.5             19.2            29          577   \n",
       "3          18.9             19.7             19.4             5          592   \n",
       "4          22.5             23.0             22.1            60          540   \n",
       "5          23.2             24.4             23.5           100          519   \n",
       "6          24.8             26.1             24.9           100          535   \n",
       "7          23.1             24.5             23.4           100          505   \n",
       "8          22.7             24.4             23.0            92          497   \n",
       "9          19.3             21.1             19.5            56          550   \n",
       "\n",
       "   sat2018_math  sat2018_total  \n",
       "0           571           1166  \n",
       "1           544           1106  \n",
       "2           572           1149  \n",
       "3           576           1169  \n",
       "4           536           1076  \n",
       "5           506           1025  \n",
       "6           519           1053  \n",
       "7           492            998  \n",
       "8           480            977  \n",
       "9           549           1099  "
      ]
     },
     "execution_count": 226,
     "metadata": {},
     "output_type": "execute_result"
    }
   ],
   "source": [
    "#Displaying 10 records of the combined dataframe\n",
    "combined_2018.head(10)"
   ]
  },
  {
   "cell_type": "code",
   "execution_count": 227,
   "metadata": {},
   "outputs": [],
   "source": [
    "#Combine data for act/sat 2017 and act/sat 2018\n",
    "final_act_sat = pd.merge(combined_2017, combined_2018, on='state')"
   ]
  },
  {
   "cell_type": "code",
   "execution_count": 228,
   "metadata": {},
   "outputs": [
    {
     "data": {
      "text/html": [
       "<div>\n",
       "<style scoped>\n",
       "    .dataframe tbody tr th:only-of-type {\n",
       "        vertical-align: middle;\n",
       "    }\n",
       "\n",
       "    .dataframe tbody tr th {\n",
       "        vertical-align: top;\n",
       "    }\n",
       "\n",
       "    .dataframe thead th {\n",
       "        text-align: right;\n",
       "    }\n",
       "</style>\n",
       "<table border=\"1\" class=\"dataframe\">\n",
       "  <thead>\n",
       "    <tr style=\"text-align: right;\">\n",
       "      <th></th>\n",
       "      <th>state</th>\n",
       "      <th>act2017_part</th>\n",
       "      <th>act2017_eng</th>\n",
       "      <th>act2017_math</th>\n",
       "      <th>act2017_reading</th>\n",
       "      <th>act2017_science</th>\n",
       "      <th>act2017_composite</th>\n",
       "      <th>sat2017_part</th>\n",
       "      <th>sat2017_erw</th>\n",
       "      <th>sat2017_math</th>\n",
       "      <th>...</th>\n",
       "      <th>act2018_part</th>\n",
       "      <th>act2018_composite</th>\n",
       "      <th>act2018_eng</th>\n",
       "      <th>act2018_math</th>\n",
       "      <th>act2018_reading</th>\n",
       "      <th>act2018_science</th>\n",
       "      <th>sat2018_part</th>\n",
       "      <th>sat2018_erw</th>\n",
       "      <th>sat2018_math</th>\n",
       "      <th>sat2018_total</th>\n",
       "    </tr>\n",
       "  </thead>\n",
       "  <tbody>\n",
       "    <tr>\n",
       "      <th>0</th>\n",
       "      <td>Alabama</td>\n",
       "      <td>100</td>\n",
       "      <td>18.9</td>\n",
       "      <td>18.4</td>\n",
       "      <td>19.7</td>\n",
       "      <td>19.4</td>\n",
       "      <td>19.2</td>\n",
       "      <td>5</td>\n",
       "      <td>593</td>\n",
       "      <td>572</td>\n",
       "      <td>...</td>\n",
       "      <td>100</td>\n",
       "      <td>19.1</td>\n",
       "      <td>18.9</td>\n",
       "      <td>18.3</td>\n",
       "      <td>19.6</td>\n",
       "      <td>19.0</td>\n",
       "      <td>6</td>\n",
       "      <td>595</td>\n",
       "      <td>571</td>\n",
       "      <td>1166</td>\n",
       "    </tr>\n",
       "    <tr>\n",
       "      <th>1</th>\n",
       "      <td>Alaska</td>\n",
       "      <td>65</td>\n",
       "      <td>18.7</td>\n",
       "      <td>19.8</td>\n",
       "      <td>20.4</td>\n",
       "      <td>19.9</td>\n",
       "      <td>19.8</td>\n",
       "      <td>38</td>\n",
       "      <td>547</td>\n",
       "      <td>533</td>\n",
       "      <td>...</td>\n",
       "      <td>33</td>\n",
       "      <td>20.8</td>\n",
       "      <td>19.8</td>\n",
       "      <td>20.6</td>\n",
       "      <td>21.6</td>\n",
       "      <td>20.7</td>\n",
       "      <td>43</td>\n",
       "      <td>562</td>\n",
       "      <td>544</td>\n",
       "      <td>1106</td>\n",
       "    </tr>\n",
       "    <tr>\n",
       "      <th>2</th>\n",
       "      <td>Arizona</td>\n",
       "      <td>62</td>\n",
       "      <td>18.6</td>\n",
       "      <td>19.8</td>\n",
       "      <td>20.1</td>\n",
       "      <td>19.8</td>\n",
       "      <td>19.7</td>\n",
       "      <td>30</td>\n",
       "      <td>563</td>\n",
       "      <td>553</td>\n",
       "      <td>...</td>\n",
       "      <td>66</td>\n",
       "      <td>19.2</td>\n",
       "      <td>18.2</td>\n",
       "      <td>19.4</td>\n",
       "      <td>19.5</td>\n",
       "      <td>19.2</td>\n",
       "      <td>29</td>\n",
       "      <td>577</td>\n",
       "      <td>572</td>\n",
       "      <td>1149</td>\n",
       "    </tr>\n",
       "    <tr>\n",
       "      <th>3</th>\n",
       "      <td>Arkansas</td>\n",
       "      <td>100</td>\n",
       "      <td>18.9</td>\n",
       "      <td>19.0</td>\n",
       "      <td>19.7</td>\n",
       "      <td>19.5</td>\n",
       "      <td>19.4</td>\n",
       "      <td>3</td>\n",
       "      <td>614</td>\n",
       "      <td>594</td>\n",
       "      <td>...</td>\n",
       "      <td>100</td>\n",
       "      <td>19.4</td>\n",
       "      <td>19.1</td>\n",
       "      <td>18.9</td>\n",
       "      <td>19.7</td>\n",
       "      <td>19.4</td>\n",
       "      <td>5</td>\n",
       "      <td>592</td>\n",
       "      <td>576</td>\n",
       "      <td>1169</td>\n",
       "    </tr>\n",
       "    <tr>\n",
       "      <th>4</th>\n",
       "      <td>California</td>\n",
       "      <td>31</td>\n",
       "      <td>22.5</td>\n",
       "      <td>22.7</td>\n",
       "      <td>23.1</td>\n",
       "      <td>22.2</td>\n",
       "      <td>22.8</td>\n",
       "      <td>53</td>\n",
       "      <td>531</td>\n",
       "      <td>524</td>\n",
       "      <td>...</td>\n",
       "      <td>27</td>\n",
       "      <td>22.7</td>\n",
       "      <td>22.5</td>\n",
       "      <td>22.5</td>\n",
       "      <td>23.0</td>\n",
       "      <td>22.1</td>\n",
       "      <td>60</td>\n",
       "      <td>540</td>\n",
       "      <td>536</td>\n",
       "      <td>1076</td>\n",
       "    </tr>\n",
       "  </tbody>\n",
       "</table>\n",
       "<p>5 rows × 21 columns</p>\n",
       "</div>"
      ],
      "text/plain": [
       "        state  act2017_part  act2017_eng  act2017_math  act2017_reading  \\\n",
       "0     Alabama           100         18.9          18.4             19.7   \n",
       "1      Alaska            65         18.7          19.8             20.4   \n",
       "2     Arizona            62         18.6          19.8             20.1   \n",
       "3    Arkansas           100         18.9          19.0             19.7   \n",
       "4  California            31         22.5          22.7             23.1   \n",
       "\n",
       "   act2017_science  act2017_composite  sat2017_part  sat2017_erw  \\\n",
       "0             19.4               19.2             5          593   \n",
       "1             19.9               19.8            38          547   \n",
       "2             19.8               19.7            30          563   \n",
       "3             19.5               19.4             3          614   \n",
       "4             22.2               22.8            53          531   \n",
       "\n",
       "   sat2017_math  ...  act2018_part  act2018_composite  act2018_eng  \\\n",
       "0           572  ...           100               19.1         18.9   \n",
       "1           533  ...            33               20.8         19.8   \n",
       "2           553  ...            66               19.2         18.2   \n",
       "3           594  ...           100               19.4         19.1   \n",
       "4           524  ...            27               22.7         22.5   \n",
       "\n",
       "   act2018_math  act2018_reading  act2018_science  sat2018_part  sat2018_erw  \\\n",
       "0          18.3             19.6             19.0             6          595   \n",
       "1          20.6             21.6             20.7            43          562   \n",
       "2          19.4             19.5             19.2            29          577   \n",
       "3          18.9             19.7             19.4             5          592   \n",
       "4          22.5             23.0             22.1            60          540   \n",
       "\n",
       "   sat2018_math  sat2018_total  \n",
       "0           571           1166  \n",
       "1           544           1106  \n",
       "2           572           1149  \n",
       "3           576           1169  \n",
       "4           536           1076  \n",
       "\n",
       "[5 rows x 21 columns]"
      ]
     },
     "execution_count": 228,
     "metadata": {},
     "output_type": "execute_result"
    }
   ],
   "source": [
    "#Display the first few records for final_act_sat dataframe\n",
    "final_act_sat.head()"
   ]
  },
  {
   "cell_type": "code",
   "execution_count": 229,
   "metadata": {},
   "outputs": [],
   "source": [
    "#export the data to another file\n",
    "final_act_sat.to_csv('../data/final.csv')"
   ]
  },
  {
   "cell_type": "markdown",
   "metadata": {},
   "source": [
    "## Exploratory Data Analysis\n",
    "\n",
    "\n",
    "### Summary Statistics\n",
    "Transpose the output of pandas `describe` method to create a quick overview of each numeric feature."
   ]
  },
  {
   "cell_type": "code",
   "execution_count": 230,
   "metadata": {},
   "outputs": [
    {
     "data": {
      "text/html": [
       "<div>\n",
       "<style scoped>\n",
       "    .dataframe tbody tr th:only-of-type {\n",
       "        vertical-align: middle;\n",
       "    }\n",
       "\n",
       "    .dataframe tbody tr th {\n",
       "        vertical-align: top;\n",
       "    }\n",
       "\n",
       "    .dataframe thead th {\n",
       "        text-align: right;\n",
       "    }\n",
       "</style>\n",
       "<table border=\"1\" class=\"dataframe\">\n",
       "  <thead>\n",
       "    <tr style=\"text-align: right;\">\n",
       "      <th></th>\n",
       "      <th>count</th>\n",
       "      <th>mean</th>\n",
       "      <th>std</th>\n",
       "      <th>min</th>\n",
       "      <th>25%</th>\n",
       "      <th>50%</th>\n",
       "      <th>75%</th>\n",
       "      <th>max</th>\n",
       "    </tr>\n",
       "  </thead>\n",
       "  <tbody>\n",
       "    <tr>\n",
       "      <th>act2017_part</th>\n",
       "      <td>51.0</td>\n",
       "      <td>65.254902</td>\n",
       "      <td>32.140842</td>\n",
       "      <td>8.0</td>\n",
       "      <td>31.00</td>\n",
       "      <td>69.0</td>\n",
       "      <td>100.00</td>\n",
       "      <td>100.0</td>\n",
       "    </tr>\n",
       "    <tr>\n",
       "      <th>act2017_eng</th>\n",
       "      <td>51.0</td>\n",
       "      <td>20.931373</td>\n",
       "      <td>2.353677</td>\n",
       "      <td>16.3</td>\n",
       "      <td>19.00</td>\n",
       "      <td>20.7</td>\n",
       "      <td>23.30</td>\n",
       "      <td>25.5</td>\n",
       "    </tr>\n",
       "    <tr>\n",
       "      <th>act2017_math</th>\n",
       "      <td>51.0</td>\n",
       "      <td>21.182353</td>\n",
       "      <td>1.981989</td>\n",
       "      <td>18.0</td>\n",
       "      <td>19.40</td>\n",
       "      <td>20.9</td>\n",
       "      <td>23.10</td>\n",
       "      <td>25.3</td>\n",
       "    </tr>\n",
       "    <tr>\n",
       "      <th>act2017_reading</th>\n",
       "      <td>51.0</td>\n",
       "      <td>22.013725</td>\n",
       "      <td>2.067271</td>\n",
       "      <td>18.1</td>\n",
       "      <td>20.45</td>\n",
       "      <td>21.8</td>\n",
       "      <td>24.15</td>\n",
       "      <td>26.0</td>\n",
       "    </tr>\n",
       "    <tr>\n",
       "      <th>act2017_science</th>\n",
       "      <td>51.0</td>\n",
       "      <td>21.450980</td>\n",
       "      <td>1.739353</td>\n",
       "      <td>18.2</td>\n",
       "      <td>19.95</td>\n",
       "      <td>21.3</td>\n",
       "      <td>23.20</td>\n",
       "      <td>24.9</td>\n",
       "    </tr>\n",
       "    <tr>\n",
       "      <th>act2017_composite</th>\n",
       "      <td>51.0</td>\n",
       "      <td>21.519608</td>\n",
       "      <td>2.020695</td>\n",
       "      <td>17.8</td>\n",
       "      <td>19.80</td>\n",
       "      <td>21.4</td>\n",
       "      <td>23.60</td>\n",
       "      <td>25.5</td>\n",
       "    </tr>\n",
       "    <tr>\n",
       "      <th>sat2017_part</th>\n",
       "      <td>51.0</td>\n",
       "      <td>39.803922</td>\n",
       "      <td>35.276632</td>\n",
       "      <td>2.0</td>\n",
       "      <td>4.00</td>\n",
       "      <td>38.0</td>\n",
       "      <td>66.00</td>\n",
       "      <td>100.0</td>\n",
       "    </tr>\n",
       "    <tr>\n",
       "      <th>sat2017_erw</th>\n",
       "      <td>51.0</td>\n",
       "      <td>569.117647</td>\n",
       "      <td>45.666901</td>\n",
       "      <td>482.0</td>\n",
       "      <td>533.50</td>\n",
       "      <td>559.0</td>\n",
       "      <td>613.00</td>\n",
       "      <td>644.0</td>\n",
       "    </tr>\n",
       "    <tr>\n",
       "      <th>sat2017_math</th>\n",
       "      <td>51.0</td>\n",
       "      <td>556.882353</td>\n",
       "      <td>47.121395</td>\n",
       "      <td>468.0</td>\n",
       "      <td>523.50</td>\n",
       "      <td>548.0</td>\n",
       "      <td>599.00</td>\n",
       "      <td>651.0</td>\n",
       "    </tr>\n",
       "    <tr>\n",
       "      <th>sat2017_total</th>\n",
       "      <td>51.0</td>\n",
       "      <td>1126.098039</td>\n",
       "      <td>92.494812</td>\n",
       "      <td>950.0</td>\n",
       "      <td>1055.50</td>\n",
       "      <td>1107.0</td>\n",
       "      <td>1212.00</td>\n",
       "      <td>1295.0</td>\n",
       "    </tr>\n",
       "    <tr>\n",
       "      <th>act2018_part</th>\n",
       "      <td>51.0</td>\n",
       "      <td>61.647059</td>\n",
       "      <td>34.080976</td>\n",
       "      <td>7.0</td>\n",
       "      <td>28.50</td>\n",
       "      <td>66.0</td>\n",
       "      <td>100.00</td>\n",
       "      <td>100.0</td>\n",
       "    </tr>\n",
       "    <tr>\n",
       "      <th>act2018_composite</th>\n",
       "      <td>51.0</td>\n",
       "      <td>21.486275</td>\n",
       "      <td>2.106278</td>\n",
       "      <td>17.7</td>\n",
       "      <td>19.95</td>\n",
       "      <td>21.3</td>\n",
       "      <td>23.55</td>\n",
       "      <td>25.6</td>\n",
       "    </tr>\n",
       "    <tr>\n",
       "      <th>act2018_eng</th>\n",
       "      <td>51.0</td>\n",
       "      <td>20.988235</td>\n",
       "      <td>2.446356</td>\n",
       "      <td>16.6</td>\n",
       "      <td>19.10</td>\n",
       "      <td>20.2</td>\n",
       "      <td>23.70</td>\n",
       "      <td>26.0</td>\n",
       "    </tr>\n",
       "    <tr>\n",
       "      <th>act2018_math</th>\n",
       "      <td>51.0</td>\n",
       "      <td>21.125490</td>\n",
       "      <td>2.035765</td>\n",
       "      <td>17.8</td>\n",
       "      <td>19.40</td>\n",
       "      <td>20.7</td>\n",
       "      <td>23.15</td>\n",
       "      <td>25.2</td>\n",
       "    </tr>\n",
       "    <tr>\n",
       "      <th>act2018_reading</th>\n",
       "      <td>51.0</td>\n",
       "      <td>22.015686</td>\n",
       "      <td>2.167245</td>\n",
       "      <td>18.0</td>\n",
       "      <td>20.45</td>\n",
       "      <td>21.6</td>\n",
       "      <td>24.10</td>\n",
       "      <td>26.1</td>\n",
       "    </tr>\n",
       "    <tr>\n",
       "      <th>act2018_science</th>\n",
       "      <td>51.0</td>\n",
       "      <td>21.345098</td>\n",
       "      <td>1.870114</td>\n",
       "      <td>17.9</td>\n",
       "      <td>19.85</td>\n",
       "      <td>21.1</td>\n",
       "      <td>23.05</td>\n",
       "      <td>24.9</td>\n",
       "    </tr>\n",
       "    <tr>\n",
       "      <th>sat2018_part</th>\n",
       "      <td>51.0</td>\n",
       "      <td>45.745098</td>\n",
       "      <td>37.314256</td>\n",
       "      <td>2.0</td>\n",
       "      <td>4.50</td>\n",
       "      <td>52.0</td>\n",
       "      <td>77.50</td>\n",
       "      <td>100.0</td>\n",
       "    </tr>\n",
       "    <tr>\n",
       "      <th>sat2018_erw</th>\n",
       "      <td>51.0</td>\n",
       "      <td>563.686275</td>\n",
       "      <td>47.502627</td>\n",
       "      <td>480.0</td>\n",
       "      <td>534.50</td>\n",
       "      <td>552.0</td>\n",
       "      <td>610.50</td>\n",
       "      <td>643.0</td>\n",
       "    </tr>\n",
       "    <tr>\n",
       "      <th>sat2018_math</th>\n",
       "      <td>51.0</td>\n",
       "      <td>556.235294</td>\n",
       "      <td>47.772623</td>\n",
       "      <td>480.0</td>\n",
       "      <td>522.50</td>\n",
       "      <td>544.0</td>\n",
       "      <td>593.50</td>\n",
       "      <td>655.0</td>\n",
       "    </tr>\n",
       "    <tr>\n",
       "      <th>sat2018_total</th>\n",
       "      <td>51.0</td>\n",
       "      <td>1120.019608</td>\n",
       "      <td>94.155083</td>\n",
       "      <td>977.0</td>\n",
       "      <td>1057.50</td>\n",
       "      <td>1098.0</td>\n",
       "      <td>1204.00</td>\n",
       "      <td>1298.0</td>\n",
       "    </tr>\n",
       "  </tbody>\n",
       "</table>\n",
       "</div>"
      ],
      "text/plain": [
       "                   count         mean        std    min      25%     50%  \\\n",
       "act2017_part        51.0    65.254902  32.140842    8.0    31.00    69.0   \n",
       "act2017_eng         51.0    20.931373   2.353677   16.3    19.00    20.7   \n",
       "act2017_math        51.0    21.182353   1.981989   18.0    19.40    20.9   \n",
       "act2017_reading     51.0    22.013725   2.067271   18.1    20.45    21.8   \n",
       "act2017_science     51.0    21.450980   1.739353   18.2    19.95    21.3   \n",
       "act2017_composite   51.0    21.519608   2.020695   17.8    19.80    21.4   \n",
       "sat2017_part        51.0    39.803922  35.276632    2.0     4.00    38.0   \n",
       "sat2017_erw         51.0   569.117647  45.666901  482.0   533.50   559.0   \n",
       "sat2017_math        51.0   556.882353  47.121395  468.0   523.50   548.0   \n",
       "sat2017_total       51.0  1126.098039  92.494812  950.0  1055.50  1107.0   \n",
       "act2018_part        51.0    61.647059  34.080976    7.0    28.50    66.0   \n",
       "act2018_composite   51.0    21.486275   2.106278   17.7    19.95    21.3   \n",
       "act2018_eng         51.0    20.988235   2.446356   16.6    19.10    20.2   \n",
       "act2018_math        51.0    21.125490   2.035765   17.8    19.40    20.7   \n",
       "act2018_reading     51.0    22.015686   2.167245   18.0    20.45    21.6   \n",
       "act2018_science     51.0    21.345098   1.870114   17.9    19.85    21.1   \n",
       "sat2018_part        51.0    45.745098  37.314256    2.0     4.50    52.0   \n",
       "sat2018_erw         51.0   563.686275  47.502627  480.0   534.50   552.0   \n",
       "sat2018_math        51.0   556.235294  47.772623  480.0   522.50   544.0   \n",
       "sat2018_total       51.0  1120.019608  94.155083  977.0  1057.50  1098.0   \n",
       "\n",
       "                       75%     max  \n",
       "act2017_part        100.00   100.0  \n",
       "act2017_eng          23.30    25.5  \n",
       "act2017_math         23.10    25.3  \n",
       "act2017_reading      24.15    26.0  \n",
       "act2017_science      23.20    24.9  \n",
       "act2017_composite    23.60    25.5  \n",
       "sat2017_part         66.00   100.0  \n",
       "sat2017_erw         613.00   644.0  \n",
       "sat2017_math        599.00   651.0  \n",
       "sat2017_total      1212.00  1295.0  \n",
       "act2018_part        100.00   100.0  \n",
       "act2018_composite    23.55    25.6  \n",
       "act2018_eng          23.70    26.0  \n",
       "act2018_math         23.15    25.2  \n",
       "act2018_reading      24.10    26.1  \n",
       "act2018_science      23.05    24.9  \n",
       "sat2018_part         77.50   100.0  \n",
       "sat2018_erw         610.50   643.0  \n",
       "sat2018_math        593.50   655.0  \n",
       "sat2018_total      1204.00  1298.0  "
      ]
     },
     "execution_count": 230,
     "metadata": {},
     "output_type": "execute_result"
    }
   ],
   "source": [
    "final_act_sat.describe().transpose()"
   ]
  },
  {
   "cell_type": "markdown",
   "metadata": {},
   "source": [
    "#### Manually calculate standard deviation\n",
    "\n",
    "$$\\sigma = \\sqrt{\\frac{1}{n}\\sum_{i=1}^n(x_i - \\mu)^2}$$\n",
    "\n",
    "- Write a function to calculate standard deviation using the formula above"
   ]
  },
  {
   "cell_type": "code",
   "execution_count": 231,
   "metadata": {},
   "outputs": [],
   "source": [
    "def standard_deviation(column):\n",
    "    '''\n",
    "    Function to return standard deviation for a column\n",
    "    '''\n",
    "    mean = column.mean()\n",
    "    summation = 0\n",
    "    no_records = column.size\n",
    "    for i in column:\n",
    "        summation += (i - mean) ** 2\n",
    "    std_dev = round((summation / no_records) ** 0.5, 6)\n",
    "    return std_dev"
   ]
  },
  {
   "cell_type": "markdown",
   "metadata": {},
   "source": [
    "- Use a **dictionary comprehension** to apply your standard deviation function to each numeric column in the dataframe.  **No loops**  \n",
    "- Assign the output to variable `sd` as a dictionary where: \n",
    "    - Each column name is now a key \n",
    "    - That standard deviation of the column is the value \n",
    "     \n",
    "*Example Output :* `{'ACT_Math': 120, 'ACT_Reading': 120, ...}`"
   ]
  },
  {
   "cell_type": "code",
   "execution_count": 232,
   "metadata": {},
   "outputs": [],
   "source": [
    "#Excluding the states column to calculate the standard deviation\n",
    "sd = {column: standard_deviation(final_act_sat[column]) for column in final_act_sat.columns[1:]}"
   ]
  },
  {
   "cell_type": "code",
   "execution_count": 233,
   "metadata": {},
   "outputs": [
    {
     "data": {
      "text/plain": [
       "{'act2017_part': 31.824176,\n",
       " 'act2017_eng': 2.330488,\n",
       " 'act2017_math': 1.962462,\n",
       " 'act2017_reading': 2.046903,\n",
       " 'act2017_science': 1.722216,\n",
       " 'act2017_composite': 2.000786,\n",
       " 'sat2017_part': 34.929071,\n",
       " 'sat2017_erw': 45.21697,\n",
       " 'sat2017_math': 46.657134,\n",
       " 'sat2017_total': 91.583511,\n",
       " 'act2018_part': 33.745195,\n",
       " 'act2018_composite': 2.085526,\n",
       " 'act2018_eng': 2.422254,\n",
       " 'act2018_math': 2.015707,\n",
       " 'act2018_reading': 2.145892,\n",
       " 'act2018_science': 1.851689,\n",
       " 'sat2018_part': 36.946619,\n",
       " 'sat2018_erw': 47.03461,\n",
       " 'sat2018_math': 47.301946,\n",
       " 'sat2018_total': 93.227424}"
      ]
     },
     "execution_count": 233,
     "metadata": {},
     "output_type": "execute_result"
    }
   ],
   "source": [
    "#manually calculated standard deviation \n",
    "sd"
   ]
  },
  {
   "cell_type": "code",
   "execution_count": 234,
   "metadata": {},
   "outputs": [
    {
     "data": {
      "text/plain": [
       "act2017_part         31.824176\n",
       "act2017_eng           2.330488\n",
       "act2017_math          1.962462\n",
       "act2017_reading       2.046903\n",
       "act2017_science       1.722216\n",
       "act2017_composite     2.000786\n",
       "sat2017_part         34.929071\n",
       "sat2017_erw          45.216970\n",
       "sat2017_math         46.657134\n",
       "sat2017_total        91.583511\n",
       "act2018_part         33.745195\n",
       "act2018_composite     2.085526\n",
       "act2018_eng           2.422254\n",
       "act2018_math          2.015707\n",
       "act2018_reading       2.145892\n",
       "act2018_science       1.851689\n",
       "sat2018_part         36.946619\n",
       "sat2018_erw          47.034610\n",
       "sat2018_math         47.301946\n",
       "sat2018_total        93.227424\n",
       "dtype: float64"
      ]
     },
     "execution_count": 234,
     "metadata": {},
     "output_type": "execute_result"
    }
   ],
   "source": [
    "#numpy standard deviation\n",
    "np.std(final_act_sat)"
   ]
  },
  {
   "cell_type": "code",
   "execution_count": 235,
   "metadata": {},
   "outputs": [
    {
     "data": {
      "text/plain": [
       "act2017_part         32.140842\n",
       "act2017_eng           2.353677\n",
       "act2017_math          1.981989\n",
       "act2017_reading       2.067271\n",
       "act2017_science       1.739353\n",
       "act2017_composite     2.020695\n",
       "sat2017_part         35.276632\n",
       "sat2017_erw          45.666901\n",
       "sat2017_math         47.121395\n",
       "sat2017_total        92.494812\n",
       "act2018_part         34.080976\n",
       "act2018_composite     2.106278\n",
       "act2018_eng           2.446356\n",
       "act2018_math          2.035765\n",
       "act2018_reading       2.167245\n",
       "act2018_science       1.870114\n",
       "sat2018_part         37.314256\n",
       "sat2018_erw          47.502627\n",
       "sat2018_math         47.772623\n",
       "sat2018_total        94.155083\n",
       "dtype: float64"
      ]
     },
     "execution_count": 235,
     "metadata": {},
     "output_type": "execute_result"
    }
   ],
   "source": [
    "#Panda's standard deviation\n",
    "final_act_sat.std()"
   ]
  },
  {
   "cell_type": "markdown",
   "metadata": {},
   "source": [
    "Do your manually calculated standard deviations match up with the output from pandas `describe`? What about numpy's `std` method?"
   ]
  },
  {
   "cell_type": "markdown",
   "metadata": {},
   "source": [
    "Answer : Yes, matches with the numpy's standard deviation method. However, there is a minor difference in comparison to panda's standard deviation."
   ]
  },
  {
   "cell_type": "markdown",
   "metadata": {},
   "source": [
    "#### Investigate trends in the data\n",
    "Using sorting and/or masking (along with the `.head` method to not print our entire dataframe), consider the following questions:\n",
    "\n",
    "- Which states have the highest and lowest participation rates for the:\n",
    "    - 2017 SAT?\n",
    "    - 2018 SAT?\n",
    "    - 2017 ACT?\n",
    "    - 2018 ACT?\n",
    "- Which states have the highest and lowest mean total/composite scores for the:\n",
    "    - 2017 SAT?\n",
    "    - 2018 SAT?\n",
    "    - 2017 ACT?\n",
    "    - 2018 ACT?\n",
    "- Do any states with 100% participation on a given test have a rate change year-to-year?\n",
    "- Do any states show have >50% participation on *both* tests either year?\n",
    "\n",
    "Based on what you've just observed, have you identified any states that you're especially interested in? **Make a note of these and state *why* you think they're interesting**.\n",
    "\n",
    "**You should comment on your findings at each step in a markdown cell below your code block**. Make sure you include at least one example of sorting your dataframe by a column, and one example of using boolean filtering (i.e., masking) to select a subset of the dataframe."
   ]
  },
  {
   "cell_type": "code",
   "execution_count": 236,
   "metadata": {},
   "outputs": [
    {
     "name": "stdout",
     "output_type": "stream",
     "text": [
      "                   state  sat2017_part\n",
      "8   District of Columbia           100\n",
      "22              Michigan           100\n",
      "6            Connecticut           100\n",
      "7               Delaware           100\n",
      "29         New Hampshire            96\n"
     ]
    }
   ],
   "source": [
    "#Highest participation rate for 2017 SAT\n",
    "highest_participation_sat2017 = final_act_sat[['state', 'sat2017_part']].\\\n",
    "                                sort_values(['sat2017_part'],ascending=False).\\\n",
    "                                head()\n",
    "print(highest_participation_sat2017)"
   ]
  },
  {
   "cell_type": "markdown",
   "metadata": {},
   "source": [
    "- District of Columbia, Michigan, Connecticut and Delware have 100% participation rate for SAT in 2017"
   ]
  },
  {
   "cell_type": "code",
   "execution_count": 237,
   "metadata": {},
   "outputs": [
    {
     "name": "stdout",
     "output_type": "stream",
     "text": [
      "           state  sat2017_part\n",
      "34  North Dakota             2\n",
      "24   Mississippi             2\n",
      "15          Iowa             2\n",
      "25      Missouri             3\n",
      "44          Utah             3\n"
     ]
    }
   ],
   "source": [
    "#Lowest participation rate for 2017 SAT\n",
    "low_participation_sat2017 = final_act_sat[['state', 'sat2017_part']].\\\n",
    "                            sort_values(['sat2017_part']).\\\n",
    "                            head()\n",
    "print(low_participation_sat2017)\n"
   ]
  },
  {
   "cell_type": "markdown",
   "metadata": {},
   "source": [
    "- North Dakota, Mississippi and Iowa have lowest participation rate of 2% for SAT in 2017"
   ]
  },
  {
   "cell_type": "code",
   "execution_count": 238,
   "metadata": {},
   "outputs": [
    {
     "name": "stdout",
     "output_type": "stream",
     "text": [
      "          state  sat2018_part\n",
      "5      Colorado           100\n",
      "6   Connecticut           100\n",
      "7      Delaware           100\n",
      "22     Michigan           100\n",
      "12        Idaho           100\n"
     ]
    }
   ],
   "source": [
    "#Highest participation rate for 2018 SAT\n",
    "highest_participation_sat2018 = final_act_sat[['state', 'sat2018_part']].\\\n",
    "                                sort_values(['sat2018_part'],ascending=False).\\\n",
    "                                head()\n",
    "print(highest_participation_sat2018)"
   ]
  },
  {
   "cell_type": "markdown",
   "metadata": {},
   "source": [
    "- Colorado, Connecticut, Delware, Michigan and Idaho have 100% participation for SAT in 2018.\n",
    "- Participation rate for District of Columbia has decreased in 2018 from 100% in 2017. Instead Colorado has taken its place."
   ]
  },
  {
   "cell_type": "code",
   "execution_count": 239,
   "metadata": {},
   "outputs": [
    {
     "name": "stdout",
     "output_type": "stream",
     "text": [
      "           state  sat2018_part\n",
      "34  North Dakota             2\n",
      "50       Wyoming             3\n",
      "41  South Dakota             3\n",
      "27      Nebraska             3\n",
      "49     Wisconsin             3\n"
     ]
    }
   ],
   "source": [
    "#Lowest participation rate for 2018 SAT\n",
    "low_participation_sat2018 = final_act_sat[['state', 'sat2018_part']].\\\n",
    "                            sort_values(['sat2018_part']).\\\n",
    "                            head()\n",
    "print(low_participation_sat2018)"
   ]
  },
  {
   "cell_type": "markdown",
   "metadata": {},
   "source": [
    "- North Dakota still remains lowest participated state at 2% for SAT in 2018."
   ]
  },
  {
   "cell_type": "code",
   "execution_count": 240,
   "metadata": {},
   "outputs": [
    {
     "name": "stdout",
     "output_type": "stream",
     "text": [
      "        state  act2017_part\n",
      "0     Alabama           100\n",
      "17   Kentucky           100\n",
      "49  Wisconsin           100\n",
      "44       Utah           100\n",
      "42  Tennessee           100\n"
     ]
    }
   ],
   "source": [
    "#Highest participation rate for 2017 ACT\n",
    "highest_participation_act2017 = final_act_sat[['state', 'act2017_part']].\\\n",
    "                                sort_values(['act2017_part'],ascending=False).\\\n",
    "                                head()\n",
    "print(highest_participation_act2017)"
   ]
  },
  {
   "cell_type": "markdown",
   "metadata": {},
   "source": [
    "- Alabama, Kentucky, Winconsin, Utah, Tennessee, South Carolina, Oklahoma, North Carolina, Nevada and Montana has 100 % participation rate for ACT in 2017. \n",
    "- There are higher number of states with 100% participation in ACT as compared to SAT."
   ]
  },
  {
   "cell_type": "code",
   "execution_count": 241,
   "metadata": {},
   "outputs": [
    {
     "name": "stdout",
     "output_type": "stream",
     "text": [
      "            state  act2017_part\n",
      "19          Maine             8\n",
      "29  New Hampshire            18\n",
      "7        Delaware            18\n",
      "39   Rhode Island            21\n",
      "38   Pennsylvania            23\n"
     ]
    }
   ],
   "source": [
    "#Lowest participation rate for 2017 ACT\n",
    "low_participation_act2017 = final_act_sat[['state', 'act2017_part']].\\\n",
    "                            sort_values(['act2017_part']).\\\n",
    "                            head()\n",
    "print(low_participation_act2017)"
   ]
  },
  {
   "cell_type": "markdown",
   "metadata": {},
   "source": [
    "- Maine has lowest participation rate of 8% for ACT in 2017"
   ]
  },
  {
   "cell_type": "code",
   "execution_count": 242,
   "metadata": {},
   "outputs": [
    {
     "name": "stdout",
     "output_type": "stream",
     "text": [
      "        state  act2018_part\n",
      "0     Alabama           100\n",
      "17   Kentucky           100\n",
      "49  Wisconsin           100\n",
      "44       Utah           100\n",
      "42  Tennessee           100\n"
     ]
    }
   ],
   "source": [
    "#Highest participation rate for 2018 ACT\n",
    "highest_participation_act2018 = final_act_sat[['state', 'act2018_part']].\\\n",
    "                                sort_values(['act2018_part'],ascending=False).\\\n",
    "                                head()\n",
    "print(highest_participation_act2018)"
   ]
  },
  {
   "cell_type": "markdown",
   "metadata": {},
   "source": [
    "- Minnesota and Colorado no longer have 100% participation for ACT in 2018 as compared to 2017. \n",
    "- Instead Ohio and Nebraska were added to the list of states which have 100% participation in year 2018. \n",
    "- There was an increase in participation rates for Colorado for SAT 2018 and a drop for ACT 2018."
   ]
  },
  {
   "cell_type": "code",
   "execution_count": 243,
   "metadata": {},
   "outputs": [
    {
     "name": "stdout",
     "output_type": "stream",
     "text": [
      "            state  act2018_part\n",
      "19          Maine             7\n",
      "39   Rhode Island            15\n",
      "29  New Hampshire            16\n",
      "7        Delaware            17\n",
      "38   Pennsylvania            20\n"
     ]
    }
   ],
   "source": [
    "#Lowest participation rate for 2018 ACT\n",
    "low_participation_act2018 = final_act_sat[['state', 'act2018_part']].\\\n",
    "                            sort_values(['act2018_part']).\\\n",
    "                            head()\n",
    "print(low_participation_act2018)"
   ]
  },
  {
   "cell_type": "markdown",
   "metadata": {},
   "source": [
    "- Maine had the lowest, 7% participation for ACT 2018"
   ]
  },
  {
   "cell_type": "markdown",
   "metadata": {},
   "source": [
    "Do any states with 100% participation on a given test have a rate change year-to-year?\n",
    "\n",
    "**Obseravations for SAT:**\n",
    "- District of Columbia had 100% participation in 2017 but it dropped to 92% in 2018.\n",
    "- Colorado and Idaho had 11% and 93% participation rate in 2017 respectively, which then changed to 100% in 2018.\n",
    "\n",
    "**Obseravations for ACT:**\n",
    "- Minnesota and Colorado had 100% participation in 2017 which then dropped to 99% and 30% respectively.\n",
    "- Ohio and Nebreska had 75% and 84% participation rate in 2017 which then increased to 100% in 2018"
   ]
  },
  {
   "cell_type": "code",
   "execution_count": 244,
   "metadata": {},
   "outputs": [
    {
     "name": "stdout",
     "output_type": "stream",
     "text": [
      "        state  sat2017_total\n",
      "23  Minnesota           1295\n",
      "49  Wisconsin           1291\n",
      "15       Iowa           1275\n",
      "25   Missouri           1271\n",
      "16     Kansas           1260\n"
     ]
    }
   ],
   "source": [
    "#Highest total score for 2017 SAT\n",
    "highest_total_sat2017 = final_act_sat[['state', 'sat2017_total']]\\\n",
    "                        .sort_values(['sat2017_total'],ascending=False).head()\n",
    "print(highest_total_sat2017)"
   ]
  },
  {
   "cell_type": "code",
   "execution_count": 245,
   "metadata": {},
   "outputs": [
    {
     "name": "stdout",
     "output_type": "stream",
     "text": [
      "                   state  act2017_composite\n",
      "29         New Hampshire               25.5\n",
      "21         Massachusetts               25.4\n",
      "6            Connecticut               25.2\n",
      "19                 Maine               24.3\n",
      "8   District of Columbia               24.2\n"
     ]
    }
   ],
   "source": [
    "#Highest composite score for 2017 ACT\n",
    "highest_composite_act2017 = final_act_sat[['state', 'act2017_composite']]\\\n",
    "                            .sort_values(['act2017_composite'],ascending=False).head()\n",
    "print(highest_composite_act2017)"
   ]
  },
  {
   "cell_type": "code",
   "execution_count": 246,
   "metadata": {},
   "outputs": [
    {
     "name": "stdout",
     "output_type": "stream",
     "text": [
      "           state  sat2018_total\n",
      "23     Minnesota           1298\n",
      "49     Wisconsin           1294\n",
      "34  North Dakota           1283\n",
      "15          Iowa           1265\n",
      "16        Kansas           1265\n"
     ]
    }
   ],
   "source": [
    "#Highest total score for 2018 SAT\n",
    "highest_total_sat2018 = final_act_sat[['state', 'sat2018_total']]\\\n",
    "                        .sort_values(['sat2018_total'],ascending=False).head()\n",
    "print(highest_total_sat2018)"
   ]
  },
  {
   "cell_type": "code",
   "execution_count": 247,
   "metadata": {},
   "outputs": [
    {
     "name": "stdout",
     "output_type": "stream",
     "text": [
      "            state  act2018_composite\n",
      "6     Connecticut               25.6\n",
      "21  Massachusetts               25.5\n",
      "29  New Hampshire               25.1\n",
      "32       New York               24.5\n",
      "22       Michigan               24.4\n"
     ]
    }
   ],
   "source": [
    "#Highest composite score for 2018 ACT\n",
    "highest_composite_act2018 = final_act_sat[['state', 'act2018_composite']]\\\n",
    "                            .sort_values(['act2018_composite'],ascending=False).head()\n",
    "print(highest_composite_act2018)"
   ]
  },
  {
   "cell_type": "code",
   "execution_count": 248,
   "metadata": {},
   "outputs": [
    {
     "name": "stdout",
     "output_type": "stream",
     "text": [
      "                   state  sat2017_total\n",
      "8   District of Columbia            950\n",
      "7               Delaware            996\n",
      "12                 Idaho           1005\n",
      "22              Michigan           1005\n",
      "19                 Maine           1012\n"
     ]
    }
   ],
   "source": [
    "#Lowest total score for 2017 SAT\n",
    "lowest_total_sat2017 = final_act_sat[['state', 'sat2017_total']]\\\n",
    "                        .sort_values(['sat2017_total']).head()\n",
    "print(lowest_total_sat2017)"
   ]
  },
  {
   "cell_type": "code",
   "execution_count": 249,
   "metadata": {},
   "outputs": [
    {
     "name": "stdout",
     "output_type": "stream",
     "text": [
      "             state  act2017_composite\n",
      "28          Nevada               17.8\n",
      "24     Mississippi               18.6\n",
      "40  South Carolina               18.7\n",
      "11          Hawaii               19.0\n",
      "33  North Carolina               19.1\n"
     ]
    }
   ],
   "source": [
    "#Lowest composite score for 2017 ACT\n",
    "lowest_composite_act2017 = final_act_sat[['state', 'act2017_composite']]\\\n",
    "                            .sort_values(['act2017_composite']).head()\n",
    "print(lowest_composite_act2017)"
   ]
  },
  {
   "cell_type": "code",
   "execution_count": 250,
   "metadata": {},
   "outputs": [
    {
     "name": "stdout",
     "output_type": "stream",
     "text": [
      "           state  sat2018_total\n",
      "23     Minnesota           1298\n",
      "49     Wisconsin           1294\n",
      "34  North Dakota           1283\n",
      "15          Iowa           1265\n",
      "16        Kansas           1265\n"
     ]
    }
   ],
   "source": [
    "#Lowest total score for 2018 SAT\n",
    "lowest_total_sat2018 = final_act_sat[['state', 'sat2018_total']]\\\n",
    "                        .sort_values(['sat2018_total']).head()\n",
    "print(highest_total_sat2018)"
   ]
  },
  {
   "cell_type": "code",
   "execution_count": 251,
   "metadata": {},
   "outputs": [
    {
     "name": "stdout",
     "output_type": "stream",
     "text": [
      "             state  act2018_composite\n",
      "28          Nevada               17.7\n",
      "40  South Carolina               18.3\n",
      "24     Mississippi               18.6\n",
      "11          Hawaii               18.9\n",
      "0          Alabama               19.1\n"
     ]
    }
   ],
   "source": [
    "#Lowest composite score for 2018 ACT\n",
    "lowest_composite_act2018 = final_act_sat[['state', 'act2018_composite']]\\\n",
    "                            .sort_values(['act2018_composite']).head()\n",
    "print(lowest_composite_act2018)"
   ]
  },
  {
   "cell_type": "markdown",
   "metadata": {},
   "source": [
    "- Minimum and Maximum score range for SAT 2017 is 950 - 1295 \n",
    "- Minimum and Maximum score range for SAT 2018 is 1298 - 1298\n",
    "- Minimum and Maximum score range for ACT 2017 is 17.8 - 25.5\n",
    "- Minimum and Maximum score range for ACT 2018 is 17.7 - 25.6\n",
    "\n",
    "- We can observe that the score range does not vary significantly for both SAT and ACT."
   ]
  },
  {
   "cell_type": "code",
   "execution_count": 252,
   "metadata": {},
   "outputs": [
    {
     "name": "stdout",
     "output_type": "stream",
     "text": [
      "             state  act2017_part  sat2017_part  act2018_part  sat2018_part\n",
      "9          Florida            73            83            66            56\n",
      "10         Georgia            55            61            53            70\n",
      "11          Hawaii            90            55            89            56\n",
      "33  North Carolina           100            49           100            52\n",
      "40  South Carolina           100            50           100            55\n"
     ]
    }
   ],
   "source": [
    "#Do any states have more than 50 % participation on both test for either of the two years?\n",
    "condition_2017 = (final_act_sat['sat2017_part'] > 50) & (final_act_sat['act2017_part'] > 50)\n",
    "condition_2018 = (final_act_sat['sat2018_part'] > 50) & (final_act_sat['act2018_part'] > 50)\n",
    "morethan50perc_participation = final_act_sat[condition_2017 | condition_2018]\\\n",
    "                                [['state','act2017_part','sat2017_part','act2018_part','sat2018_part']]\n",
    "print(morethan50perc_participation)"
   ]
  },
  {
   "cell_type": "markdown",
   "metadata": {},
   "source": [
    "## Visualize the data\n",
    "\n",
    "There's not a magic bullet recommendation for the right number of plots to understand a given dataset, but visualizing your data is *always* a good idea. Not only does it allow you to quickly convey your findings (even if you have a non-technical audience), it will often reveal trends in your data that escaped you when you were looking only at numbers.\n",
    "\n",
    "Some recommendations on plotting:\n",
    "- Plots have titles\n",
    "- Plots have axis labels\n",
    "- Plots have appropriate tick labels\n",
    "- All text is legible in a plot\n",
    "- Plots demonstrate meaningful and valid relationships\n",
    "- Plots are interpreted to aid understanding\n",
    "\n",
    "There is such a thing as too many plots, and there are a *lot* of bad plots. You might make some! (But hopefully not with the guided prompts below)."
   ]
  },
  {
   "cell_type": "markdown",
   "metadata": {},
   "source": [
    "#### Use Seaborn's heatmap with pandas `.corr()` to visualize correlations between all numeric features\n",
    "\n",
    "Heatmaps are generally not appropriate for presentations, and should often be excluded from reports as they can be visually overwhelming. **However**, they can be extremely useful in identify relationships of potential interest (as well as identifying potential collinearity before modeling).\n",
    "\n",
    "*example*:\n",
    "```python\n",
    "sns.heatmap(df.corr())\n",
    "```\n",
    "\n",
    "Please take time to format your output, adding a title. Look through some of the additional arguments and options. (Axis labels aren't really necessary, as long as the title is informative)."
   ]
  },
  {
   "cell_type": "code",
   "execution_count": 253,
   "metadata": {},
   "outputs": [
    {
     "data": {
      "image/png": "[encoded data removed]",
      "text/plain": [
       "<Figure size 1296x792 with 2 Axes>"
      ]
     },
     "metadata": {
      "needs_background": "light"
     },
     "output_type": "display_data"
    }
   ],
   "source": [
    "plt.figure(figsize=(18, 11))\n",
    "plt.title('Correlation Heatmap')\n",
    "\n",
    "data = final_act_sat.iloc[:,1:]\n",
    "data_corr = data.corr()\n",
    "\n",
    "sns.heatmap(data.corr(),  vmax=0.3, square=True, annot=True);"
   ]
  },
  {
   "cell_type": "markdown",
   "metadata": {},
   "source": [
    "#### Define a custom function to subplot histograms\n",
    "\n",
    "We have data for two tests for two years. We only have composite (and not subtest scores) for the 2018 ACT. We should write a function that will take the names of 2+ columns and subplot histograms. While you can use pandas plotting or Seaborn here, matplotlib gives you greater control over all aspects of your plots.\n",
    "\n",
    "[Helpful Link for Plotting Multiple Figures](https://matplotlib.org/users/pyplot_tutorial.html#working-with-multiple-figures-and-axes)\n",
    "\n",
    "Here's some starter code:"
   ]
  },
  {
   "cell_type": "code",
   "execution_count": 254,
   "metadata": {},
   "outputs": [],
   "source": [
    "def subplot_histograms(dataframe, list_of_columns, list_of_titles, list_of_labels_x, label_y):\n",
    "    nrows = int(np.ceil(len(list_of_columns)/2)) # Makes sure you have enough rows\n",
    "    fig, ax = plt.subplots(nrows=nrows, ncols=2, figsize=(8,8)) # You'll want to specify your figsize\n",
    "    ax = ax.ravel() # Ravel turns a matrix into a vector, which is easier to iterate\n",
    "    \n",
    "    for i, column in enumerate(list_of_columns): # Gives us an index value to get into all our lists\n",
    "        ax[i].hist(dataframe[column]) # feel free to add more settings\n",
    "        ax[i].set(title=list_of_titles[i], xlabel= list_of_labels_x[i], ylabel = label_y)# the title and labels\n",
    "        ax[i].axvline(np.mean(dataframe[column]),color = 'green') # Draw the mean vertical line along the distribution\n",
    "        \n",
    "    fig.tight_layout(pad=2)"
   ]
  },
  {
   "cell_type": "markdown",
   "metadata": {},
   "source": [
    "#### Plot and interpret histograms \n",
    "For each of the following:\n",
    "- Participation rates for SAT & ACT\n",
    "- Math scores for SAT & ACT\n",
    "- Reading/verbal scores for SAT & ACT"
   ]
  },
  {
   "cell_type": "code",
   "execution_count": 255,
   "metadata": {},
   "outputs": [
    {
     "data": {
      "image/png": "[encoded data removed]",
      "text/plain": [
       "<Figure size 576x576 with 4 Axes>"
      ]
     },
     "metadata": {
      "needs_background": "light"
     },
     "output_type": "display_data"
    }
   ],
   "source": [
    "#Histograms subplots for SAT and ACT 2017, 2018\n",
    "subplot_histograms(final_act_sat, ['sat2017_part', 'act2017_part', 'sat2018_part', 'act2018_part'],\\\n",
    "                   ['Participation rate for SAT 2017','Participation rate for ACT 2017',\\\n",
    "                    'Participation rate for SAT 2018','Participation rate for ACT 2018'],\\\n",
    "                   ['SAT 2017 % Rate', 'ACT 2017 % Rate','SAT 2018 % Rate', 'ACT 2018 % Rate'],\\\n",
    "                   'No Of States')"
   ]
  },
  {
   "cell_type": "markdown",
   "metadata": {},
   "source": [
    "- For SAT it is obsereved that there are more states in lower participation range. In contrary for ACT there are more states in higher participation range.\n",
    "- From the histograms above we can see that the distribution is not symmetrical, they are positively or negetively skewed. \n",
    "- These histograms show bimodal (data with more than 1 peak). "
   ]
  },
  {
   "cell_type": "code",
   "execution_count": 256,
   "metadata": {},
   "outputs": [
    {
     "data": {
      "image/png": "[encoded data removed]",
      "text/plain": [
       "<Figure size 576x576 with 4 Axes>"
      ]
     },
     "metadata": {
      "needs_background": "light"
     },
     "output_type": "display_data"
    }
   ],
   "source": [
    "#Histograms subplots for Math scores for SAT and ACT 2017\n",
    "subplot_histograms(final_act_sat, ['sat2017_math', 'act2017_math', 'sat2018_math', 'act2018_math'],\\\n",
    "                   ['Math score for SAT 2017','Math score for ACT 2017','Math score for SAT 2018','Math score for ACT 2018'],\\\n",
    "                   ['Math Score', 'Math Score', 'Math Score', 'Math Score'],\\\n",
    "                   'No Of States')"
   ]
  },
  {
   "cell_type": "code",
   "execution_count": 257,
   "metadata": {
    "scrolled": true
   },
   "outputs": [
    {
     "data": {
      "image/png": "[encoded data removed]",
      "text/plain": [
       "<Figure size 576x576 with 4 Axes>"
      ]
     },
     "metadata": {
      "needs_background": "light"
     },
     "output_type": "display_data"
    }
   ],
   "source": [
    "#Histograms subplots for ERW/Eng scores for SAT and ACT 2017\n",
    "subplot_histograms(final_act_sat, ['sat2017_erw', 'act2017_eng', 'sat2018_erw', 'act2018_eng'],\\\n",
    "                   ['ERW score for SAT 2017','English score for ACT 2017','ERW score for SAT 2018','English score for ACT 2018'],\\\n",
    "                   ['ERW Score', 'English Score','ERW Score', 'English Score'],\\\n",
    "                   'No Of States');"
   ]
  },
  {
   "cell_type": "markdown",
   "metadata": {},
   "source": [
    "- From the histograms above we can see that the distribution is not symmetrical, they are skewed. \n",
    "- These histograms show bimodal (data with more than 1 peak). \n",
    "- We can see that the math and reading scores does not have significant variance from year 2017 to 2018."
   ]
  },
  {
   "cell_type": "markdown",
   "metadata": {},
   "source": [
    "#### Plot and interpret scatter plots\n",
    "\n",
    "For each of the following:\n",
    "- SAT vs. ACT math scores for 2017\n",
    "- SAT vs. ACT verbal/reading scores for 2017\n",
    "- SAT vs. ACT total/composite scores for 2017\n",
    "- Total scores for SAT 2017 vs. 2018\n",
    "- Composite scores for ACT 2017 vs. 2018\n",
    "\n",
    "Plot the two variables against each other using matplotlib or Seaborn\n",
    "\n",
    "Your plots should show:\n",
    "- Two clearly labeled axes\n",
    "- A proper title\n",
    "- Using colors and symbols that are clear and unmistakable\n",
    "\n",
    "**Feel free to write a custom function, and subplot if you'd like.** Functions save both time and space.\n"
   ]
  },
  {
   "cell_type": "code",
   "execution_count": 258,
   "metadata": {},
   "outputs": [],
   "source": [
    "def plot_scatter(xdata, ydata, title_txt, xlabel_txt, ylabel_txt):\n",
    "    ax = sns.regplot(x=xdata, y=ydata, data=final_act_sat, ci=None)\n",
    "    ax.set(title=title_txt, xlabel=xlabel_txt, ylabel = ylabel_txt)"
   ]
  },
  {
   "cell_type": "code",
   "execution_count": 259,
   "metadata": {},
   "outputs": [
    {
     "data": {
      "image/png": "[encoded data removed]",
      "text/plain": [
       "<Figure size 432x288 with 1 Axes>"
      ]
     },
     "metadata": {
      "needs_background": "light"
     },
     "output_type": "display_data"
    }
   ],
   "source": [
    "#SAT vs ACT Math Score for 2017\n",
    "plot_scatter('sat2017_math', 'act2017_math', \n",
    "             'SAT vs ACT Math Score for 2017', \n",
    "             'SAT Math Score', \n",
    "             'ACT Math Score')"
   ]
  },
  {
   "cell_type": "code",
   "execution_count": 260,
   "metadata": {},
   "outputs": [
    {
     "data": {
      "image/png": "[encoded data removed]",
      "text/plain": [
       "<Figure size 432x288 with 1 Axes>"
      ]
     },
     "metadata": {
      "needs_background": "light"
     },
     "output_type": "display_data"
    }
   ],
   "source": [
    "#SAT vs ACT Verbal/Reading Score for 2017\n",
    "plot_scatter('sat2017_erw', 'act2017_reading', \n",
    "             'SAT vs ACT Verbal/Reading Score for 2017', \n",
    "             'SAT ERW Score', \n",
    "             'ACT Reading Score')"
   ]
  },
  {
   "cell_type": "code",
   "execution_count": 261,
   "metadata": {},
   "outputs": [
    {
     "data": {
      "image/png": "[encoded data removed]",
      "text/plain": [
       "<Figure size 432x288 with 1 Axes>"
      ]
     },
     "metadata": {
      "needs_background": "light"
     },
     "output_type": "display_data"
    }
   ],
   "source": [
    "#SAT Total vs ACT Composite Score for 2017\n",
    "plot_scatter('sat2017_total', 'act2017_composite', \n",
    "             'SAT vs ACT Total/Composite Score for 2017', \n",
    "             'SAT Total Score', \n",
    "             'ACT Composite Score')"
   ]
  },
  {
   "cell_type": "code",
   "execution_count": 262,
   "metadata": {},
   "outputs": [
    {
     "data": {
      "image/png": "[encoded data removed]",
      "text/plain": [
       "<Figure size 432x288 with 1 Axes>"
      ]
     },
     "metadata": {
      "needs_background": "light"
     },
     "output_type": "display_data"
    }
   ],
   "source": [
    "#SAT 2017 vs 2018 Total Score\n",
    "plot_scatter('sat2017_total', 'sat2018_total', \n",
    "             'SAT 2017 vs 2018 Total Score', \n",
    "             '2017', \n",
    "             '2018')"
   ]
  },
  {
   "cell_type": "code",
   "execution_count": 263,
   "metadata": {},
   "outputs": [
    {
     "data": {
      "image/png": "[encoded data removed]",
      "text/plain": [
       "<Figure size 432x288 with 1 Axes>"
      ]
     },
     "metadata": {
      "needs_background": "light"
     },
     "output_type": "display_data"
    }
   ],
   "source": [
    "#ACT 2017 vs 2018 Composite Score\n",
    "plot_scatter('act2017_composite', 'act2018_composite', \n",
    "             'ACT 2017 vs 2018 Composite Score', \n",
    "             '2017', \n",
    "             '2018')"
   ]
  },
  {
   "cell_type": "code",
   "execution_count": 264,
   "metadata": {},
   "outputs": [
    {
     "data": {
      "image/png": "[encoded data removed]",
      "text/plain": [
       "<Figure size 432x288 with 1 Axes>"
      ]
     },
     "metadata": {
      "needs_background": "light"
     },
     "output_type": "display_data"
    }
   ],
   "source": [
    "plot_scatter('sat2018_math', 'act2018_math', \n",
    "             'SAT 2018 vs ACT 2018 Math Score', \n",
    "             'SAT Math Score', \n",
    "             'ACt Math Score')"
   ]
  },
  {
   "cell_type": "markdown",
   "metadata": {},
   "source": [
    "- Scatter plots are used to understand trends in data and to interpret whether the variables of data are co related to each other or not.\n",
    "- If we compare the scores for SAT and ACT there is negetive co relation between them. There is no resemblance of a pattern. \n",
    "- However if we compare SAT 2017 vs 2018 total score and ACT 2017 vs 2018 composite score there is a linear pattern. It means that scores for both the year does not likely vary."
   ]
  },
  {
   "cell_type": "markdown",
   "metadata": {},
   "source": [
    "#### Plot and interpret boxplots\n",
    "\n",
    "For each numeric variable in the dataframe create a boxplot using Seaborn. Boxplots demonstrate central tendency and spread in variables. In a certain sense, these are somewhat redundant with histograms, but you may be better able to identify clear outliers or differences in IQR, etc.\n",
    "\n",
    "Multiple values can be plotted to a single boxplot as long as they are of the same relative scale (meaning they have similar min/max values).\n",
    "\n",
    "Each boxplot should:\n",
    "- Only include variables of a similar scale\n",
    "- Have clear labels for each variable\n",
    "- Have appropriate titles and labels"
   ]
  },
  {
   "cell_type": "code",
   "execution_count": 265,
   "metadata": {},
   "outputs": [],
   "source": [
    "def subplot_boxplot(cols, title, label_x, label_y):\n",
    "    sns.boxplot(data=final_act_sat[cols])\n",
    "    plt.title(title)\n",
    "    plt.xlabel(label_x)\n",
    "    plt.ylabel(label_y)"
   ]
  },
  {
   "cell_type": "code",
   "execution_count": 266,
   "metadata": {},
   "outputs": [
    {
     "data": {
      "image/png": "[encoded data removed]",
      "text/plain": [
       "<Figure size 432x288 with 1 Axes>"
      ]
     },
     "metadata": {
      "needs_background": "light"
     },
     "output_type": "display_data"
    }
   ],
   "source": [
    "#Boxplots displaying Participation rates for ACT and SAT for both the years \n",
    "subplot_boxplot(['sat2017_part', 'sat2018_part', 'act2017_part', 'act2018_part'], \n",
    "                'Participation For SAT & ACT', \n",
    "                'Test/Year', \n",
    "                'Percentage')"
   ]
  },
  {
   "cell_type": "code",
   "execution_count": 267,
   "metadata": {},
   "outputs": [
    {
     "data": {
      "image/png": "[encoded data removed]",
      "text/plain": [
       "<Figure size 432x288 with 1 Axes>"
      ]
     },
     "metadata": {
      "needs_background": "light"
     },
     "output_type": "display_data"
    }
   ],
   "source": [
    "#Boxplots displaying ERW score for SAT 2017, 2018\n",
    "subplot_boxplot(['sat2017_erw', 'sat2018_erw'],\n",
    "               'ERW Scores for SAT',\n",
    "               'Test/Year',\n",
    "               'Score')"
   ]
  },
  {
   "cell_type": "code",
   "execution_count": 268,
   "metadata": {},
   "outputs": [
    {
     "data": {
      "image/png": "[encoded data removed]",
      "text/plain": [
       "<Figure size 432x288 with 1 Axes>"
      ]
     },
     "metadata": {
      "needs_background": "light"
     },
     "output_type": "display_data"
    }
   ],
   "source": [
    "#Boxplots displaying Math score for SAT 2017, 2018\n",
    "subplot_boxplot(['sat2017_math', 'sat2018_math'],\n",
    "               'Math Scores for SAT',\n",
    "               'Test/Year',\n",
    "               'Score')"
   ]
  },
  {
   "cell_type": "code",
   "execution_count": 269,
   "metadata": {},
   "outputs": [
    {
     "data": {
      "image/png": "[encoded data removed]",
      "text/plain": [
       "<Figure size 432x288 with 1 Axes>"
      ]
     },
     "metadata": {
      "needs_background": "light"
     },
     "output_type": "display_data"
    }
   ],
   "source": [
    "#Boxplots displaying English score for ACT 2017, 2018\n",
    "subplot_boxplot(['act2017_eng', 'act2018_eng'],\n",
    "               'English Scores for ACT',\n",
    "               'Test/Year',\n",
    "               'Score')"
   ]
  },
  {
   "cell_type": "code",
   "execution_count": 270,
   "metadata": {},
   "outputs": [
    {
     "data": {
      "image/png": "[encoded data removed]",
      "text/plain": [
       "<Figure size 432x288 with 1 Axes>"
      ]
     },
     "metadata": {
      "needs_background": "light"
     },
     "output_type": "display_data"
    }
   ],
   "source": [
    "#Boxplots displaying Math score for ACT 2017, 2018\n",
    "subplot_boxplot(['act2017_math', 'act2018_math'],\n",
    "               'Math Scores for ACT',\n",
    "               'Test/Year',\n",
    "               'Score')"
   ]
  },
  {
   "cell_type": "code",
   "execution_count": 271,
   "metadata": {},
   "outputs": [
    {
     "data": {
      "image/png": "[encoded data removed]",
      "text/plain": [
       "<Figure size 432x288 with 1 Axes>"
      ]
     },
     "metadata": {
      "needs_background": "light"
     },
     "output_type": "display_data"
    }
   ],
   "source": [
    "#Boxplots displaying Reading score for ACT 2017, 2018\n",
    "subplot_boxplot(['act2017_reading', 'act2018_reading'],\n",
    "               'Reading Scores for ACT',\n",
    "               'Test/Year',\n",
    "               'Score')"
   ]
  },
  {
   "cell_type": "code",
   "execution_count": 272,
   "metadata": {},
   "outputs": [
    {
     "data": {
      "image/png": "[encoded data removed]",
      "text/plain": [
       "<Figure size 432x288 with 1 Axes>"
      ]
     },
     "metadata": {
      "needs_background": "light"
     },
     "output_type": "display_data"
    }
   ],
   "source": [
    "#Boxplots displaying Science score for ACT 2017, 2018\n",
    "subplot_boxplot(['act2017_science', 'act2018_science'],\n",
    "               'Science Scores for SAT',\n",
    "               'Test/Year',\n",
    "               'Score')"
   ]
  },
  {
   "cell_type": "code",
   "execution_count": 273,
   "metadata": {},
   "outputs": [
    {
     "data": {
      "image/png": "[encoded data removed]",
      "text/plain": [
       "<Figure size 432x288 with 1 Axes>"
      ]
     },
     "metadata": {
      "needs_background": "light"
     },
     "output_type": "display_data"
    }
   ],
   "source": [
    "#Boxplots displaying Total score for SAT 2017, 2018\n",
    "subplot_boxplot(['sat2017_total', 'sat2018_total'],\n",
    "               'Total Score for SAT',\n",
    "               'Test/Year',\n",
    "               'Score')"
   ]
  },
  {
   "cell_type": "code",
   "execution_count": 274,
   "metadata": {},
   "outputs": [
    {
     "data": {
      "image/png": "[encoded data removed]",
      "text/plain": [
       "<Figure size 432x288 with 1 Axes>"
      ]
     },
     "metadata": {
      "needs_background": "light"
     },
     "output_type": "display_data"
    }
   ],
   "source": [
    "#Boxplots displaying Science score for ACT 2017, 2018\n",
    "subplot_boxplot(['act2017_composite', 'act2018_composite'],\n",
    "               'Composite Score for ACT',\n",
    "               'Test/Year',\n",
    "               'Score')"
   ]
  },
  {
   "cell_type": "markdown",
   "metadata": {},
   "source": [
    "- We can again look through the participation rates and scores for SAT and ACT as we did in histograms above.\n",
    "- The participation rates for SAT are more on a lower range while the participation rates for ACt are more on higher range.\n",
    "- As for scores we can see that there is not any significant variation in its range.\n",
    "- Moreover if we check for outliers , we can see from these boxplot that there are none."
   ]
  },
  {
   "cell_type": "markdown",
   "metadata": {},
   "source": [
    "#### Feel free to do additional plots below\n",
    "*(do research and choose your own chart types & variables)*\n",
    "\n",
    "Are there any additional trends or relationships you haven't explored? Was there something interesting you saw that you'd like to dive further into? It's likely that there are a few more plots you might want to generate to support your narrative and recommendations that you are building toward. **As always, make sure you're interpreting your plots as you go**."
   ]
  },
  {
   "cell_type": "code",
   "execution_count": 275,
   "metadata": {},
   "outputs": [
    {
     "data": {
      "image/png": "[encoded data removed]",
      "text/plain": [
       "<Figure size 576x360 with 1 Axes>"
      ]
     },
     "metadata": {
      "needs_background": "light"
     },
     "output_type": "display_data"
    }
   ],
   "source": [
    "plt.figure(figsize=(8, 5))\n",
    "\n",
    "test_year = ['SAT 2017', 'SAT 2018', 'ACT 2017', 'ACT 2018']\n",
    "\n",
    "participation = [final_act_sat['sat2017_part'].mean(), final_act_sat['sat2018_part'].mean(),  \n",
    "                 final_act_sat['act2017_part'].mean(), final_act_sat['act2018_part'].mean()]\n",
    "\n",
    "plt.bar(test_year, participation, width = 0.5)\n",
    "plt.title('Avg Participation Rates Across all States for SAT & ACT')\n",
    "plt.xlabel('Test/Year')\n",
    "plt.ylabel('Avg Participation Rate');"
   ]
  },
  {
   "cell_type": "markdown",
   "metadata": {},
   "source": [
    "- Above is a bar chart comparing the average participation rates for ACT and SAT for both the years.\n",
    "- We can see increase in the average rate for SAT and a decrease in ACT. \n",
    "- However ACT still preceeds in comparison to SAT."
   ]
  },
  {
   "cell_type": "markdown",
   "metadata": {},
   "source": [
    "#### (Optional): Using Tableau, create a choropleth map for each variable using a map of the US. \n",
    "\n",
    "Save this plot as an image file in an images directory, provide a relative path, and insert the image into notebook in markdown."
   ]
  },
  {
   "cell_type": "code",
   "execution_count": null,
   "metadata": {},
   "outputs": [],
   "source": []
  },
  {
   "cell_type": "markdown",
   "metadata": {},
   "source": [
    "## Descriptive and Inferential Statistics"
   ]
  },
  {
   "cell_type": "markdown",
   "metadata": {},
   "source": [
    "#### Summarizing Distributions\n",
    "\n",
    "Above, we used pandas `describe` to provide quick summary statistics of our numeric columns. We also demonstrated many visual relationships.\n",
    "\n",
    "As data scientists, having a complete understanding of data is imperative prior to modeling.\n",
    "\n",
    "While we will continue to build our analytic tools, we know that measures of *central tendency*, *spread*, and *shape/skewness* provide a quick summary of distributions.\n",
    "\n",
    "For each variable in your data, summarize the underlying distributions (in words & statistics)\n",
    " - Be thorough in your verbal description of these distributions.\n",
    " - Be sure to back up these summaries with statistics."
   ]
  },
  {
   "cell_type": "markdown",
   "metadata": {},
   "source": [
    "Answers:"
   ]
  },
  {
   "cell_type": "code",
   "execution_count": 276,
   "metadata": {},
   "outputs": [
    {
     "data": {
      "text/html": [
       "<div>\n",
       "<style scoped>\n",
       "    .dataframe tbody tr th:only-of-type {\n",
       "        vertical-align: middle;\n",
       "    }\n",
       "\n",
       "    .dataframe tbody tr th {\n",
       "        vertical-align: top;\n",
       "    }\n",
       "\n",
       "    .dataframe thead th {\n",
       "        text-align: right;\n",
       "    }\n",
       "</style>\n",
       "<table border=\"1\" class=\"dataframe\">\n",
       "  <thead>\n",
       "    <tr style=\"text-align: right;\">\n",
       "      <th></th>\n",
       "      <th>act2017_part</th>\n",
       "      <th>act2017_eng</th>\n",
       "      <th>act2017_math</th>\n",
       "      <th>act2017_reading</th>\n",
       "      <th>act2017_science</th>\n",
       "      <th>act2017_composite</th>\n",
       "      <th>sat2017_part</th>\n",
       "      <th>sat2017_erw</th>\n",
       "      <th>sat2017_math</th>\n",
       "      <th>sat2017_total</th>\n",
       "      <th>act2018_part</th>\n",
       "      <th>act2018_composite</th>\n",
       "      <th>act2018_eng</th>\n",
       "      <th>act2018_math</th>\n",
       "      <th>act2018_reading</th>\n",
       "      <th>act2018_science</th>\n",
       "      <th>sat2018_part</th>\n",
       "      <th>sat2018_erw</th>\n",
       "      <th>sat2018_math</th>\n",
       "      <th>sat2018_total</th>\n",
       "    </tr>\n",
       "  </thead>\n",
       "  <tbody>\n",
       "    <tr>\n",
       "      <th>count</th>\n",
       "      <td>51.000000</td>\n",
       "      <td>51.000000</td>\n",
       "      <td>51.000000</td>\n",
       "      <td>51.000000</td>\n",
       "      <td>51.000000</td>\n",
       "      <td>51.000000</td>\n",
       "      <td>51.000000</td>\n",
       "      <td>51.000000</td>\n",
       "      <td>51.000000</td>\n",
       "      <td>51.000000</td>\n",
       "      <td>51.000000</td>\n",
       "      <td>51.000000</td>\n",
       "      <td>51.000000</td>\n",
       "      <td>51.000000</td>\n",
       "      <td>51.000000</td>\n",
       "      <td>51.000000</td>\n",
       "      <td>51.000000</td>\n",
       "      <td>51.000000</td>\n",
       "      <td>51.000000</td>\n",
       "      <td>51.000000</td>\n",
       "    </tr>\n",
       "    <tr>\n",
       "      <th>mean</th>\n",
       "      <td>65.254902</td>\n",
       "      <td>20.931373</td>\n",
       "      <td>21.182353</td>\n",
       "      <td>22.013725</td>\n",
       "      <td>21.450980</td>\n",
       "      <td>21.519608</td>\n",
       "      <td>39.803922</td>\n",
       "      <td>569.117647</td>\n",
       "      <td>556.882353</td>\n",
       "      <td>1126.098039</td>\n",
       "      <td>61.647059</td>\n",
       "      <td>21.486275</td>\n",
       "      <td>20.988235</td>\n",
       "      <td>21.125490</td>\n",
       "      <td>22.015686</td>\n",
       "      <td>21.345098</td>\n",
       "      <td>45.745098</td>\n",
       "      <td>563.686275</td>\n",
       "      <td>556.235294</td>\n",
       "      <td>1120.019608</td>\n",
       "    </tr>\n",
       "    <tr>\n",
       "      <th>std</th>\n",
       "      <td>32.140842</td>\n",
       "      <td>2.353677</td>\n",
       "      <td>1.981989</td>\n",
       "      <td>2.067271</td>\n",
       "      <td>1.739353</td>\n",
       "      <td>2.020695</td>\n",
       "      <td>35.276632</td>\n",
       "      <td>45.666901</td>\n",
       "      <td>47.121395</td>\n",
       "      <td>92.494812</td>\n",
       "      <td>34.080976</td>\n",
       "      <td>2.106278</td>\n",
       "      <td>2.446356</td>\n",
       "      <td>2.035765</td>\n",
       "      <td>2.167245</td>\n",
       "      <td>1.870114</td>\n",
       "      <td>37.314256</td>\n",
       "      <td>47.502627</td>\n",
       "      <td>47.772623</td>\n",
       "      <td>94.155083</td>\n",
       "    </tr>\n",
       "    <tr>\n",
       "      <th>min</th>\n",
       "      <td>8.000000</td>\n",
       "      <td>16.300000</td>\n",
       "      <td>18.000000</td>\n",
       "      <td>18.100000</td>\n",
       "      <td>18.200000</td>\n",
       "      <td>17.800000</td>\n",
       "      <td>2.000000</td>\n",
       "      <td>482.000000</td>\n",
       "      <td>468.000000</td>\n",
       "      <td>950.000000</td>\n",
       "      <td>7.000000</td>\n",
       "      <td>17.700000</td>\n",
       "      <td>16.600000</td>\n",
       "      <td>17.800000</td>\n",
       "      <td>18.000000</td>\n",
       "      <td>17.900000</td>\n",
       "      <td>2.000000</td>\n",
       "      <td>480.000000</td>\n",
       "      <td>480.000000</td>\n",
       "      <td>977.000000</td>\n",
       "    </tr>\n",
       "    <tr>\n",
       "      <th>25%</th>\n",
       "      <td>31.000000</td>\n",
       "      <td>19.000000</td>\n",
       "      <td>19.400000</td>\n",
       "      <td>20.450000</td>\n",
       "      <td>19.950000</td>\n",
       "      <td>19.800000</td>\n",
       "      <td>4.000000</td>\n",
       "      <td>533.500000</td>\n",
       "      <td>523.500000</td>\n",
       "      <td>1055.500000</td>\n",
       "      <td>28.500000</td>\n",
       "      <td>19.950000</td>\n",
       "      <td>19.100000</td>\n",
       "      <td>19.400000</td>\n",
       "      <td>20.450000</td>\n",
       "      <td>19.850000</td>\n",
       "      <td>4.500000</td>\n",
       "      <td>534.500000</td>\n",
       "      <td>522.500000</td>\n",
       "      <td>1057.500000</td>\n",
       "    </tr>\n",
       "    <tr>\n",
       "      <th>50%</th>\n",
       "      <td>69.000000</td>\n",
       "      <td>20.700000</td>\n",
       "      <td>20.900000</td>\n",
       "      <td>21.800000</td>\n",
       "      <td>21.300000</td>\n",
       "      <td>21.400000</td>\n",
       "      <td>38.000000</td>\n",
       "      <td>559.000000</td>\n",
       "      <td>548.000000</td>\n",
       "      <td>1107.000000</td>\n",
       "      <td>66.000000</td>\n",
       "      <td>21.300000</td>\n",
       "      <td>20.200000</td>\n",
       "      <td>20.700000</td>\n",
       "      <td>21.600000</td>\n",
       "      <td>21.100000</td>\n",
       "      <td>52.000000</td>\n",
       "      <td>552.000000</td>\n",
       "      <td>544.000000</td>\n",
       "      <td>1098.000000</td>\n",
       "    </tr>\n",
       "    <tr>\n",
       "      <th>75%</th>\n",
       "      <td>100.000000</td>\n",
       "      <td>23.300000</td>\n",
       "      <td>23.100000</td>\n",
       "      <td>24.150000</td>\n",
       "      <td>23.200000</td>\n",
       "      <td>23.600000</td>\n",
       "      <td>66.000000</td>\n",
       "      <td>613.000000</td>\n",
       "      <td>599.000000</td>\n",
       "      <td>1212.000000</td>\n",
       "      <td>100.000000</td>\n",
       "      <td>23.550000</td>\n",
       "      <td>23.700000</td>\n",
       "      <td>23.150000</td>\n",
       "      <td>24.100000</td>\n",
       "      <td>23.050000</td>\n",
       "      <td>77.500000</td>\n",
       "      <td>610.500000</td>\n",
       "      <td>593.500000</td>\n",
       "      <td>1204.000000</td>\n",
       "    </tr>\n",
       "    <tr>\n",
       "      <th>max</th>\n",
       "      <td>100.000000</td>\n",
       "      <td>25.500000</td>\n",
       "      <td>25.300000</td>\n",
       "      <td>26.000000</td>\n",
       "      <td>24.900000</td>\n",
       "      <td>25.500000</td>\n",
       "      <td>100.000000</td>\n",
       "      <td>644.000000</td>\n",
       "      <td>651.000000</td>\n",
       "      <td>1295.000000</td>\n",
       "      <td>100.000000</td>\n",
       "      <td>25.600000</td>\n",
       "      <td>26.000000</td>\n",
       "      <td>25.200000</td>\n",
       "      <td>26.100000</td>\n",
       "      <td>24.900000</td>\n",
       "      <td>100.000000</td>\n",
       "      <td>643.000000</td>\n",
       "      <td>655.000000</td>\n",
       "      <td>1298.000000</td>\n",
       "    </tr>\n",
       "  </tbody>\n",
       "</table>\n",
       "</div>"
      ],
      "text/plain": [
       "       act2017_part  act2017_eng  act2017_math  act2017_reading  \\\n",
       "count     51.000000    51.000000     51.000000        51.000000   \n",
       "mean      65.254902    20.931373     21.182353        22.013725   \n",
       "std       32.140842     2.353677      1.981989         2.067271   \n",
       "min        8.000000    16.300000     18.000000        18.100000   \n",
       "25%       31.000000    19.000000     19.400000        20.450000   \n",
       "50%       69.000000    20.700000     20.900000        21.800000   \n",
       "75%      100.000000    23.300000     23.100000        24.150000   \n",
       "max      100.000000    25.500000     25.300000        26.000000   \n",
       "\n",
       "       act2017_science  act2017_composite  sat2017_part  sat2017_erw  \\\n",
       "count        51.000000          51.000000     51.000000    51.000000   \n",
       "mean         21.450980          21.519608     39.803922   569.117647   \n",
       "std           1.739353           2.020695     35.276632    45.666901   \n",
       "min          18.200000          17.800000      2.000000   482.000000   \n",
       "25%          19.950000          19.800000      4.000000   533.500000   \n",
       "50%          21.300000          21.400000     38.000000   559.000000   \n",
       "75%          23.200000          23.600000     66.000000   613.000000   \n",
       "max          24.900000          25.500000    100.000000   644.000000   \n",
       "\n",
       "       sat2017_math  sat2017_total  act2018_part  act2018_composite  \\\n",
       "count     51.000000      51.000000     51.000000          51.000000   \n",
       "mean     556.882353    1126.098039     61.647059          21.486275   \n",
       "std       47.121395      92.494812     34.080976           2.106278   \n",
       "min      468.000000     950.000000      7.000000          17.700000   \n",
       "25%      523.500000    1055.500000     28.500000          19.950000   \n",
       "50%      548.000000    1107.000000     66.000000          21.300000   \n",
       "75%      599.000000    1212.000000    100.000000          23.550000   \n",
       "max      651.000000    1295.000000    100.000000          25.600000   \n",
       "\n",
       "       act2018_eng  act2018_math  act2018_reading  act2018_science  \\\n",
       "count    51.000000     51.000000        51.000000        51.000000   \n",
       "mean     20.988235     21.125490        22.015686        21.345098   \n",
       "std       2.446356      2.035765         2.167245         1.870114   \n",
       "min      16.600000     17.800000        18.000000        17.900000   \n",
       "25%      19.100000     19.400000        20.450000        19.850000   \n",
       "50%      20.200000     20.700000        21.600000        21.100000   \n",
       "75%      23.700000     23.150000        24.100000        23.050000   \n",
       "max      26.000000     25.200000        26.100000        24.900000   \n",
       "\n",
       "       sat2018_part  sat2018_erw  sat2018_math  sat2018_total  \n",
       "count     51.000000    51.000000     51.000000      51.000000  \n",
       "mean      45.745098   563.686275    556.235294    1120.019608  \n",
       "std       37.314256    47.502627     47.772623      94.155083  \n",
       "min        2.000000   480.000000    480.000000     977.000000  \n",
       "25%        4.500000   534.500000    522.500000    1057.500000  \n",
       "50%       52.000000   552.000000    544.000000    1098.000000  \n",
       "75%       77.500000   610.500000    593.500000    1204.000000  \n",
       "max      100.000000   643.000000    655.000000    1298.000000  "
      ]
     },
     "execution_count": 276,
     "metadata": {},
     "output_type": "execute_result"
    }
   ],
   "source": [
    "final_act_sat.describe()"
   ]
  },
  {
   "cell_type": "code",
   "execution_count": 277,
   "metadata": {},
   "outputs": [
    {
     "data": {
      "image/png": "[encoded data removed]",
      "text/plain": [
       "<Figure size 360x360 with 1 Axes>"
      ]
     },
     "metadata": {
      "needs_background": "light"
     },
     "output_type": "display_data"
    }
   ],
   "source": [
    "#SAT 2017 Participation rate\n",
    "sns.displot(final_act_sat['sat2017_part']);"
   ]
  },
  {
   "cell_type": "markdown",
   "metadata": {},
   "source": [
    "- Center : The mean, median and mode of the SAT 2017 participation rate is 39.80 and 38.0 respectively.\n",
    "- Shape : The distribution of participation rate appears positively skewed so is not symmetrical.\n",
    "- Spread : The data range is from 2 (min value) to about 100 (max value), so the range = 100 – 2 = 98."
   ]
  },
  {
   "cell_type": "code",
   "execution_count": 278,
   "metadata": {},
   "outputs": [
    {
     "data": {
      "image/png": "[encoded data removed]",
      "text/plain": [
       "<Figure size 360x360 with 1 Axes>"
      ]
     },
     "metadata": {
      "needs_background": "light"
     },
     "output_type": "display_data"
    }
   ],
   "source": [
    "#SAT 2017 Math Score\n",
    "sns.displot(final_act_sat['sat2017_math']);"
   ]
  },
  {
   "cell_type": "markdown",
   "metadata": {},
   "source": [
    "- Center : The mean, median and mode of the SAT 2017 Math score is 556.88, 548.0 and 524 respectively\n",
    "- Shape : The distribution of participation rate appears positively skewed so is not symmetrical.\n",
    "- Spread : The data range is from 468 to about 651 (max value), so the range = 651 – 468 = 183."
   ]
  },
  {
   "cell_type": "code",
   "execution_count": 279,
   "metadata": {},
   "outputs": [
    {
     "data": {
      "image/png": "[encoded data removed]",
      "text/plain": [
       "<Figure size 360x360 with 1 Axes>"
      ]
     },
     "metadata": {
      "needs_background": "light"
     },
     "output_type": "display_data"
    }
   ],
   "source": [
    "#SAT 2017 Evidence based Reading & Writing Score\n",
    "sns.displot(final_act_sat['sat2017_erw']);"
   ]
  },
  {
   "cell_type": "markdown",
   "metadata": {},
   "source": [
    "- Center : The mean, median and mode of the SAT 2017 ERW score is 569.12, 559.0 and 513 respectively\n",
    "- Shape : The distribution of participation rate appears positively skewed so is not symmetrical.\n",
    "- Spread : The data range is from 482 to about 644 (max value), so the range = 644 – 482 = 162."
   ]
  },
  {
   "cell_type": "code",
   "execution_count": 280,
   "metadata": {},
   "outputs": [
    {
     "data": {
      "image/png": "[encoded data removed]",
      "text/plain": [
       "<Figure size 360x360 with 1 Axes>"
      ]
     },
     "metadata": {
      "needs_background": "light"
     },
     "output_type": "display_data"
    }
   ],
   "source": [
    "#SAT 2017 Total Score\n",
    "sns.displot(final_act_sat['sat2017_total']);"
   ]
  },
  {
   "cell_type": "markdown",
   "metadata": {},
   "source": [
    "- Center : The mean, median of the SAT 2017 Total score is 1126.09 and 1107.0 respectively\n",
    "- Shape : The distribution of participation rate appears positively skewed so is not symmetrical.\n",
    "- Spread : The data range is from 950 to about 1107 (max value), so the range = 1107 - 950 = 345."
   ]
  },
  {
   "cell_type": "code",
   "execution_count": 281,
   "metadata": {},
   "outputs": [
    {
     "data": {
      "image/png": "[encoded data removed]",
      "text/plain": [
       "<Figure size 360x360 with 1 Axes>"
      ]
     },
     "metadata": {
      "needs_background": "light"
     },
     "output_type": "display_data"
    }
   ],
   "source": [
    "#SAT 2018 Participation Rate\n",
    "sns.displot(final_act_sat['sat2018_part']);"
   ]
  },
  {
   "cell_type": "markdown",
   "metadata": {},
   "source": [
    "- Center : The mean, median of the SAT 2017 Total score is 1126.09 and 1107.0 respectively\n",
    "- Shape : The distribution of participation rate appears positively skewed so is not symmetrical.\n",
    "- Spread : The data range is from 950 to about 1107 (max value), so the range = 1107 - 950 = 345."
   ]
  },
  {
   "cell_type": "code",
   "execution_count": 282,
   "metadata": {},
   "outputs": [
    {
     "data": {
      "image/png": "[encoded data removed]",
      "text/plain": [
       "<Figure size 360x360 with 1 Axes>"
      ]
     },
     "metadata": {
      "needs_background": "light"
     },
     "output_type": "display_data"
    }
   ],
   "source": [
    "#SAT 2018 Math Score\n",
    "sns.displot(final_act_sat['sat2018_math']);"
   ]
  },
  {
   "cell_type": "markdown",
   "metadata": {},
   "source": [
    "- Center : The mean, median of the SAT 2018 Math score is 556.24 and 544.0 respectively\n",
    "- Shape : The distribution of participation rate appears positively skewed so is not symmetrical.\n",
    "- Spread : The data range is from 480 to about 655 (max value), so the range = 655 - 480 = 175."
   ]
  },
  {
   "cell_type": "code",
   "execution_count": 283,
   "metadata": {},
   "outputs": [
    {
     "data": {
      "image/png": "[encoded data removed]",
      "text/plain": [
       "<Figure size 360x360 with 1 Axes>"
      ]
     },
     "metadata": {
      "needs_background": "light"
     },
     "output_type": "display_data"
    }
   ],
   "source": [
    "#SAT 2018 Evidence Based Reading And Writing Score\n",
    "sns.displot(final_act_sat['sat2018_erw']);"
   ]
  },
  {
   "cell_type": "markdown",
   "metadata": {},
   "source": [
    "- Center : The mean, median of the SAT 2018 ERW score is 563.69 and 552.0 respectively\n",
    "- Shape : The distribution of participation rate appears positively skewed so is not symmetrical.\n",
    "- Spread : The data range is from 480 to about 643 (max value), so the range = 643 - 480 = 163."
   ]
  },
  {
   "cell_type": "code",
   "execution_count": 284,
   "metadata": {},
   "outputs": [
    {
     "data": {
      "image/png": "[encoded data removed]",
      "text/plain": [
       "<Figure size 360x360 with 1 Axes>"
      ]
     },
     "metadata": {
      "needs_background": "light"
     },
     "output_type": "display_data"
    }
   ],
   "source": [
    "#SAT 2018 Total Score\n",
    "sns.displot(final_act_sat['sat2018_total']);"
   ]
  },
  {
   "cell_type": "markdown",
   "metadata": {},
   "source": [
    "- Center : The mean, median of the SAT 2017 Total score is 1120.02 and 1098.0 respectively\n",
    "- Shape : The distribution of participation rate appears positively skewed so is not symmetrical.\n",
    "- Spread : The data range is from 977 to about 1298 (max value), so the range = 1298 - 977 = 321."
   ]
  },
  {
   "cell_type": "code",
   "execution_count": 285,
   "metadata": {},
   "outputs": [
    {
     "data": {
      "image/png": "[encoded data removed]",
      "text/plain": [
       "<Figure size 360x360 with 1 Axes>"
      ]
     },
     "metadata": {
      "needs_background": "light"
     },
     "output_type": "display_data"
    }
   ],
   "source": [
    "#ACT 2017 Participation Rate \n",
    "sns.displot(final_act_sat['act2017_part']);"
   ]
  },
  {
   "cell_type": "markdown",
   "metadata": {},
   "source": [
    "- Center : The mean, median of the ACT 2017 Participation Rate is 65.25 and 69.0 respectively.\n",
    "- Shape : The distribution of participation rate is negetively skewed so is not symmetrical.\n",
    "- Spread : The data range is from 8 to about 100, so the range is 100 - 8 = 92. "
   ]
  },
  {
   "cell_type": "code",
   "execution_count": 286,
   "metadata": {},
   "outputs": [
    {
     "data": {
      "image/png": "[encoded data removed]",
      "text/plain": [
       "<Figure size 360x360 with 1 Axes>"
      ]
     },
     "metadata": {
      "needs_background": "light"
     },
     "output_type": "display_data"
    }
   ],
   "source": [
    "#ACT 2017 Math Score \n",
    "sns.displot(final_act_sat['act2017_math']);"
   ]
  },
  {
   "cell_type": "markdown",
   "metadata": {},
   "source": [
    "- Center : The mean, median of the ACT 2017 Math Score is 21.18 and 20.9 respectively.\n",
    "- Shape : The distribution of participation rate is positively skewed so is not symmetrical.\n",
    "- Spread : The data range is from 18.0 to about 25.3, so the range is 25.3 - 18.0 = 7.3. 4"
   ]
  },
  {
   "cell_type": "code",
   "execution_count": 287,
   "metadata": {},
   "outputs": [
    {
     "data": {
      "image/png": "[encoded data removed]",
      "text/plain": [
       "<Figure size 360x360 with 1 Axes>"
      ]
     },
     "metadata": {
      "needs_background": "light"
     },
     "output_type": "display_data"
    }
   ],
   "source": [
    "#ACT 2017 English Score \n",
    "sns.displot(final_act_sat['act2017_eng']);"
   ]
  },
  {
   "cell_type": "markdown",
   "metadata": {},
   "source": [
    "- Center : The mean, median of the ACT 2017 English Score is 20.93 and 20.7 respectively.\n",
    "- Shape : The distribution of participation rate is positively skewed and is not symmetrical.\n",
    "- Spread : The data range is from 16.3 to about 25.5, so the range is 25.5 - 16.3 = 9.2. "
   ]
  },
  {
   "cell_type": "code",
   "execution_count": 288,
   "metadata": {},
   "outputs": [
    {
     "data": {
      "image/png": "[encoded data removed]",
      "text/plain": [
       "<Figure size 360x360 with 1 Axes>"
      ]
     },
     "metadata": {
      "needs_background": "light"
     },
     "output_type": "display_data"
    }
   ],
   "source": [
    "#ACT 2017 Reading Score \n",
    "sns.displot(final_act_sat['act2017_reading']);"
   ]
  },
  {
   "cell_type": "markdown",
   "metadata": {},
   "source": [
    "- Center : The mean, median of the ACT 2017 English Score is 22.01 and 21.8 respectively.\n",
    "- Shape : The distribution of participation rate is positively skewed and is not symmetrical.\n",
    "- Spread : The data range is from 18.1 to about 26.0, so the range is 26.0 - 18.1 = 7.9. "
   ]
  },
  {
   "cell_type": "code",
   "execution_count": 289,
   "metadata": {},
   "outputs": [
    {
     "data": {
      "image/png": "[encoded data removed]",
      "text/plain": [
       "<Figure size 360x360 with 1 Axes>"
      ]
     },
     "metadata": {
      "needs_background": "light"
     },
     "output_type": "display_data"
    }
   ],
   "source": [
    "#ACT 2017 Science Score \n",
    "sns.displot(final_act_sat['act2017_science']);"
   ]
  },
  {
   "cell_type": "markdown",
   "metadata": {},
   "source": [
    "- Center : The mean, median of the ACT 2017 Science Score is 21.04 and 21.3 respectively.\n",
    "- Shape : The distribution of science score is negetively skewed and is not symmetrical.\n",
    "- Spread : The data range is from 2.3 to about 24.9, so the range is 24.9 - 2.3 "
   ]
  },
  {
   "cell_type": "code",
   "execution_count": 290,
   "metadata": {},
   "outputs": [
    {
     "data": {
      "image/png": "[encoded data removed]",
      "text/plain": [
       "<Figure size 360x360 with 1 Axes>"
      ]
     },
     "metadata": {
      "needs_background": "light"
     },
     "output_type": "display_data"
    }
   ],
   "source": [
    "#ACT 2017 Composite Score \n",
    "sns.displot(final_act_sat['act2017_composite']);"
   ]
  },
  {
   "cell_type": "markdown",
   "metadata": {},
   "source": [
    "- Center : The mean, median of the ACT 2017 Composite Score is 21.52 and 21.4 respectively.\n",
    "- Shape : The distribution of science score is positively skewed and is not symmetrical.\n",
    "- Spread : The data range is from 17.8 to about 25.5, so the range is 25.5 - 17.8 = 7.7"
   ]
  },
  {
   "cell_type": "code",
   "execution_count": 291,
   "metadata": {},
   "outputs": [
    {
     "data": {
      "image/png": "[encoded data removed]",
      "text/plain": [
       "<Figure size 360x360 with 1 Axes>"
      ]
     },
     "metadata": {
      "needs_background": "light"
     },
     "output_type": "display_data"
    }
   ],
   "source": [
    "#ACT 2018 Participation Rate \n",
    "sns.displot(final_act_sat['act2018_part']);"
   ]
  },
  {
   "cell_type": "markdown",
   "metadata": {},
   "source": [
    "- Center : The mean, median of the ACT 2018 Participation Rate is 61.65 and 66.0 respectively.\n",
    "- Shape : The distribution of participation rate is negetively skewed and is not symmetrical.\n",
    "- Spread : The data range is from 7 to about 100, so the range is 100 - 7 = 93"
   ]
  },
  {
   "cell_type": "code",
   "execution_count": 292,
   "metadata": {},
   "outputs": [
    {
     "data": {
      "image/png": "[encoded data removed]",
      "text/plain": [
       "<Figure size 360x360 with 1 Axes>"
      ]
     },
     "metadata": {
      "needs_background": "light"
     },
     "output_type": "display_data"
    }
   ],
   "source": [
    "#ACT 2018 Math Score \n",
    "sns.displot(final_act_sat['act2018_math']);"
   ]
  },
  {
   "cell_type": "markdown",
   "metadata": {},
   "source": [
    "- Center : The mean, median of the ACT 2018 Math Score is 21.12 and 20.7 respectively.\n",
    "- Shape : The distribution of math score is positively skewed and is not symmetrical. \n",
    "- Spread : The data range is from 17.8 to about 25.2, so the range is 25.2 - 17.8 = 7.4"
   ]
  },
  {
   "cell_type": "code",
   "execution_count": 293,
   "metadata": {},
   "outputs": [
    {
     "data": {
      "image/png": "[encoded data removed]",
      "text/plain": [
       "<Figure size 360x360 with 1 Axes>"
      ]
     },
     "metadata": {
      "needs_background": "light"
     },
     "output_type": "display_data"
    }
   ],
   "source": [
    "#ACT 2018 English Score \n",
    "sns.displot(final_act_sat['act2018_eng']);"
   ]
  },
  {
   "cell_type": "markdown",
   "metadata": {},
   "source": [
    "- Center : The mean, median of the ACT 2018 English Score is 20.99 and 20.2 respectively.\n",
    "- Shape : The distribution of math score is positively skewed and is not symmetrical.\n",
    "- Spread : The data range is from 16.6 to about 26.0, so the range is 26.0 - 16.6 = 9.4"
   ]
  },
  {
   "cell_type": "code",
   "execution_count": 294,
   "metadata": {},
   "outputs": [
    {
     "data": {
      "image/png": "[encoded data removed]",
      "text/plain": [
       "<Figure size 360x360 with 1 Axes>"
      ]
     },
     "metadata": {
      "needs_background": "light"
     },
     "output_type": "display_data"
    }
   ],
   "source": [
    "#ACT 2018 Reading Score \n",
    "sns.displot(final_act_sat['act2018_reading']);"
   ]
  },
  {
   "cell_type": "markdown",
   "metadata": {},
   "source": [
    "- Center : The mean, median of the ACT 2018 Reading Score is 22.01 and 21.6 respectively.\n",
    "- Shape : The distribution of math score is positively skewed and is not symmetrical. \n",
    "- Spread : The data range is from 18.0 to about 26.1, so the range is 26.1 - 21.6 = 4.5"
   ]
  },
  {
   "cell_type": "code",
   "execution_count": 295,
   "metadata": {},
   "outputs": [
    {
     "data": {
      "image/png": "[encoded data removed]",
      "text/plain": [
       "<Figure size 360x360 with 1 Axes>"
      ]
     },
     "metadata": {
      "needs_background": "light"
     },
     "output_type": "display_data"
    }
   ],
   "source": [
    "#ACT 2018 Science Score \n",
    "sns.displot(final_act_sat['act2018_science']);"
   ]
  },
  {
   "cell_type": "markdown",
   "metadata": {},
   "source": [
    "- Center : The mean, median of the ACT 2018 Science Score is 21.34 and 21.1 respectively.\n",
    "- Shape : The distribution of science score is positively skewed and is not symmetrical.\n",
    "- Spread : The data range is from 17.9 to about 24.9, so the range is 24.9 - 17.9 = 7"
   ]
  },
  {
   "cell_type": "code",
   "execution_count": 296,
   "metadata": {},
   "outputs": [
    {
     "data": {
      "image/png": "[encoded data removed]",
      "text/plain": [
       "<Figure size 360x360 with 1 Axes>"
      ]
     },
     "metadata": {
      "needs_background": "light"
     },
     "output_type": "display_data"
    }
   ],
   "source": [
    "#ACT 2018 Science Score \n",
    "sns.displot(final_act_sat['act2018_composite']);"
   ]
  },
  {
   "cell_type": "markdown",
   "metadata": {},
   "source": [
    "- Center : The mean, median of the ACT 2018 Composite Score is 21.48 and 21.3 respectively.\n",
    "- Shape : The distribution of science score is positively skewed and is not symmetrical. (0.274)\n",
    "- Spread : The min value is 17.7 and max value is 25.6, so the range is 25.6 - 17.7 = 7.9."
   ]
  },
  {
   "cell_type": "markdown",
   "metadata": {},
   "source": [
    "#### We generally assuming that data we sample from a population will be normally distributed. Do we observe this trend?"
   ]
  },
  {
   "cell_type": "markdown",
   "metadata": {},
   "source": [
    "Answer: No, we do not observe this trend. As seen from the histograms above we can say that data is not normally distributed. "
   ]
  },
  {
   "cell_type": "markdown",
   "metadata": {},
   "source": [
    "Does This Assumption Hold for:\n",
    "    - Math\n",
    "    - Reading\n",
    "    - Rates\n",
    "Explain your answers for each distribution and how you think this will affect estimates made from these data."
   ]
  },
  {
   "cell_type": "markdown",
   "metadata": {},
   "source": [
    "Answer:"
   ]
  },
  {
   "cell_type": "code",
   "execution_count": 297,
   "metadata": {},
   "outputs": [
    {
     "data": {
      "image/png": "[encoded data removed]",
      "text/plain": [
       "<Figure size 576x576 with 4 Axes>"
      ]
     },
     "metadata": {
      "needs_background": "light"
     },
     "output_type": "display_data"
    }
   ],
   "source": [
    "#Math data distribution\n",
    "subplot_histograms(final_act_sat, ['sat2017_math', 'sat2018_math', 'act2017_math', 'act2018_math'], \n",
    "                   ['SAT 2017 Math Score Distribution', 'SAT 2018 Math Score Distribution', \n",
    "                    'ACT 2017 Math Score Distribution', 'ACT 2018 Math Score Distribution'],\n",
    "                   ['Math Score', 'Math Score', 'Math Score', 'Math Score'],\\\n",
    "                   'No Of States')"
   ]
  },
  {
   "cell_type": "markdown",
   "metadata": {},
   "source": [
    "- Math score do nto follow normal distribution.\n",
    "- These histograms for math scores are bimodal (data with more than 1 peak). \n",
    "- The distribution is not symmetrical, they are positively skewed.\n",
    "- However, distribution for ACT math score is less skewed than SAT math score. "
   ]
  },
  {
   "cell_type": "code",
   "execution_count": 298,
   "metadata": {},
   "outputs": [
    {
     "data": {
      "image/png": "[encoded data removed]",
      "text/plain": [
       "<Figure size 576x576 with 4 Axes>"
      ]
     },
     "metadata": {
      "needs_background": "light"
     },
     "output_type": "display_data"
    }
   ],
   "source": [
    "#ERW/Reading data distribution\n",
    "subplot_histograms(final_act_sat, ['sat2017_erw', 'sat2018_erw', 'act2017_reading', 'act2018_reading'], \n",
    "                   ['SAT 2017 ERW Score Distribution', 'SAT 2018 ERW Score Distribution', \n",
    "                    'ACT 2017 Reading Score Distribution', 'ACT 2018 Reading Score Distribution'],\n",
    "                   ['ERW Score', 'ERW Score', 'Reading Score', 'Reading Score'],\\\n",
    "                   'No Of States')"
   ]
  },
  {
   "cell_type": "markdown",
   "metadata": {},
   "source": [
    "- Reading score too does not follow normal distribution.\n",
    "- The mean is quite identical for the reading score but we can see that the distribution is not symmetrical, they are positively skewed.\n",
    "- These histograms show bimodal (data with more than 1 peak). \n",
    "- However, the data distribution for reading scores is less skewed in comparison to math scores. "
   ]
  },
  {
   "cell_type": "code",
   "execution_count": 300,
   "metadata": {
    "scrolled": true
   },
   "outputs": [
    {
     "data": {
      "image/png": "[encoded data removed]",
      "text/plain": [
       "<Figure size 576x576 with 4 Axes>"
      ]
     },
     "metadata": {
      "needs_background": "light"
     },
     "output_type": "display_data"
    }
   ],
   "source": [
    "#Participation data distribution\n",
    "subplot_histograms(final_act_sat, ['sat2017_part', 'sat2018_part', 'act2017_part', 'act2018_part'], \n",
    "                   ['SAT 2017 Participation Rate Distribution', 'SAT 2018 Participation Rate Distribution', \n",
    "                    'ACT 2017 Participation Rate Distribution', 'ACT 2018 Participation Rate Distribution'],\n",
    "                   ['Participation', 'Participation', 'Participation', 'Participation'],\n",
    "                   'No Of States')"
   ]
  },
  {
   "cell_type": "markdown",
   "metadata": {},
   "source": [
    "- The participation data does not follow normal distribution.\n",
    "- From the histograms above we can see that the distribution is not symmetrical, they are either positively or negetively skewed. Though the skewness is low , we cannot say that it is normally distributed.\n",
    "- These histograms show bimodal (data with more than 1 peak). "
   ]
  },
  {
   "cell_type": "markdown",
   "metadata": {},
   "source": [
    "#### Estimate Limits of Data\n",
    "\n",
    "Suppose we only seek to understand the relationship between SAT and ACT participation rates in 2017. \n",
    "\n",
    "##### Does it make sense to conduct statistical inference given these data specifically? \n",
    "\n",
    "Why or why not?\n",
    "\n",
    "*(think about granularity, aggregation, the relationships between populations size & rates...consider the actually populations these data describe in answering this question)*"
   ]
  },
  {
   "cell_type": "markdown",
   "metadata": {},
   "source": [
    "Answer: \n",
    "- Given the data, I don't think it is logical to conduct statistical inference to understand the relationship between SAT and ACT participation rates in 2017.\n",
    "- The participation rates differ for the different states of US based on population size of the state, price for the ACT/SAT test, university's preference/policies, subsidy given etc.\n",
    "- Hence it would not be appropriate to carry statistical test where the two data are not correlated."
   ]
  },
  {
   "cell_type": "markdown",
   "metadata": {},
   "source": [
    "##### Is it appropriate to compare *these* specific SAT and ACT math scores? \n",
    "\n",
    "Why or why not?"
   ]
  },
  {
   "cell_type": "markdown",
   "metadata": {},
   "source": [
    "Answer: \n",
    "- It is not appropriate to compare the SAT and ACT scores as they have different range/scale. Maybe we can compare in percentage form.\n",
    "- However, we can see from below .corr call that they both have negetive correlation. So it doesn't make sense to compare SAT and ACT math scores."
   ]
  },
  {
   "cell_type": "code",
   "execution_count": 301,
   "metadata": {},
   "outputs": [
    {
     "data": {
      "text/plain": [
       "-0.42045603931931763"
      ]
     },
     "execution_count": 301,
     "metadata": {},
     "output_type": "execute_result"
    }
   ],
   "source": [
    "#Correlation between SAT and ACT math scores\n",
    "final_act_sat['sat2017_math'].corr(final_act_sat['act2017_math'])"
   ]
  },
  {
   "cell_type": "markdown",
   "metadata": {},
   "source": [
    "#### Statistical Evaluation of Distributions \n",
    "\n",
    "**If you feel it's appropriate**, using methods we discussed in class, run hypothesis tests to compare variables of interest in our dataset. "
   ]
  },
  {
   "cell_type": "markdown",
   "metadata": {},
   "source": [
    "$H_0:$ The difference between the mean of participation in SAT 2017 and SAT 2018 is 0.\n",
    "\n",
    "$H_A:$ The difference between the mean of participation in SAT 2017 and SAT 2018 is NOT 0.\n",
    "\n",
    "$\\alpha$ (level of significance) = 0.5"
   ]
  },
  {
   "cell_type": "code",
   "execution_count": 302,
   "metadata": {},
   "outputs": [
    {
     "data": {
      "text/plain": [
       "Ttest_indResult(statistic=0.8262650776952394, pvalue=0.41062697785955005)"
      ]
     },
     "execution_count": 302,
     "metadata": {},
     "output_type": "execute_result"
    }
   ],
   "source": [
    "stats.ttest_ind(final_act_sat['sat2018_part'], final_act_sat['sat2017_part'], equal_var=False)"
   ]
  },
  {
   "cell_type": "markdown",
   "metadata": {},
   "source": [
    "The  t-statistic value associated with difference in mean of participation is 0.83.\n",
    "\n",
    "Now, p-value (probability that there is no difference in the mean values for SAT 2017 and 2018 i.e there is no increase in the participation) is 0.41.\n",
    "\n",
    "p-value < 0.5, hence we reject the $H_0$ and accept the $H_A$\n",
    "\n",
    "We can conclude that there has been increase in the participaiton rate for SAT from 2017 to 2018"
   ]
  },
  {
   "cell_type": "markdown",
   "metadata": {},
   "source": [
    "## Outside Research"
   ]
  },
  {
   "cell_type": "markdown",
   "metadata": {},
   "source": [
    "Based upon your observations, choose **three** states that demonstrate interesting trends in their SAT and/or ACT participation rates. Spend some time doing outside research on state policies that might influence these rates, and summarize your findings below. **Feel free to go back and create new plots that highlight these states of interest**. If you bring in any outside tables or charts, make sure you are explicit about having borrowed them. If you quote any text, make sure that it renders as being quoted. (Make sure that you cite your sources -- check with you local instructor for citation preferences)."
   ]
  },
  {
   "cell_type": "code",
   "execution_count": 303,
   "metadata": {},
   "outputs": [
    {
     "data": {
      "text/html": [
       "<div>\n",
       "<style scoped>\n",
       "    .dataframe tbody tr th:only-of-type {\n",
       "        vertical-align: middle;\n",
       "    }\n",
       "\n",
       "    .dataframe tbody tr th {\n",
       "        vertical-align: top;\n",
       "    }\n",
       "\n",
       "    .dataframe thead th {\n",
       "        text-align: right;\n",
       "    }\n",
       "</style>\n",
       "<table border=\"1\" class=\"dataframe\">\n",
       "  <thead>\n",
       "    <tr style=\"text-align: right;\">\n",
       "      <th></th>\n",
       "      <th>state</th>\n",
       "      <th>sat2017_part</th>\n",
       "      <th>sat2018_part</th>\n",
       "      <th>sat_part_increase</th>\n",
       "      <th>act2017_part</th>\n",
       "      <th>act2018_part</th>\n",
       "      <th>act_part_increase</th>\n",
       "    </tr>\n",
       "  </thead>\n",
       "  <tbody>\n",
       "    <tr>\n",
       "      <th>13</th>\n",
       "      <td>Illinois</td>\n",
       "      <td>9</td>\n",
       "      <td>99</td>\n",
       "      <td>90</td>\n",
       "      <td>93</td>\n",
       "      <td>43</td>\n",
       "      <td>-50</td>\n",
       "    </tr>\n",
       "    <tr>\n",
       "      <th>5</th>\n",
       "      <td>Colorado</td>\n",
       "      <td>11</td>\n",
       "      <td>100</td>\n",
       "      <td>89</td>\n",
       "      <td>100</td>\n",
       "      <td>30</td>\n",
       "      <td>-70</td>\n",
       "    </tr>\n",
       "    <tr>\n",
       "      <th>39</th>\n",
       "      <td>Rhode Island</td>\n",
       "      <td>71</td>\n",
       "      <td>97</td>\n",
       "      <td>26</td>\n",
       "      <td>21</td>\n",
       "      <td>15</td>\n",
       "      <td>-6</td>\n",
       "    </tr>\n",
       "    <tr>\n",
       "      <th>48</th>\n",
       "      <td>West Virginia</td>\n",
       "      <td>14</td>\n",
       "      <td>28</td>\n",
       "      <td>14</td>\n",
       "      <td>69</td>\n",
       "      <td>65</td>\n",
       "      <td>-4</td>\n",
       "    </tr>\n",
       "    <tr>\n",
       "      <th>30</th>\n",
       "      <td>New Jersey</td>\n",
       "      <td>70</td>\n",
       "      <td>82</td>\n",
       "      <td>12</td>\n",
       "      <td>34</td>\n",
       "      <td>31</td>\n",
       "      <td>-3</td>\n",
       "    </tr>\n",
       "    <tr>\n",
       "      <th>32</th>\n",
       "      <td>New York</td>\n",
       "      <td>67</td>\n",
       "      <td>79</td>\n",
       "      <td>12</td>\n",
       "      <td>31</td>\n",
       "      <td>27</td>\n",
       "      <td>-4</td>\n",
       "    </tr>\n",
       "    <tr>\n",
       "      <th>10</th>\n",
       "      <td>Georgia</td>\n",
       "      <td>61</td>\n",
       "      <td>70</td>\n",
       "      <td>9</td>\n",
       "      <td>55</td>\n",
       "      <td>53</td>\n",
       "      <td>-2</td>\n",
       "    </tr>\n",
       "    <tr>\n",
       "      <th>12</th>\n",
       "      <td>Idaho</td>\n",
       "      <td>93</td>\n",
       "      <td>100</td>\n",
       "      <td>7</td>\n",
       "      <td>38</td>\n",
       "      <td>36</td>\n",
       "      <td>-2</td>\n",
       "    </tr>\n",
       "    <tr>\n",
       "      <th>20</th>\n",
       "      <td>Maryland</td>\n",
       "      <td>69</td>\n",
       "      <td>76</td>\n",
       "      <td>7</td>\n",
       "      <td>28</td>\n",
       "      <td>31</td>\n",
       "      <td>3</td>\n",
       "    </tr>\n",
       "    <tr>\n",
       "      <th>4</th>\n",
       "      <td>California</td>\n",
       "      <td>53</td>\n",
       "      <td>60</td>\n",
       "      <td>7</td>\n",
       "      <td>31</td>\n",
       "      <td>27</td>\n",
       "      <td>-4</td>\n",
       "    </tr>\n",
       "  </tbody>\n",
       "</table>\n",
       "</div>"
      ],
      "text/plain": [
       "            state  sat2017_part  sat2018_part  sat_part_increase  \\\n",
       "13       Illinois             9            99                 90   \n",
       "5        Colorado            11           100                 89   \n",
       "39   Rhode Island            71            97                 26   \n",
       "48  West Virginia            14            28                 14   \n",
       "30     New Jersey            70            82                 12   \n",
       "32       New York            67            79                 12   \n",
       "10        Georgia            61            70                  9   \n",
       "12          Idaho            93           100                  7   \n",
       "20       Maryland            69            76                  7   \n",
       "4      California            53            60                  7   \n",
       "\n",
       "    act2017_part  act2018_part  act_part_increase  \n",
       "13            93            43                -50  \n",
       "5            100            30                -70  \n",
       "39            21            15                 -6  \n",
       "48            69            65                 -4  \n",
       "30            34            31                 -3  \n",
       "32            31            27                 -4  \n",
       "10            55            53                 -2  \n",
       "12            38            36                 -2  \n",
       "20            28            31                  3  \n",
       "4             31            27                 -4  "
      ]
     },
     "execution_count": 303,
     "metadata": {},
     "output_type": "execute_result"
    }
   ],
   "source": [
    "final_act_sat['sat_part_increase'] = final_act_sat['sat2018_part'] - final_act_sat['sat2017_part']\n",
    "final_act_sat['act_part_increase'] = final_act_sat['act2018_part'] - final_act_sat['act2017_part']\n",
    "final_act_sat[['state', 'sat2017_part', 'sat2018_part', 'sat_part_increase', 'act2017_part', 'act2018_part', 'act_part_increase']].\\\n",
    "            sort_values(['sat_part_increase'], ascending=False).head(10)"
   ]
  },
  {
   "cell_type": "markdown",
   "metadata": {},
   "source": [
    "- Above is the list of 10 states with highest increase in participation rate for SAT.\n",
    "- There has been a tremendous increase in the participation rate for SAT from 2017 to 2018 for the states of Illinois (90%) and Colorado (89%)\n",
    "- With the increase in the participation for SAT, there is a decrease in the participation for ACT.\n",
    "\n",
    "Below are few possible reasons for the increase in participation rates for SAT:\n",
    "- New contracts signed by College Board with Colorado and Illinois might be the reason for the increase in the participation rate. \n",
    "    - [refrence article](https://www.washingtonpost.com/education/2018/10/23/sat-reclaims-title-most-widely-used-college-admission-test/)\n",
    "- In 2017-18, 10 states—Colorado, Connecticut, Delaware, Idaho, Illinois, Maine, Michigan, New Hampshire, Rhode Island, West Virginia—and the District of Columbia gave the SAT to public school students for free.\n",
    "- SAT is allowing the students to take the test on a school day. Jane Dapkus, vice president of the College Board, mentioned that they have seen remarkable expansion in participation rate for SAT due to this reason and they expect to grow even more in coming years.\n",
    "    - [refernce article](https://newsroom.collegeboard.org/more-2-million-students-class-2018-took-sat-highest-ever)\n",
    "- The new format for SAT has also removed the guessing penalty.\n",
    "    - [reference article](https://blog.prepscholar.com/new-sat-vs-old-sat-quick-summary)"
   ]
  },
  {
   "cell_type": "markdown",
   "metadata": {},
   "source": [
    "## Conclusions and Recommendations"
   ]
  },
  {
   "cell_type": "markdown",
   "metadata": {},
   "source": [
    "Based on your exploration of the data, what are you key takeaways and recommendations? Choose one state with a lower participation rate and provide a suggestion for how the College Board might increase participation amongst graduating seniors in this state. Are there additional data you desire that would better inform your investigations?"
   ]
  },
  {
   "attachments": {},
   "cell_type": "markdown",
   "metadata": {},
   "source": [
    "**Conclusion**\n",
    "\n",
    "- We can conclude from the data statistics and graphs above that there has been increase in the SAT participation rate but the average rate is still lower in comparison to ACT.\n",
    "\n",
    "- In addition to this, few states like Illinois, Colorado, Rode Island has shown significant increase in the participation rate for SAT in 2018.\n",
    "\n",
    "**Recommendations**\n",
    "\n",
    "- It was noticed that participation increased if the students were given fee waiver. Appropriate planning towards minimal fee or fee waiver can improve the participation rate.\n",
    "\n",
    "- North Dakota has the lowest participation rate for both the year 2017 and 2018. But we observed for Illinois and Colorado that the rates increased after they signed the new contract with the College Board. Hence, more states like North Dakota can be engaged in similar contracts to boost the students’ participation rate for SAT. \n",
    "\n",
    "- Possible to make the mathematics portion less text heavy which may encourage a higher take-up rate of students for SAT.\n",
    "    -[reference article](https://mobile.reuters.com/article/amp/idUSKCN11R1V8)"
   ]
  },
  {
   "cell_type": "code",
   "execution_count": null,
   "metadata": {},
   "outputs": [],
   "source": []
  }
 ],
 "metadata": {
  "anaconda-cloud": {},
  "kernelspec": {
   "display_name": "Python 3",
   "language": "python",
   "name": "python3"
  },
  "language_info": {
   "codemirror_mode": {
    "name": "ipython",
    "version": 3
   },
   "file_extension": ".py",
   "mimetype": "text/x-python",
   "name": "python",
   "nbconvert_exporter": "python",
   "pygments_lexer": "ipython3",
   "version": "3.8.5"
  }
 },
 "nbformat": 4,
 "nbformat_minor": 2
}
